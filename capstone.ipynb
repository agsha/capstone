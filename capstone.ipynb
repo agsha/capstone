{
 "cells": [
  {
   "cell_type": "code",
   "execution_count": 1,
   "id": "usual-merit",
   "metadata": {},
   "outputs": [
    {
     "data": {
      "text/plain": [
       "<module 'capstone2' from '/home/sharath/code/capstone/capstone2.py'>"
      ]
     },
     "execution_count": 1,
     "metadata": {},
     "output_type": "execute_result"
    }
   ],
   "source": [
    "from importlib import reload\n",
    "import capstone2 as cp\n",
    "import numpy as np\n",
    "import pandas as pd\n",
    "import plotly.graph_objects as go\n",
    "def plot(x, fn):\n",
    "    y = map(fn, x)\n",
    "    go.Figure(data=go.Scatter(x=list(x), y=list(y))).show()\n",
    "reload(cp)"
   ]
  },
  {
   "cell_type": "code",
   "execution_count": 3,
   "id": "municipal-killer",
   "metadata": {},
   "outputs": [
    {
     "name": "stdout",
     "output_type": "stream",
     "text": [
      "perf:2.5 sz:17.5 mtbf:15000 price:28.0 rndTimeMonths:0.48 profitMargin:1.8543503623949895 revenue:64939402.67107841 sales 2319264.381109943 growthInRev:1.3903073520491218\n"
     ]
    },
    {
     "data": {
      "application/vnd.plotly.v1+json": {
       "config": {
        "plotlyServerURL": "https://plot.ly"
       },
       "data": [
        {
         "mode": "text",
         "text": [
          "A",
          "B",
          "C",
          "D",
          "E"
         ],
         "type": "scatter",
         "x": [
          5.5,
          3,
          8,
          9.4,
          4
         ],
         "y": [
          14.5,
          17,
          12,
          15.5,
          11
         ]
        },
        {
         "mode": "markers",
         "type": "scatter",
         "x": [
          2.5
         ],
         "y": [
          17.5
         ]
        },
        {
         "mode": "text",
         "text": "traditional",
         "type": "scatter",
         "x": [
          5.7
         ],
         "y": [
          14.3
         ]
        },
        {
         "mode": "lines",
         "type": "scatter",
         "x": [
          5.7,
          5.758333333333334,
          5.816666666666667,
          5.875000000000001,
          5.9333333333333345,
          5.991666666666668,
          6.050000000000002,
          6.108333333333335,
          6.166666666666669,
          6.225000000000002,
          6.283333333333336,
          6.3416666666666694,
          6.400000000000003,
          6.458333333333337,
          6.51666666666667,
          6.575000000000004,
          6.633333333333337,
          6.691666666666671,
          6.750000000000004,
          6.808333333333338,
          6.866666666666672,
          6.925000000000005,
          6.983333333333339,
          7.041666666666672
         ],
         "y": [
          14.3,
          14.241666666666667,
          14.183333333333334,
          14.125,
          14.066666666666666,
          14.008333333333333,
          13.95,
          13.891666666666666,
          13.833333333333332,
          13.774999999999999,
          13.716666666666665,
          13.658333333333331,
          13.599999999999998,
          13.541666666666664,
          13.48333333333333,
          13.424999999999997,
          13.366666666666664,
          13.30833333333333,
          13.249999999999996,
          13.191666666666663,
          13.13333333333333,
          13.074999999999996,
          13.016666666666662,
          12.958333333333329
         ]
        },
        {
         "mode": "text",
         "text": "low",
         "type": "scatter",
         "x": [
          3
         ],
         "y": [
          17
         ]
        },
        {
         "mode": "lines",
         "type": "scatter",
         "x": [
          2.2,
          2.2416666666666667,
          2.283333333333333,
          2.3249999999999997,
          2.3666666666666663,
          2.4083333333333328,
          2.4499999999999993,
          2.491666666666666,
          2.5333333333333323,
          2.574999999999999,
          2.6166666666666654,
          2.658333333333332,
          2.6999999999999984,
          2.741666666666665,
          2.7833333333333314,
          2.824999999999998,
          2.8666666666666645,
          2.908333333333331,
          2.9499999999999975,
          2.991666666666664,
          3.0333333333333306,
          3.074999999999997,
          3.1166666666666636,
          3.15833333333333
         ],
         "y": [
          17.8,
          17.758333333333333,
          17.716666666666665,
          17.674999999999997,
          17.63333333333333,
          17.59166666666666,
          17.549999999999994,
          17.508333333333326,
          17.466666666666658,
          17.42499999999999,
          17.383333333333322,
          17.341666666666654,
          17.299999999999986,
          17.25833333333332,
          17.21666666666665,
          17.174999999999983,
          17.133333333333315,
          17.091666666666647,
          17.04999999999998,
          17.00833333333331,
          16.966666666666644,
          16.924999999999976,
          16.883333333333308,
          16.84166666666664
         ]
        },
        {
         "mode": "text",
         "text": "high",
         "type": "scatter",
         "x": [
          7.5
         ],
         "y": [
          12.5
         ]
        },
        {
         "mode": "lines",
         "type": "scatter",
         "x": [
          8.9,
          8.975,
          9.049999999999999,
          9.124999999999998,
          9.199999999999998,
          9.274999999999997,
          9.349999999999996,
          9.424999999999995,
          9.499999999999995,
          9.574999999999994,
          9.649999999999993,
          9.724999999999993,
          9.799999999999992,
          9.874999999999991,
          9.94999999999999,
          10.02499999999999,
          10.099999999999989,
          10.174999999999988,
          10.249999999999988,
          10.324999999999987,
          10.399999999999986,
          10.474999999999985,
          10.549999999999985,
          10.624999999999984
         ],
         "y": [
          11.1,
          11.025,
          10.950000000000001,
          10.875000000000002,
          10.800000000000002,
          10.725000000000003,
          10.650000000000004,
          10.575000000000005,
          10.500000000000005,
          10.425000000000006,
          10.350000000000007,
          10.275000000000007,
          10.200000000000008,
          10.125000000000009,
          10.05000000000001,
          9.97500000000001,
          9.900000000000011,
          9.825000000000012,
          9.750000000000012,
          9.675000000000013,
          9.600000000000014,
          9.525000000000015,
          9.450000000000015,
          9.375000000000016
         ]
        },
        {
         "mode": "text",
         "text": "performance",
         "type": "scatter",
         "x": [
          8
         ],
         "y": [
          17
         ]
        },
        {
         "mode": "lines",
         "type": "scatter",
         "x": [
          9.4,
          9.483333333333334,
          9.566666666666668,
          9.650000000000002,
          9.733333333333336,
          9.81666666666667,
          9.900000000000004,
          9.983333333333338,
          10.066666666666672,
          10.150000000000006,
          10.23333333333334,
          10.316666666666674,
          10.400000000000007,
          10.483333333333341,
          10.566666666666675,
          10.65000000000001,
          10.733333333333343,
          10.816666666666677,
          10.900000000000011,
          10.983333333333345,
          11.066666666666679,
          11.150000000000013,
          11.233333333333347,
          11.31666666666668
         ],
         "y": [
          16,
          15.941666666666666,
          15.883333333333333,
          15.825,
          15.766666666666666,
          15.708333333333332,
          15.649999999999999,
          15.591666666666665,
          15.533333333333331,
          15.474999999999998,
          15.416666666666664,
          15.35833333333333,
          15.299999999999997,
          15.241666666666664,
          15.18333333333333,
          15.124999999999996,
          15.066666666666663,
          15.00833333333333,
          14.949999999999996,
          14.891666666666662,
          14.833333333333329,
          14.774999999999995,
          14.716666666666661,
          14.658333333333328
         ]
        },
        {
         "mode": "text",
         "text": "size",
         "type": "scatter",
         "x": [
          3
         ],
         "y": [
          12
         ]
        },
        {
         "mode": "lines",
         "type": "scatter",
         "x": [
          4,
          4.058333333333334,
          4.116666666666667,
          4.175000000000001,
          4.233333333333334,
          4.291666666666668,
          4.350000000000001,
          4.408333333333335,
          4.466666666666669,
          4.525000000000002,
          4.583333333333336,
          4.641666666666669,
          4.700000000000003,
          4.758333333333336,
          4.81666666666667,
          4.8750000000000036,
          4.933333333333337,
          4.991666666666671,
          5.050000000000004,
          5.108333333333338,
          5.166666666666671,
          5.225000000000005,
          5.2833333333333385,
          5.341666666666672
         ],
         "y": [
          10.6,
          10.516666666666666,
          10.433333333333332,
          10.349999999999998,
          10.266666666666664,
          10.18333333333333,
          10.099999999999996,
          10.016666666666662,
          9.933333333333328,
          9.849999999999994,
          9.76666666666666,
          9.683333333333326,
          9.599999999999993,
          9.516666666666659,
          9.433333333333325,
          9.34999999999999,
          9.266666666666657,
          9.183333333333323,
          9.099999999999989,
          9.016666666666655,
          8.933333333333321,
          8.849999999999987,
          8.766666666666653,
          8.68333333333332
         ]
        }
       ],
       "layout": {
        "height": 800,
        "shapes": [
         {
          "line": {
           "color": "LightSeaGreen"
          },
          "type": "circle",
          "x0": 3.2,
          "x1": 8.2,
          "xref": "x",
          "y0": 11.8,
          "y1": 16.8,
          "yref": "y"
         },
         {
          "line": {
           "color": "LightSeaGreen"
          },
          "type": "circle",
          "x0": 0.5,
          "x1": 5.5,
          "xref": "x",
          "y0": 14.5,
          "y1": 19.5,
          "yref": "y"
         },
         {
          "line": {
           "color": "LightSeaGreen"
          },
          "type": "circle",
          "x0": 5,
          "x1": 10,
          "xref": "x",
          "y0": 10,
          "y1": 15,
          "yref": "y"
         },
         {
          "line": {
           "color": "LightSeaGreen"
          },
          "type": "circle",
          "x0": 5.5,
          "x1": 10.5,
          "xref": "x",
          "y0": 14.5,
          "y1": 19.5,
          "yref": "y"
         },
         {
          "line": {
           "color": "LightSeaGreen"
          },
          "type": "circle",
          "x0": 0.5,
          "x1": 5.5,
          "xref": "x",
          "y0": 9.5,
          "y1": 14.5,
          "yref": "y"
         }
        ],
        "template": {
         "data": {
          "bar": [
           {
            "error_x": {
             "color": "#2a3f5f"
            },
            "error_y": {
             "color": "#2a3f5f"
            },
            "marker": {
             "line": {
              "color": "#E5ECF6",
              "width": 0.5
             }
            },
            "type": "bar"
           }
          ],
          "barpolar": [
           {
            "marker": {
             "line": {
              "color": "#E5ECF6",
              "width": 0.5
             }
            },
            "type": "barpolar"
           }
          ],
          "carpet": [
           {
            "aaxis": {
             "endlinecolor": "#2a3f5f",
             "gridcolor": "white",
             "linecolor": "white",
             "minorgridcolor": "white",
             "startlinecolor": "#2a3f5f"
            },
            "baxis": {
             "endlinecolor": "#2a3f5f",
             "gridcolor": "white",
             "linecolor": "white",
             "minorgridcolor": "white",
             "startlinecolor": "#2a3f5f"
            },
            "type": "carpet"
           }
          ],
          "choropleth": [
           {
            "colorbar": {
             "outlinewidth": 0,
             "ticks": ""
            },
            "type": "choropleth"
           }
          ],
          "contour": [
           {
            "colorbar": {
             "outlinewidth": 0,
             "ticks": ""
            },
            "colorscale": [
             [
              0,
              "#0d0887"
             ],
             [
              0.1111111111111111,
              "#46039f"
             ],
             [
              0.2222222222222222,
              "#7201a8"
             ],
             [
              0.3333333333333333,
              "#9c179e"
             ],
             [
              0.4444444444444444,
              "#bd3786"
             ],
             [
              0.5555555555555556,
              "#d8576b"
             ],
             [
              0.6666666666666666,
              "#ed7953"
             ],
             [
              0.7777777777777778,
              "#fb9f3a"
             ],
             [
              0.8888888888888888,
              "#fdca26"
             ],
             [
              1,
              "#f0f921"
             ]
            ],
            "type": "contour"
           }
          ],
          "contourcarpet": [
           {
            "colorbar": {
             "outlinewidth": 0,
             "ticks": ""
            },
            "type": "contourcarpet"
           }
          ],
          "heatmap": [
           {
            "colorbar": {
             "outlinewidth": 0,
             "ticks": ""
            },
            "colorscale": [
             [
              0,
              "#0d0887"
             ],
             [
              0.1111111111111111,
              "#46039f"
             ],
             [
              0.2222222222222222,
              "#7201a8"
             ],
             [
              0.3333333333333333,
              "#9c179e"
             ],
             [
              0.4444444444444444,
              "#bd3786"
             ],
             [
              0.5555555555555556,
              "#d8576b"
             ],
             [
              0.6666666666666666,
              "#ed7953"
             ],
             [
              0.7777777777777778,
              "#fb9f3a"
             ],
             [
              0.8888888888888888,
              "#fdca26"
             ],
             [
              1,
              "#f0f921"
             ]
            ],
            "type": "heatmap"
           }
          ],
          "heatmapgl": [
           {
            "colorbar": {
             "outlinewidth": 0,
             "ticks": ""
            },
            "colorscale": [
             [
              0,
              "#0d0887"
             ],
             [
              0.1111111111111111,
              "#46039f"
             ],
             [
              0.2222222222222222,
              "#7201a8"
             ],
             [
              0.3333333333333333,
              "#9c179e"
             ],
             [
              0.4444444444444444,
              "#bd3786"
             ],
             [
              0.5555555555555556,
              "#d8576b"
             ],
             [
              0.6666666666666666,
              "#ed7953"
             ],
             [
              0.7777777777777778,
              "#fb9f3a"
             ],
             [
              0.8888888888888888,
              "#fdca26"
             ],
             [
              1,
              "#f0f921"
             ]
            ],
            "type": "heatmapgl"
           }
          ],
          "histogram": [
           {
            "marker": {
             "colorbar": {
              "outlinewidth": 0,
              "ticks": ""
             }
            },
            "type": "histogram"
           }
          ],
          "histogram2d": [
           {
            "colorbar": {
             "outlinewidth": 0,
             "ticks": ""
            },
            "colorscale": [
             [
              0,
              "#0d0887"
             ],
             [
              0.1111111111111111,
              "#46039f"
             ],
             [
              0.2222222222222222,
              "#7201a8"
             ],
             [
              0.3333333333333333,
              "#9c179e"
             ],
             [
              0.4444444444444444,
              "#bd3786"
             ],
             [
              0.5555555555555556,
              "#d8576b"
             ],
             [
              0.6666666666666666,
              "#ed7953"
             ],
             [
              0.7777777777777778,
              "#fb9f3a"
             ],
             [
              0.8888888888888888,
              "#fdca26"
             ],
             [
              1,
              "#f0f921"
             ]
            ],
            "type": "histogram2d"
           }
          ],
          "histogram2dcontour": [
           {
            "colorbar": {
             "outlinewidth": 0,
             "ticks": ""
            },
            "colorscale": [
             [
              0,
              "#0d0887"
             ],
             [
              0.1111111111111111,
              "#46039f"
             ],
             [
              0.2222222222222222,
              "#7201a8"
             ],
             [
              0.3333333333333333,
              "#9c179e"
             ],
             [
              0.4444444444444444,
              "#bd3786"
             ],
             [
              0.5555555555555556,
              "#d8576b"
             ],
             [
              0.6666666666666666,
              "#ed7953"
             ],
             [
              0.7777777777777778,
              "#fb9f3a"
             ],
             [
              0.8888888888888888,
              "#fdca26"
             ],
             [
              1,
              "#f0f921"
             ]
            ],
            "type": "histogram2dcontour"
           }
          ],
          "mesh3d": [
           {
            "colorbar": {
             "outlinewidth": 0,
             "ticks": ""
            },
            "type": "mesh3d"
           }
          ],
          "parcoords": [
           {
            "line": {
             "colorbar": {
              "outlinewidth": 0,
              "ticks": ""
             }
            },
            "type": "parcoords"
           }
          ],
          "pie": [
           {
            "automargin": true,
            "type": "pie"
           }
          ],
          "scatter": [
           {
            "marker": {
             "colorbar": {
              "outlinewidth": 0,
              "ticks": ""
             }
            },
            "type": "scatter"
           }
          ],
          "scatter3d": [
           {
            "line": {
             "colorbar": {
              "outlinewidth": 0,
              "ticks": ""
             }
            },
            "marker": {
             "colorbar": {
              "outlinewidth": 0,
              "ticks": ""
             }
            },
            "type": "scatter3d"
           }
          ],
          "scattercarpet": [
           {
            "marker": {
             "colorbar": {
              "outlinewidth": 0,
              "ticks": ""
             }
            },
            "type": "scattercarpet"
           }
          ],
          "scattergeo": [
           {
            "marker": {
             "colorbar": {
              "outlinewidth": 0,
              "ticks": ""
             }
            },
            "type": "scattergeo"
           }
          ],
          "scattergl": [
           {
            "marker": {
             "colorbar": {
              "outlinewidth": 0,
              "ticks": ""
             }
            },
            "type": "scattergl"
           }
          ],
          "scattermapbox": [
           {
            "marker": {
             "colorbar": {
              "outlinewidth": 0,
              "ticks": ""
             }
            },
            "type": "scattermapbox"
           }
          ],
          "scatterpolar": [
           {
            "marker": {
             "colorbar": {
              "outlinewidth": 0,
              "ticks": ""
             }
            },
            "type": "scatterpolar"
           }
          ],
          "scatterpolargl": [
           {
            "marker": {
             "colorbar": {
              "outlinewidth": 0,
              "ticks": ""
             }
            },
            "type": "scatterpolargl"
           }
          ],
          "scatterternary": [
           {
            "marker": {
             "colorbar": {
              "outlinewidth": 0,
              "ticks": ""
             }
            },
            "type": "scatterternary"
           }
          ],
          "surface": [
           {
            "colorbar": {
             "outlinewidth": 0,
             "ticks": ""
            },
            "colorscale": [
             [
              0,
              "#0d0887"
             ],
             [
              0.1111111111111111,
              "#46039f"
             ],
             [
              0.2222222222222222,
              "#7201a8"
             ],
             [
              0.3333333333333333,
              "#9c179e"
             ],
             [
              0.4444444444444444,
              "#bd3786"
             ],
             [
              0.5555555555555556,
              "#d8576b"
             ],
             [
              0.6666666666666666,
              "#ed7953"
             ],
             [
              0.7777777777777778,
              "#fb9f3a"
             ],
             [
              0.8888888888888888,
              "#fdca26"
             ],
             [
              1,
              "#f0f921"
             ]
            ],
            "type": "surface"
           }
          ],
          "table": [
           {
            "cells": {
             "fill": {
              "color": "#EBF0F8"
             },
             "line": {
              "color": "white"
             }
            },
            "header": {
             "fill": {
              "color": "#C8D4E3"
             },
             "line": {
              "color": "white"
             }
            },
            "type": "table"
           }
          ]
         },
         "layout": {
          "annotationdefaults": {
           "arrowcolor": "#2a3f5f",
           "arrowhead": 0,
           "arrowwidth": 1
          },
          "autotypenumbers": "strict",
          "coloraxis": {
           "colorbar": {
            "outlinewidth": 0,
            "ticks": ""
           }
          },
          "colorscale": {
           "diverging": [
            [
             0,
             "#8e0152"
            ],
            [
             0.1,
             "#c51b7d"
            ],
            [
             0.2,
             "#de77ae"
            ],
            [
             0.3,
             "#f1b6da"
            ],
            [
             0.4,
             "#fde0ef"
            ],
            [
             0.5,
             "#f7f7f7"
            ],
            [
             0.6,
             "#e6f5d0"
            ],
            [
             0.7,
             "#b8e186"
            ],
            [
             0.8,
             "#7fbc41"
            ],
            [
             0.9,
             "#4d9221"
            ],
            [
             1,
             "#276419"
            ]
           ],
           "sequential": [
            [
             0,
             "#0d0887"
            ],
            [
             0.1111111111111111,
             "#46039f"
            ],
            [
             0.2222222222222222,
             "#7201a8"
            ],
            [
             0.3333333333333333,
             "#9c179e"
            ],
            [
             0.4444444444444444,
             "#bd3786"
            ],
            [
             0.5555555555555556,
             "#d8576b"
            ],
            [
             0.6666666666666666,
             "#ed7953"
            ],
            [
             0.7777777777777778,
             "#fb9f3a"
            ],
            [
             0.8888888888888888,
             "#fdca26"
            ],
            [
             1,
             "#f0f921"
            ]
           ],
           "sequentialminus": [
            [
             0,
             "#0d0887"
            ],
            [
             0.1111111111111111,
             "#46039f"
            ],
            [
             0.2222222222222222,
             "#7201a8"
            ],
            [
             0.3333333333333333,
             "#9c179e"
            ],
            [
             0.4444444444444444,
             "#bd3786"
            ],
            [
             0.5555555555555556,
             "#d8576b"
            ],
            [
             0.6666666666666666,
             "#ed7953"
            ],
            [
             0.7777777777777778,
             "#fb9f3a"
            ],
            [
             0.8888888888888888,
             "#fdca26"
            ],
            [
             1,
             "#f0f921"
            ]
           ]
          },
          "colorway": [
           "#636efa",
           "#EF553B",
           "#00cc96",
           "#ab63fa",
           "#FFA15A",
           "#19d3f3",
           "#FF6692",
           "#B6E880",
           "#FF97FF",
           "#FECB52"
          ],
          "font": {
           "color": "#2a3f5f"
          },
          "geo": {
           "bgcolor": "white",
           "lakecolor": "white",
           "landcolor": "#E5ECF6",
           "showlakes": true,
           "showland": true,
           "subunitcolor": "white"
          },
          "hoverlabel": {
           "align": "left"
          },
          "hovermode": "closest",
          "mapbox": {
           "style": "light"
          },
          "paper_bgcolor": "white",
          "plot_bgcolor": "#E5ECF6",
          "polar": {
           "angularaxis": {
            "gridcolor": "white",
            "linecolor": "white",
            "ticks": ""
           },
           "bgcolor": "#E5ECF6",
           "radialaxis": {
            "gridcolor": "white",
            "linecolor": "white",
            "ticks": ""
           }
          },
          "scene": {
           "xaxis": {
            "backgroundcolor": "#E5ECF6",
            "gridcolor": "white",
            "gridwidth": 2,
            "linecolor": "white",
            "showbackground": true,
            "ticks": "",
            "zerolinecolor": "white"
           },
           "yaxis": {
            "backgroundcolor": "#E5ECF6",
            "gridcolor": "white",
            "gridwidth": 2,
            "linecolor": "white",
            "showbackground": true,
            "ticks": "",
            "zerolinecolor": "white"
           },
           "zaxis": {
            "backgroundcolor": "#E5ECF6",
            "gridcolor": "white",
            "gridwidth": 2,
            "linecolor": "white",
            "showbackground": true,
            "ticks": "",
            "zerolinecolor": "white"
           }
          },
          "shapedefaults": {
           "line": {
            "color": "#2a3f5f"
           }
          },
          "ternary": {
           "aaxis": {
            "gridcolor": "white",
            "linecolor": "white",
            "ticks": ""
           },
           "baxis": {
            "gridcolor": "white",
            "linecolor": "white",
            "ticks": ""
           },
           "bgcolor": "#E5ECF6",
           "caxis": {
            "gridcolor": "white",
            "linecolor": "white",
            "ticks": ""
           }
          },
          "title": {
           "x": 0.05
          },
          "xaxis": {
           "automargin": true,
           "gridcolor": "white",
           "linecolor": "white",
           "ticks": "",
           "title": {
            "standoff": 15
           },
           "zerolinecolor": "white",
           "zerolinewidth": 2
          },
          "yaxis": {
           "automargin": true,
           "gridcolor": "white",
           "linecolor": "white",
           "ticks": "",
           "title": {
            "standoff": 15
           },
           "zerolinecolor": "white",
           "zerolinewidth": 2
          }
         }
        },
        "width": 800,
        "xaxis": {
         "range": [
          0,
          20
         ],
         "type": "linear"
        },
        "yaxis": {
         "range": [
          0,
          20
         ],
         "type": "linear"
        }
       }
      },
      "image/png": "[encoded data removed]",
      "text/html": [
       "<div>                            <div id=\"49aa6a60-fc4c-43d2-8d05-a88676dba72a\" class=\"plotly-graph-div\" style=\"height:800px; width:800px;\"></div>            <script type=\"text/javascript\">                require([\"plotly\"], function(Plotly) {                    window.PLOTLYENV=window.PLOTLYENV || {};                                    if (document.getElementById(\"49aa6a60-fc4c-43d2-8d05-a88676dba72a\")) {                    Plotly.newPlot(                        \"49aa6a60-fc4c-43d2-8d05-a88676dba72a\",                        [{\"mode\": \"text\", \"text\": [\"A\", \"B\", \"C\", \"D\", \"E\"], \"type\": \"scatter\", \"x\": [5.5, 3, 8, 9.4, 4], \"y\": [14.5, 17, 12, 15.5, 11]}, {\"mode\": \"markers\", \"type\": \"scatter\", \"x\": [2.5], \"y\": [17.5]}, {\"mode\": \"text\", \"text\": \"traditional\", \"type\": \"scatter\", \"x\": [5.7], \"y\": [14.3]}, {\"mode\": \"lines\", \"type\": \"scatter\", \"x\": [5.7, 5.758333333333334, 5.816666666666667, 5.875000000000001, 5.9333333333333345, 5.991666666666668, 6.050000000000002, 6.108333333333335, 6.166666666666669, 6.225000000000002, 6.283333333333336, 6.3416666666666694, 6.400000000000003, 6.458333333333337, 6.51666666666667, 6.575000000000004, 6.633333333333337, 6.691666666666671, 6.750000000000004, 6.808333333333338, 6.866666666666672, 6.925000000000005, 6.983333333333339, 7.041666666666672], \"y\": [14.3, 14.241666666666667, 14.183333333333334, 14.125, 14.066666666666666, 14.008333333333333, 13.95, 13.891666666666666, 13.833333333333332, 13.774999999999999, 13.716666666666665, 13.658333333333331, 13.599999999999998, 13.541666666666664, 13.48333333333333, 13.424999999999997, 13.366666666666664, 13.30833333333333, 13.249999999999996, 13.191666666666663, 13.13333333333333, 13.074999999999996, 13.016666666666662, 12.958333333333329]}, {\"mode\": \"text\", \"text\": \"low\", \"type\": \"scatter\", \"x\": [3], \"y\": [17]}, {\"mode\": \"lines\", \"type\": \"scatter\", \"x\": [2.2, 2.2416666666666667, 2.283333333333333, 2.3249999999999997, 2.3666666666666663, 2.4083333333333328, 2.4499999999999993, 2.491666666666666, 2.5333333333333323, 2.574999999999999, 2.6166666666666654, 2.658333333333332, 2.6999999999999984, 2.741666666666665, 2.7833333333333314, 2.824999999999998, 2.8666666666666645, 2.908333333333331, 2.9499999999999975, 2.991666666666664, 3.0333333333333306, 3.074999999999997, 3.1166666666666636, 3.15833333333333], \"y\": [17.8, 17.758333333333333, 17.716666666666665, 17.674999999999997, 17.63333333333333, 17.59166666666666, 17.549999999999994, 17.508333333333326, 17.466666666666658, 17.42499999999999, 17.383333333333322, 17.341666666666654, 17.299999999999986, 17.25833333333332, 17.21666666666665, 17.174999999999983, 17.133333333333315, 17.091666666666647, 17.04999999999998, 17.00833333333331, 16.966666666666644, 16.924999999999976, 16.883333333333308, 16.84166666666664]}, {\"mode\": \"text\", \"text\": \"high\", \"type\": \"scatter\", \"x\": [7.5], \"y\": [12.5]}, {\"mode\": \"lines\", \"type\": \"scatter\", \"x\": [8.9, 8.975, 9.049999999999999, 9.124999999999998, 9.199999999999998, 9.274999999999997, 9.349999999999996, 9.424999999999995, 9.499999999999995, 9.574999999999994, 9.649999999999993, 9.724999999999993, 9.799999999999992, 9.874999999999991, 9.94999999999999, 10.02499999999999, 10.099999999999989, 10.174999999999988, 10.249999999999988, 10.324999999999987, 10.399999999999986, 10.474999999999985, 10.549999999999985, 10.624999999999984], \"y\": [11.1, 11.025, 10.950000000000001, 10.875000000000002, 10.800000000000002, 10.725000000000003, 10.650000000000004, 10.575000000000005, 10.500000000000005, 10.425000000000006, 10.350000000000007, 10.275000000000007, 10.200000000000008, 10.125000000000009, 10.05000000000001, 9.97500000000001, 9.900000000000011, 9.825000000000012, 9.750000000000012, 9.675000000000013, 9.600000000000014, 9.525000000000015, 9.450000000000015, 9.375000000000016]}, {\"mode\": \"text\", \"text\": \"performance\", \"type\": \"scatter\", \"x\": [8.0], \"y\": [17.0]}, {\"mode\": \"lines\", \"type\": \"scatter\", \"x\": [9.4, 9.483333333333334, 9.566666666666668, 9.650000000000002, 9.733333333333336, 9.81666666666667, 9.900000000000004, 9.983333333333338, 10.066666666666672, 10.150000000000006, 10.23333333333334, 10.316666666666674, 10.400000000000007, 10.483333333333341, 10.566666666666675, 10.65000000000001, 10.733333333333343, 10.816666666666677, 10.900000000000011, 10.983333333333345, 11.066666666666679, 11.150000000000013, 11.233333333333347, 11.31666666666668], \"y\": [16.0, 15.941666666666666, 15.883333333333333, 15.825, 15.766666666666666, 15.708333333333332, 15.649999999999999, 15.591666666666665, 15.533333333333331, 15.474999999999998, 15.416666666666664, 15.35833333333333, 15.299999999999997, 15.241666666666664, 15.18333333333333, 15.124999999999996, 15.066666666666663, 15.00833333333333, 14.949999999999996, 14.891666666666662, 14.833333333333329, 14.774999999999995, 14.716666666666661, 14.658333333333328]}, {\"mode\": \"text\", \"text\": \"size\", \"type\": \"scatter\", \"x\": [3.0], \"y\": [12.0]}, {\"mode\": \"lines\", \"type\": \"scatter\", \"x\": [4.0, 4.058333333333334, 4.116666666666667, 4.175000000000001, 4.233333333333334, 4.291666666666668, 4.350000000000001, 4.408333333333335, 4.466666666666669, 4.525000000000002, 4.583333333333336, 4.641666666666669, 4.700000000000003, 4.758333333333336, 4.81666666666667, 4.8750000000000036, 4.933333333333337, 4.991666666666671, 5.050000000000004, 5.108333333333338, 5.166666666666671, 5.225000000000005, 5.2833333333333385, 5.341666666666672], \"y\": [10.6, 10.516666666666666, 10.433333333333332, 10.349999999999998, 10.266666666666664, 10.18333333333333, 10.099999999999996, 10.016666666666662, 9.933333333333328, 9.849999999999994, 9.76666666666666, 9.683333333333326, 9.599999999999993, 9.516666666666659, 9.433333333333325, 9.34999999999999, 9.266666666666657, 9.183333333333323, 9.099999999999989, 9.016666666666655, 8.933333333333321, 8.849999999999987, 8.766666666666653, 8.68333333333332]}],                        {\"height\": 800, \"shapes\": [{\"line\": {\"color\": \"LightSeaGreen\"}, \"type\": \"circle\", \"x0\": 3.2, \"x1\": 8.2, \"xref\": \"x\", \"y0\": 11.8, \"y1\": 16.8, \"yref\": \"y\"}, {\"line\": {\"color\": \"LightSeaGreen\"}, \"type\": \"circle\", \"x0\": 0.5, \"x1\": 5.5, \"xref\": \"x\", \"y0\": 14.5, \"y1\": 19.5, \"yref\": \"y\"}, {\"line\": {\"color\": \"LightSeaGreen\"}, \"type\": \"circle\", \"x0\": 5.0, \"x1\": 10.0, \"xref\": \"x\", \"y0\": 10.0, \"y1\": 15.0, \"yref\": \"y\"}, {\"line\": {\"color\": \"LightSeaGreen\"}, \"type\": \"circle\", \"x0\": 5.5, \"x1\": 10.5, \"xref\": \"x\", \"y0\": 14.5, \"y1\": 19.5, \"yref\": \"y\"}, {\"line\": {\"color\": \"LightSeaGreen\"}, \"type\": \"circle\", \"x0\": 0.5, \"x1\": 5.5, \"xref\": \"x\", \"y0\": 9.5, \"y1\": 14.5, \"yref\": \"y\"}], \"template\": {\"data\": {\"bar\": [{\"error_x\": {\"color\": \"#2a3f5f\"}, \"error_y\": {\"color\": \"#2a3f5f\"}, \"marker\": {\"line\": {\"color\": \"#E5ECF6\", \"width\": 0.5}}, \"type\": \"bar\"}], \"barpolar\": [{\"marker\": {\"line\": {\"color\": \"#E5ECF6\", \"width\": 0.5}}, \"type\": \"barpolar\"}], \"carpet\": [{\"aaxis\": {\"endlinecolor\": \"#2a3f5f\", \"gridcolor\": \"white\", \"linecolor\": \"white\", \"minorgridcolor\": \"white\", \"startlinecolor\": \"#2a3f5f\"}, \"baxis\": {\"endlinecolor\": \"#2a3f5f\", \"gridcolor\": \"white\", \"linecolor\": \"white\", \"minorgridcolor\": \"white\", \"startlinecolor\": \"#2a3f5f\"}, \"type\": \"carpet\"}], \"choropleth\": [{\"colorbar\": {\"outlinewidth\": 0, \"ticks\": \"\"}, \"type\": \"choropleth\"}], \"contour\": [{\"colorbar\": {\"outlinewidth\": 0, \"ticks\": \"\"}, \"colorscale\": [[0.0, \"#0d0887\"], [0.1111111111111111, \"#46039f\"], [0.2222222222222222, \"#7201a8\"], [0.3333333333333333, \"#9c179e\"], [0.4444444444444444, \"#bd3786\"], [0.5555555555555556, \"#d8576b\"], [0.6666666666666666, \"#ed7953\"], [0.7777777777777778, \"#fb9f3a\"], [0.8888888888888888, \"#fdca26\"], [1.0, \"#f0f921\"]], \"type\": \"contour\"}], \"contourcarpet\": [{\"colorbar\": {\"outlinewidth\": 0, \"ticks\": \"\"}, \"type\": \"contourcarpet\"}], \"heatmap\": [{\"colorbar\": {\"outlinewidth\": 0, \"ticks\": \"\"}, \"colorscale\": [[0.0, \"#0d0887\"], [0.1111111111111111, \"#46039f\"], [0.2222222222222222, \"#7201a8\"], [0.3333333333333333, \"#9c179e\"], [0.4444444444444444, \"#bd3786\"], [0.5555555555555556, \"#d8576b\"], [0.6666666666666666, \"#ed7953\"], [0.7777777777777778, \"#fb9f3a\"], [0.8888888888888888, \"#fdca26\"], [1.0, \"#f0f921\"]], \"type\": \"heatmap\"}], \"heatmapgl\": [{\"colorbar\": {\"outlinewidth\": 0, \"ticks\": \"\"}, \"colorscale\": [[0.0, \"#0d0887\"], [0.1111111111111111, \"#46039f\"], [0.2222222222222222, \"#7201a8\"], [0.3333333333333333, \"#9c179e\"], [0.4444444444444444, \"#bd3786\"], [0.5555555555555556, \"#d8576b\"], [0.6666666666666666, \"#ed7953\"], [0.7777777777777778, \"#fb9f3a\"], [0.8888888888888888, \"#fdca26\"], [1.0, \"#f0f921\"]], \"type\": \"heatmapgl\"}], \"histogram\": [{\"marker\": {\"colorbar\": {\"outlinewidth\": 0, \"ticks\": \"\"}}, \"type\": \"histogram\"}], \"histogram2d\": [{\"colorbar\": {\"outlinewidth\": 0, \"ticks\": \"\"}, \"colorscale\": [[0.0, \"#0d0887\"], [0.1111111111111111, \"#46039f\"], [0.2222222222222222, \"#7201a8\"], [0.3333333333333333, \"#9c179e\"], [0.4444444444444444, \"#bd3786\"], [0.5555555555555556, \"#d8576b\"], [0.6666666666666666, \"#ed7953\"], [0.7777777777777778, \"#fb9f3a\"], [0.8888888888888888, \"#fdca26\"], [1.0, \"#f0f921\"]], \"type\": \"histogram2d\"}], \"histogram2dcontour\": [{\"colorbar\": {\"outlinewidth\": 0, \"ticks\": \"\"}, \"colorscale\": [[0.0, \"#0d0887\"], [0.1111111111111111, \"#46039f\"], [0.2222222222222222, \"#7201a8\"], [0.3333333333333333, \"#9c179e\"], [0.4444444444444444, \"#bd3786\"], [0.5555555555555556, \"#d8576b\"], [0.6666666666666666, \"#ed7953\"], [0.7777777777777778, \"#fb9f3a\"], [0.8888888888888888, \"#fdca26\"], [1.0, \"#f0f921\"]], \"type\": \"histogram2dcontour\"}], \"mesh3d\": [{\"colorbar\": {\"outlinewidth\": 0, \"ticks\": \"\"}, \"type\": \"mesh3d\"}], \"parcoords\": [{\"line\": {\"colorbar\": {\"outlinewidth\": 0, \"ticks\": \"\"}}, \"type\": \"parcoords\"}], \"pie\": [{\"automargin\": true, \"type\": \"pie\"}], \"scatter\": [{\"marker\": {\"colorbar\": {\"outlinewidth\": 0, \"ticks\": \"\"}}, \"type\": \"scatter\"}], \"scatter3d\": [{\"line\": {\"colorbar\": {\"outlinewidth\": 0, \"ticks\": \"\"}}, \"marker\": {\"colorbar\": {\"outlinewidth\": 0, \"ticks\": \"\"}}, \"type\": \"scatter3d\"}], \"scattercarpet\": [{\"marker\": {\"colorbar\": {\"outlinewidth\": 0, \"ticks\": \"\"}}, \"type\": \"scattercarpet\"}], \"scattergeo\": [{\"marker\": {\"colorbar\": {\"outlinewidth\": 0, \"ticks\": \"\"}}, \"type\": \"scattergeo\"}], \"scattergl\": [{\"marker\": {\"colorbar\": {\"outlinewidth\": 0, \"ticks\": \"\"}}, \"type\": \"scattergl\"}], \"scattermapbox\": [{\"marker\": {\"colorbar\": {\"outlinewidth\": 0, \"ticks\": \"\"}}, \"type\": \"scattermapbox\"}], \"scatterpolar\": [{\"marker\": {\"colorbar\": {\"outlinewidth\": 0, \"ticks\": \"\"}}, \"type\": \"scatterpolar\"}], \"scatterpolargl\": [{\"marker\": {\"colorbar\": {\"outlinewidth\": 0, \"ticks\": \"\"}}, \"type\": \"scatterpolargl\"}], \"scatterternary\": [{\"marker\": {\"colorbar\": {\"outlinewidth\": 0, \"ticks\": \"\"}}, \"type\": \"scatterternary\"}], \"surface\": [{\"colorbar\": {\"outlinewidth\": 0, \"ticks\": \"\"}, \"colorscale\": [[0.0, \"#0d0887\"], [0.1111111111111111, \"#46039f\"], [0.2222222222222222, \"#7201a8\"], [0.3333333333333333, \"#9c179e\"], [0.4444444444444444, \"#bd3786\"], [0.5555555555555556, \"#d8576b\"], [0.6666666666666666, \"#ed7953\"], [0.7777777777777778, \"#fb9f3a\"], [0.8888888888888888, \"#fdca26\"], [1.0, \"#f0f921\"]], \"type\": \"surface\"}], \"table\": [{\"cells\": {\"fill\": {\"color\": \"#EBF0F8\"}, \"line\": {\"color\": \"white\"}}, \"header\": {\"fill\": {\"color\": \"#C8D4E3\"}, \"line\": {\"color\": \"white\"}}, \"type\": \"table\"}]}, \"layout\": {\"annotationdefaults\": {\"arrowcolor\": \"#2a3f5f\", \"arrowhead\": 0, \"arrowwidth\": 1}, \"autotypenumbers\": \"strict\", \"coloraxis\": {\"colorbar\": {\"outlinewidth\": 0, \"ticks\": \"\"}}, \"colorscale\": {\"diverging\": [[0, \"#8e0152\"], [0.1, \"#c51b7d\"], [0.2, \"#de77ae\"], [0.3, \"#f1b6da\"], [0.4, \"#fde0ef\"], [0.5, \"#f7f7f7\"], [0.6, \"#e6f5d0\"], [0.7, \"#b8e186\"], [0.8, \"#7fbc41\"], [0.9, \"#4d9221\"], [1, \"#276419\"]], \"sequential\": [[0.0, \"#0d0887\"], [0.1111111111111111, \"#46039f\"], [0.2222222222222222, \"#7201a8\"], [0.3333333333333333, \"#9c179e\"], [0.4444444444444444, \"#bd3786\"], [0.5555555555555556, \"#d8576b\"], [0.6666666666666666, \"#ed7953\"], [0.7777777777777778, \"#fb9f3a\"], [0.8888888888888888, \"#fdca26\"], [1.0, \"#f0f921\"]], \"sequentialminus\": [[0.0, \"#0d0887\"], [0.1111111111111111, \"#46039f\"], [0.2222222222222222, \"#7201a8\"], [0.3333333333333333, \"#9c179e\"], [0.4444444444444444, \"#bd3786\"], [0.5555555555555556, \"#d8576b\"], [0.6666666666666666, \"#ed7953\"], [0.7777777777777778, \"#fb9f3a\"], [0.8888888888888888, \"#fdca26\"], [1.0, \"#f0f921\"]]}, \"colorway\": [\"#636efa\", \"#EF553B\", \"#00cc96\", \"#ab63fa\", \"#FFA15A\", \"#19d3f3\", \"#FF6692\", \"#B6E880\", \"#FF97FF\", \"#FECB52\"], \"font\": {\"color\": \"#2a3f5f\"}, \"geo\": {\"bgcolor\": \"white\", \"lakecolor\": \"white\", \"landcolor\": \"#E5ECF6\", \"showlakes\": true, \"showland\": true, \"subunitcolor\": \"white\"}, \"hoverlabel\": {\"align\": \"left\"}, \"hovermode\": \"closest\", \"mapbox\": {\"style\": \"light\"}, \"paper_bgcolor\": \"white\", \"plot_bgcolor\": \"#E5ECF6\", \"polar\": {\"angularaxis\": {\"gridcolor\": \"white\", \"linecolor\": \"white\", \"ticks\": \"\"}, \"bgcolor\": \"#E5ECF6\", \"radialaxis\": {\"gridcolor\": \"white\", \"linecolor\": \"white\", \"ticks\": \"\"}}, \"scene\": {\"xaxis\": {\"backgroundcolor\": \"#E5ECF6\", \"gridcolor\": \"white\", \"gridwidth\": 2, \"linecolor\": \"white\", \"showbackground\": true, \"ticks\": \"\", \"zerolinecolor\": \"white\"}, \"yaxis\": {\"backgroundcolor\": \"#E5ECF6\", \"gridcolor\": \"white\", \"gridwidth\": 2, \"linecolor\": \"white\", \"showbackground\": true, \"ticks\": \"\", \"zerolinecolor\": \"white\"}, \"zaxis\": {\"backgroundcolor\": \"#E5ECF6\", \"gridcolor\": \"white\", \"gridwidth\": 2, \"linecolor\": \"white\", \"showbackground\": true, \"ticks\": \"\", \"zerolinecolor\": \"white\"}}, \"shapedefaults\": {\"line\": {\"color\": \"#2a3f5f\"}}, \"ternary\": {\"aaxis\": {\"gridcolor\": \"white\", \"linecolor\": \"white\", \"ticks\": \"\"}, \"baxis\": {\"gridcolor\": \"white\", \"linecolor\": \"white\", \"ticks\": \"\"}, \"bgcolor\": \"#E5ECF6\", \"caxis\": {\"gridcolor\": \"white\", \"linecolor\": \"white\", \"ticks\": \"\"}}, \"title\": {\"x\": 0.05}, \"xaxis\": {\"automargin\": true, \"gridcolor\": \"white\", \"linecolor\": \"white\", \"ticks\": \"\", \"title\": {\"standoff\": 15}, \"zerolinecolor\": \"white\", \"zerolinewidth\": 2}, \"yaxis\": {\"automargin\": true, \"gridcolor\": \"white\", \"linecolor\": \"white\", \"ticks\": \"\", \"title\": {\"standoff\": 15}, \"zerolinecolor\": \"white\", \"zerolinewidth\": 2}}}, \"width\": 800, \"xaxis\": {\"range\": [0, 20]}, \"yaxis\": {\"range\": [0, 20]}},                        {\"responsive\": true}                    ).then(function(){\n",
       "                            \n",
       "var gd = document.getElementById('49aa6a60-fc4c-43d2-8d05-a88676dba72a');\n",
       "var x = new MutationObserver(function (mutations, observer) {{\n",
       "        var display = window.getComputedStyle(gd).display;\n",
       "        if (!display || display === 'none') {{\n",
       "            console.log([gd, 'removed!']);\n",
       "            Plotly.purge(gd);\n",
       "            observer.disconnect();\n",
       "        }}\n",
       "}});\n",
       "\n",
       "// Listen for the removal of the full notebook cells\n",
       "var notebookContainer = gd.closest('#notebook-container');\n",
       "if (notebookContainer) {{\n",
       "    x.observe(notebookContainer, {childList: true});\n",
       "}}\n",
       "\n",
       "// Listen for the clearing of the current output cell\n",
       "var outputEl = gd.closest('.output');\n",
       "if (outputEl) {{\n",
       "    x.observe(outputEl, {childList: true});\n",
       "}}\n",
       "\n",
       "                        })                };                });            </script>        </div>"
      ]
     },
     "metadata": {},
     "output_type": "display_data"
    }
   ],
   "source": [
    "reload(cp)\n",
    "x = cp.simulate2()\n",
    "perfX, szY, rndYears = zip(*x)\n",
    "fig = go.Figure()\n",
    "fig.update_xaxes(range=[0, 20])\n",
    "fig.update_yaxes(range=[0, 20])\n",
    "fig.update_layout(width=800, height=800)\n",
    "products = [(5.5, 14.5, \"A\"), (3, 17, \"B\"), (8, 12, \"C\"), (9.4, 15.5, \"D\"), (4, 11, \"E\")]\n",
    "x, y, labels = zip(*products)\n",
    "fig.add_trace(go.Scatter(\n",
    "    x=x,\n",
    "    y=y,\n",
    "    text=labels,\n",
    "    mode=\"text\",\n",
    "))\n",
    "\n",
    "month = np.arange(0, 24, 1)\n",
    "fig.add_trace(go.Scatter(\n",
    "x=list(perfX),\n",
    "y=list(szY),\n",
    "mode=\"markers\",\n",
    "))\n",
    "\n",
    "for segment in cp.segments:\n",
    "    cx, cy, ix, iy = cp.segments[segment][\"pos\"]\n",
    "    dx, dy = cp.segments[segment][\"driftPerYear\"]\n",
    "    x0=cx-2.5\n",
    "    y0=cy-2.5\n",
    "    x1 = cx+2.5\n",
    "    y1=cy+2.5\n",
    "    fig.add_shape(type=\"circle\",\n",
    "        xref=\"x\", yref=\"y\",\n",
    "        x0=cx-2.5, y0=cy-2.5, x1 = cx+2.5, y1=cy+2.5,\n",
    "        line_color=\"LightSeaGreen\",\n",
    "    )\n",
    "    fig.add_trace(go.Scatter(\n",
    "        x=[cx],\n",
    "        y=[cy],\n",
    "        text=segment,\n",
    "        mode=\"text\",\n",
    "    ))\n",
    "    segmentX = [[0, ix], [1, ix+dx/12]]\n",
    "    segmentY = [[0, iy], [1, iy+dy/12]]\n",
    "    x = list(map(lambda x: cp.yy(segmentX, x, \"extrapolate\", \"extrapolate\"), month))\n",
    "    y = list(map(lambda x: cp.yy(segmentY, x, \"extrapolate\", \"extrapolate\"), month))\n",
    "    fig.add_trace(go.Scatter(\n",
    "    x=x,\n",
    "    y=y,\n",
    "    mode=\"lines\",\n",
    "    ))\n",
    "\n",
    "\n",
    "fig.show()\n"
   ]
  },
  {
   "cell_type": "code",
   "execution_count": 8,
   "id": "sensitive-immigration",
   "metadata": {},
   "outputs": [
    {
     "data": {
      "application/vnd.plotly.v1+json": {
       "config": {
        "plotlyServerURL": "https://plot.ly"
       },
       "data": [
        {
         "type": "histogram",
         "x": [
          1.6298759032258212,
          1.6340341734515569,
          1.51549948705186,
          1.5645231368063,
          1.618459117801191,
          1.6245514821220877,
          1.6103686432985145,
          1.5962971717768484,
          1.5823315725656129,
          1.568466706330021,
          1.4847623345391399,
          1.5326394604760651,
          1.585117005886049,
          1.6049400045852642,
          1.591040338149031,
          1.5772495956459447,
          1.5635623719724834,
          1.549973613827893,
          1.5364785915501544,
          1.4632295726403486,
          1.510292002693807,
          1.5617123654088885,
          1.5675121325741486,
          1.5540076725054492,
          1.5405998470545856,
          1.527284041522653,
          1.5140559302690477,
          1.594585392558162,
          1.6271741177283994,
          1.6128474774163706,
          1.5986287875607454,
          1.565838721231129,
          1.5697832408359302,
          1.5361091547869619,
          1.5670953360325395,
          1.5534792439173573,
          1.5399563419249385,
          1.4605339608806844,
          1.5074936688502405,
          1.5587835262593586,
          1.5645683800045478,
          1.5510985860967623,
          1.537724971096741,
          1.5244429311276613,
          1.5112481513632503,
          1.5628918789769721
         ]
        }
       ],
       "layout": {
        "autosize": true,
        "template": {
         "data": {
          "bar": [
           {
            "error_x": {
             "color": "#2a3f5f"
            },
            "error_y": {
             "color": "#2a3f5f"
            },
            "marker": {
             "line": {
              "color": "#E5ECF6",
              "width": 0.5
             }
            },
            "type": "bar"
           }
          ],
          "barpolar": [
           {
            "marker": {
             "line": {
              "color": "#E5ECF6",
              "width": 0.5
             }
            },
            "type": "barpolar"
           }
          ],
          "carpet": [
           {
            "aaxis": {
             "endlinecolor": "#2a3f5f",
             "gridcolor": "white",
             "linecolor": "white",
             "minorgridcolor": "white",
             "startlinecolor": "#2a3f5f"
            },
            "baxis": {
             "endlinecolor": "#2a3f5f",
             "gridcolor": "white",
             "linecolor": "white",
             "minorgridcolor": "white",
             "startlinecolor": "#2a3f5f"
            },
            "type": "carpet"
           }
          ],
          "choropleth": [
           {
            "colorbar": {
             "outlinewidth": 0,
             "ticks": ""
            },
            "type": "choropleth"
           }
          ],
          "contour": [
           {
            "colorbar": {
             "outlinewidth": 0,
             "ticks": ""
            },
            "colorscale": [
             [
              0,
              "#0d0887"
             ],
             [
              0.1111111111111111,
              "#46039f"
             ],
             [
              0.2222222222222222,
              "#7201a8"
             ],
             [
              0.3333333333333333,
              "#9c179e"
             ],
             [
              0.4444444444444444,
              "#bd3786"
             ],
             [
              0.5555555555555556,
              "#d8576b"
             ],
             [
              0.6666666666666666,
              "#ed7953"
             ],
             [
              0.7777777777777778,
              "#fb9f3a"
             ],
             [
              0.8888888888888888,
              "#fdca26"
             ],
             [
              1,
              "#f0f921"
             ]
            ],
            "type": "contour"
           }
          ],
          "contourcarpet": [
           {
            "colorbar": {
             "outlinewidth": 0,
             "ticks": ""
            },
            "type": "contourcarpet"
           }
          ],
          "heatmap": [
           {
            "colorbar": {
             "outlinewidth": 0,
             "ticks": ""
            },
            "colorscale": [
             [
              0,
              "#0d0887"
             ],
             [
              0.1111111111111111,
              "#46039f"
             ],
             [
              0.2222222222222222,
              "#7201a8"
             ],
             [
              0.3333333333333333,
              "#9c179e"
             ],
             [
              0.4444444444444444,
              "#bd3786"
             ],
             [
              0.5555555555555556,
              "#d8576b"
             ],
             [
              0.6666666666666666,
              "#ed7953"
             ],
             [
              0.7777777777777778,
              "#fb9f3a"
             ],
             [
              0.8888888888888888,
              "#fdca26"
             ],
             [
              1,
              "#f0f921"
             ]
            ],
            "type": "heatmap"
           }
          ],
          "heatmapgl": [
           {
            "colorbar": {
             "outlinewidth": 0,
             "ticks": ""
            },
            "colorscale": [
             [
              0,
              "#0d0887"
             ],
             [
              0.1111111111111111,
              "#46039f"
             ],
             [
              0.2222222222222222,
              "#7201a8"
             ],
             [
              0.3333333333333333,
              "#9c179e"
             ],
             [
              0.4444444444444444,
              "#bd3786"
             ],
             [
              0.5555555555555556,
              "#d8576b"
             ],
             [
              0.6666666666666666,
              "#ed7953"
             ],
             [
              0.7777777777777778,
              "#fb9f3a"
             ],
             [
              0.8888888888888888,
              "#fdca26"
             ],
             [
              1,
              "#f0f921"
             ]
            ],
            "type": "heatmapgl"
           }
          ],
          "histogram": [
           {
            "marker": {
             "colorbar": {
              "outlinewidth": 0,
              "ticks": ""
             }
            },
            "type": "histogram"
           }
          ],
          "histogram2d": [
           {
            "colorbar": {
             "outlinewidth": 0,
             "ticks": ""
            },
            "colorscale": [
             [
              0,
              "#0d0887"
             ],
             [
              0.1111111111111111,
              "#46039f"
             ],
             [
              0.2222222222222222,
              "#7201a8"
             ],
             [
              0.3333333333333333,
              "#9c179e"
             ],
             [
              0.4444444444444444,
              "#bd3786"
             ],
             [
              0.5555555555555556,
              "#d8576b"
             ],
             [
              0.6666666666666666,
              "#ed7953"
             ],
             [
              0.7777777777777778,
              "#fb9f3a"
             ],
             [
              0.8888888888888888,
              "#fdca26"
             ],
             [
              1,
              "#f0f921"
             ]
            ],
            "type": "histogram2d"
           }
          ],
          "histogram2dcontour": [
           {
            "colorbar": {
             "outlinewidth": 0,
             "ticks": ""
            },
            "colorscale": [
             [
              0,
              "#0d0887"
             ],
             [
              0.1111111111111111,
              "#46039f"
             ],
             [
              0.2222222222222222,
              "#7201a8"
             ],
             [
              0.3333333333333333,
              "#9c179e"
             ],
             [
              0.4444444444444444,
              "#bd3786"
             ],
             [
              0.5555555555555556,
              "#d8576b"
             ],
             [
              0.6666666666666666,
              "#ed7953"
             ],
             [
              0.7777777777777778,
              "#fb9f3a"
             ],
             [
              0.8888888888888888,
              "#fdca26"
             ],
             [
              1,
              "#f0f921"
             ]
            ],
            "type": "histogram2dcontour"
           }
          ],
          "mesh3d": [
           {
            "colorbar": {
             "outlinewidth": 0,
             "ticks": ""
            },
            "type": "mesh3d"
           }
          ],
          "parcoords": [
           {
            "line": {
             "colorbar": {
              "outlinewidth": 0,
              "ticks": ""
             }
            },
            "type": "parcoords"
           }
          ],
          "pie": [
           {
            "automargin": true,
            "type": "pie"
           }
          ],
          "scatter": [
           {
            "marker": {
             "colorbar": {
              "outlinewidth": 0,
              "ticks": ""
             }
            },
            "type": "scatter"
           }
          ],
          "scatter3d": [
           {
            "line": {
             "colorbar": {
              "outlinewidth": 0,
              "ticks": ""
             }
            },
            "marker": {
             "colorbar": {
              "outlinewidth": 0,
              "ticks": ""
             }
            },
            "type": "scatter3d"
           }
          ],
          "scattercarpet": [
           {
            "marker": {
             "colorbar": {
              "outlinewidth": 0,
              "ticks": ""
             }
            },
            "type": "scattercarpet"
           }
          ],
          "scattergeo": [
           {
            "marker": {
             "colorbar": {
              "outlinewidth": 0,
              "ticks": ""
             }
            },
            "type": "scattergeo"
           }
          ],
          "scattergl": [
           {
            "marker": {
             "colorbar": {
              "outlinewidth": 0,
              "ticks": ""
             }
            },
            "type": "scattergl"
           }
          ],
          "scattermapbox": [
           {
            "marker": {
             "colorbar": {
              "outlinewidth": 0,
              "ticks": ""
             }
            },
            "type": "scattermapbox"
           }
          ],
          "scatterpolar": [
           {
            "marker": {
             "colorbar": {
              "outlinewidth": 0,
              "ticks": ""
             }
            },
            "type": "scatterpolar"
           }
          ],
          "scatterpolargl": [
           {
            "marker": {
             "colorbar": {
              "outlinewidth": 0,
              "ticks": ""
             }
            },
            "type": "scatterpolargl"
           }
          ],
          "scatterternary": [
           {
            "marker": {
             "colorbar": {
              "outlinewidth": 0,
              "ticks": ""
             }
            },
            "type": "scatterternary"
           }
          ],
          "surface": [
           {
            "colorbar": {
             "outlinewidth": 0,
             "ticks": ""
            },
            "colorscale": [
             [
              0,
              "#0d0887"
             ],
             [
              0.1111111111111111,
              "#46039f"
             ],
             [
              0.2222222222222222,
              "#7201a8"
             ],
             [
              0.3333333333333333,
              "#9c179e"
             ],
             [
              0.4444444444444444,
              "#bd3786"
             ],
             [
              0.5555555555555556,
              "#d8576b"
             ],
             [
              0.6666666666666666,
              "#ed7953"
             ],
             [
              0.7777777777777778,
              "#fb9f3a"
             ],
             [
              0.8888888888888888,
              "#fdca26"
             ],
             [
              1,
              "#f0f921"
             ]
            ],
            "type": "surface"
           }
          ],
          "table": [
           {
            "cells": {
             "fill": {
              "color": "#EBF0F8"
             },
             "line": {
              "color": "white"
             }
            },
            "header": {
             "fill": {
              "color": "#C8D4E3"
             },
             "line": {
              "color": "white"
             }
            },
            "type": "table"
           }
          ]
         },
         "layout": {
          "annotationdefaults": {
           "arrowcolor": "#2a3f5f",
           "arrowhead": 0,
           "arrowwidth": 1
          },
          "autotypenumbers": "strict",
          "coloraxis": {
           "colorbar": {
            "outlinewidth": 0,
            "ticks": ""
           }
          },
          "colorscale": {
           "diverging": [
            [
             0,
             "#8e0152"
            ],
            [
             0.1,
             "#c51b7d"
            ],
            [
             0.2,
             "#de77ae"
            ],
            [
             0.3,
             "#f1b6da"
            ],
            [
             0.4,
             "#fde0ef"
            ],
            [
             0.5,
             "#f7f7f7"
            ],
            [
             0.6,
             "#e6f5d0"
            ],
            [
             0.7,
             "#b8e186"
            ],
            [
             0.8,
             "#7fbc41"
            ],
            [
             0.9,
             "#4d9221"
            ],
            [
             1,
             "#276419"
            ]
           ],
           "sequential": [
            [
             0,
             "#0d0887"
            ],
            [
             0.1111111111111111,
             "#46039f"
            ],
            [
             0.2222222222222222,
             "#7201a8"
            ],
            [
             0.3333333333333333,
             "#9c179e"
            ],
            [
             0.4444444444444444,
             "#bd3786"
            ],
            [
             0.5555555555555556,
             "#d8576b"
            ],
            [
             0.6666666666666666,
             "#ed7953"
            ],
            [
             0.7777777777777778,
             "#fb9f3a"
            ],
            [
             0.8888888888888888,
             "#fdca26"
            ],
            [
             1,
             "#f0f921"
            ]
           ],
           "sequentialminus": [
            [
             0,
             "#0d0887"
            ],
            [
             0.1111111111111111,
             "#46039f"
            ],
            [
             0.2222222222222222,
             "#7201a8"
            ],
            [
             0.3333333333333333,
             "#9c179e"
            ],
            [
             0.4444444444444444,
             "#bd3786"
            ],
            [
             0.5555555555555556,
             "#d8576b"
            ],
            [
             0.6666666666666666,
             "#ed7953"
            ],
            [
             0.7777777777777778,
             "#fb9f3a"
            ],
            [
             0.8888888888888888,
             "#fdca26"
            ],
            [
             1,
             "#f0f921"
            ]
           ]
          },
          "colorway": [
           "#636efa",
           "#EF553B",
           "#00cc96",
           "#ab63fa",
           "#FFA15A",
           "#19d3f3",
           "#FF6692",
           "#B6E880",
           "#FF97FF",
           "#FECB52"
          ],
          "font": {
           "color": "#2a3f5f"
          },
          "geo": {
           "bgcolor": "white",
           "lakecolor": "white",
           "landcolor": "#E5ECF6",
           "showlakes": true,
           "showland": true,
           "subunitcolor": "white"
          },
          "hoverlabel": {
           "align": "left"
          },
          "hovermode": "closest",
          "mapbox": {
           "style": "light"
          },
          "paper_bgcolor": "white",
          "plot_bgcolor": "#E5ECF6",
          "polar": {
           "angularaxis": {
            "gridcolor": "white",
            "linecolor": "white",
            "ticks": ""
           },
           "bgcolor": "#E5ECF6",
           "radialaxis": {
            "gridcolor": "white",
            "linecolor": "white",
            "ticks": ""
           }
          },
          "scene": {
           "xaxis": {
            "backgroundcolor": "#E5ECF6",
            "gridcolor": "white",
            "gridwidth": 2,
            "linecolor": "white",
            "showbackground": true,
            "ticks": "",
            "zerolinecolor": "white"
           },
           "yaxis": {
            "backgroundcolor": "#E5ECF6",
            "gridcolor": "white",
            "gridwidth": 2,
            "linecolor": "white",
            "showbackground": true,
            "ticks": "",
            "zerolinecolor": "white"
           },
           "zaxis": {
            "backgroundcolor": "#E5ECF6",
            "gridcolor": "white",
            "gridwidth": 2,
            "linecolor": "white",
            "showbackground": true,
            "ticks": "",
            "zerolinecolor": "white"
           }
          },
          "shapedefaults": {
           "line": {
            "color": "#2a3f5f"
           }
          },
          "ternary": {
           "aaxis": {
            "gridcolor": "white",
            "linecolor": "white",
            "ticks": ""
           },
           "baxis": {
            "gridcolor": "white",
            "linecolor": "white",
            "ticks": ""
           },
           "bgcolor": "#E5ECF6",
           "caxis": {
            "gridcolor": "white",
            "linecolor": "white",
            "ticks": ""
           }
          },
          "title": {
           "x": 0.05
          },
          "xaxis": {
           "automargin": true,
           "gridcolor": "white",
           "linecolor": "white",
           "ticks": "",
           "title": {
            "standoff": 15
           },
           "zerolinecolor": "white",
           "zerolinewidth": 2
          },
          "yaxis": {
           "automargin": true,
           "gridcolor": "white",
           "linecolor": "white",
           "ticks": "",
           "title": {
            "standoff": 15
           },
           "zerolinecolor": "white",
           "zerolinewidth": 2
          }
         }
        },
        "xaxis": {
         "autorange": true,
         "range": [
          1.46,
          1.6399999999999997
         ],
         "type": "linear"
        },
        "yaxis": {
         "autorange": true,
         "range": [
          0,
          11.578947368421053
         ]
        }
       }
      },
      "image/png": "[encoded data removed]",
      "text/html": [
       "<div>                            <div id=\"16cd0e3f-dc83-4774-b6b1-b494b330350f\" class=\"plotly-graph-div\" style=\"height:525px; width:100%;\"></div>            <script type=\"text/javascript\">                require([\"plotly\"], function(Plotly) {                    window.PLOTLYENV=window.PLOTLYENV || {};                                    if (document.getElementById(\"16cd0e3f-dc83-4774-b6b1-b494b330350f\")) {                    Plotly.newPlot(                        \"16cd0e3f-dc83-4774-b6b1-b494b330350f\",                        [{\"type\": \"histogram\", \"x\": [1.6298759032258212, 1.6340341734515569, 1.51549948705186, 1.5645231368063, 1.618459117801191, 1.6245514821220877, 1.6103686432985145, 1.5962971717768484, 1.5823315725656129, 1.568466706330021, 1.4847623345391399, 1.5326394604760651, 1.585117005886049, 1.6049400045852642, 1.591040338149031, 1.5772495956459447, 1.5635623719724834, 1.549973613827893, 1.5364785915501544, 1.4632295726403486, 1.510292002693807, 1.5617123654088885, 1.5675121325741486, 1.5540076725054492, 1.5405998470545856, 1.527284041522653, 1.5140559302690477, 1.594585392558162, 1.6271741177283994, 1.6128474774163706, 1.5986287875607454, 1.565838721231129, 1.5697832408359302, 1.5361091547869619, 1.5670953360325395, 1.5534792439173573, 1.5399563419249385, 1.4605339608806844, 1.5074936688502405, 1.5587835262593586, 1.5645683800045478, 1.5510985860967623, 1.537724971096741, 1.5244429311276613, 1.5112481513632503, 1.5628918789769721]}],                        {\"template\": {\"data\": {\"bar\": [{\"error_x\": {\"color\": \"#2a3f5f\"}, \"error_y\": {\"color\": \"#2a3f5f\"}, \"marker\": {\"line\": {\"color\": \"#E5ECF6\", \"width\": 0.5}}, \"type\": \"bar\"}], \"barpolar\": [{\"marker\": {\"line\": {\"color\": \"#E5ECF6\", \"width\": 0.5}}, \"type\": \"barpolar\"}], \"carpet\": [{\"aaxis\": {\"endlinecolor\": \"#2a3f5f\", \"gridcolor\": \"white\", \"linecolor\": \"white\", \"minorgridcolor\": \"white\", \"startlinecolor\": \"#2a3f5f\"}, \"baxis\": {\"endlinecolor\": \"#2a3f5f\", \"gridcolor\": \"white\", \"linecolor\": \"white\", \"minorgridcolor\": \"white\", \"startlinecolor\": \"#2a3f5f\"}, \"type\": \"carpet\"}], \"choropleth\": [{\"colorbar\": {\"outlinewidth\": 0, \"ticks\": \"\"}, \"type\": \"choropleth\"}], \"contour\": [{\"colorbar\": {\"outlinewidth\": 0, \"ticks\": \"\"}, \"colorscale\": [[0.0, \"#0d0887\"], [0.1111111111111111, \"#46039f\"], [0.2222222222222222, \"#7201a8\"], [0.3333333333333333, \"#9c179e\"], [0.4444444444444444, \"#bd3786\"], [0.5555555555555556, \"#d8576b\"], [0.6666666666666666, \"#ed7953\"], [0.7777777777777778, \"#fb9f3a\"], [0.8888888888888888, \"#fdca26\"], [1.0, \"#f0f921\"]], \"type\": \"contour\"}], \"contourcarpet\": [{\"colorbar\": {\"outlinewidth\": 0, \"ticks\": \"\"}, \"type\": \"contourcarpet\"}], \"heatmap\": [{\"colorbar\": {\"outlinewidth\": 0, \"ticks\": \"\"}, \"colorscale\": [[0.0, \"#0d0887\"], [0.1111111111111111, \"#46039f\"], [0.2222222222222222, \"#7201a8\"], [0.3333333333333333, \"#9c179e\"], [0.4444444444444444, \"#bd3786\"], [0.5555555555555556, \"#d8576b\"], [0.6666666666666666, \"#ed7953\"], [0.7777777777777778, \"#fb9f3a\"], [0.8888888888888888, \"#fdca26\"], [1.0, \"#f0f921\"]], \"type\": \"heatmap\"}], \"heatmapgl\": [{\"colorbar\": {\"outlinewidth\": 0, \"ticks\": \"\"}, \"colorscale\": [[0.0, \"#0d0887\"], [0.1111111111111111, \"#46039f\"], [0.2222222222222222, \"#7201a8\"], [0.3333333333333333, \"#9c179e\"], [0.4444444444444444, \"#bd3786\"], [0.5555555555555556, \"#d8576b\"], [0.6666666666666666, \"#ed7953\"], [0.7777777777777778, \"#fb9f3a\"], [0.8888888888888888, \"#fdca26\"], [1.0, \"#f0f921\"]], \"type\": \"heatmapgl\"}], \"histogram\": [{\"marker\": {\"colorbar\": {\"outlinewidth\": 0, \"ticks\": \"\"}}, \"type\": \"histogram\"}], \"histogram2d\": [{\"colorbar\": {\"outlinewidth\": 0, \"ticks\": \"\"}, \"colorscale\": [[0.0, \"#0d0887\"], [0.1111111111111111, \"#46039f\"], [0.2222222222222222, \"#7201a8\"], [0.3333333333333333, \"#9c179e\"], [0.4444444444444444, \"#bd3786\"], [0.5555555555555556, \"#d8576b\"], [0.6666666666666666, \"#ed7953\"], [0.7777777777777778, \"#fb9f3a\"], [0.8888888888888888, \"#fdca26\"], [1.0, \"#f0f921\"]], \"type\": \"histogram2d\"}], \"histogram2dcontour\": [{\"colorbar\": {\"outlinewidth\": 0, \"ticks\": \"\"}, \"colorscale\": [[0.0, \"#0d0887\"], [0.1111111111111111, \"#46039f\"], [0.2222222222222222, \"#7201a8\"], [0.3333333333333333, \"#9c179e\"], [0.4444444444444444, \"#bd3786\"], [0.5555555555555556, \"#d8576b\"], [0.6666666666666666, \"#ed7953\"], [0.7777777777777778, \"#fb9f3a\"], [0.8888888888888888, \"#fdca26\"], [1.0, \"#f0f921\"]], \"type\": \"histogram2dcontour\"}], \"mesh3d\": [{\"colorbar\": {\"outlinewidth\": 0, \"ticks\": \"\"}, \"type\": \"mesh3d\"}], \"parcoords\": [{\"line\": {\"colorbar\": {\"outlinewidth\": 0, \"ticks\": \"\"}}, \"type\": \"parcoords\"}], \"pie\": [{\"automargin\": true, \"type\": \"pie\"}], \"scatter\": [{\"marker\": {\"colorbar\": {\"outlinewidth\": 0, \"ticks\": \"\"}}, \"type\": \"scatter\"}], \"scatter3d\": [{\"line\": {\"colorbar\": {\"outlinewidth\": 0, \"ticks\": \"\"}}, \"marker\": {\"colorbar\": {\"outlinewidth\": 0, \"ticks\": \"\"}}, \"type\": \"scatter3d\"}], \"scattercarpet\": [{\"marker\": {\"colorbar\": {\"outlinewidth\": 0, \"ticks\": \"\"}}, \"type\": \"scattercarpet\"}], \"scattergeo\": [{\"marker\": {\"colorbar\": {\"outlinewidth\": 0, \"ticks\": \"\"}}, \"type\": \"scattergeo\"}], \"scattergl\": [{\"marker\": {\"colorbar\": {\"outlinewidth\": 0, \"ticks\": \"\"}}, \"type\": \"scattergl\"}], \"scattermapbox\": [{\"marker\": {\"colorbar\": {\"outlinewidth\": 0, \"ticks\": \"\"}}, \"type\": \"scattermapbox\"}], \"scatterpolar\": [{\"marker\": {\"colorbar\": {\"outlinewidth\": 0, \"ticks\": \"\"}}, \"type\": \"scatterpolar\"}], \"scatterpolargl\": [{\"marker\": {\"colorbar\": {\"outlinewidth\": 0, \"ticks\": \"\"}}, \"type\": \"scatterpolargl\"}], \"scatterternary\": [{\"marker\": {\"colorbar\": {\"outlinewidth\": 0, \"ticks\": \"\"}}, \"type\": \"scatterternary\"}], \"surface\": [{\"colorbar\": {\"outlinewidth\": 0, \"ticks\": \"\"}, \"colorscale\": [[0.0, \"#0d0887\"], [0.1111111111111111, \"#46039f\"], [0.2222222222222222, \"#7201a8\"], [0.3333333333333333, \"#9c179e\"], [0.4444444444444444, \"#bd3786\"], [0.5555555555555556, \"#d8576b\"], [0.6666666666666666, \"#ed7953\"], [0.7777777777777778, \"#fb9f3a\"], [0.8888888888888888, \"#fdca26\"], [1.0, \"#f0f921\"]], \"type\": \"surface\"}], \"table\": [{\"cells\": {\"fill\": {\"color\": \"#EBF0F8\"}, \"line\": {\"color\": \"white\"}}, \"header\": {\"fill\": {\"color\": \"#C8D4E3\"}, \"line\": {\"color\": \"white\"}}, \"type\": \"table\"}]}, \"layout\": {\"annotationdefaults\": {\"arrowcolor\": \"#2a3f5f\", \"arrowhead\": 0, \"arrowwidth\": 1}, \"autotypenumbers\": \"strict\", \"coloraxis\": {\"colorbar\": {\"outlinewidth\": 0, \"ticks\": \"\"}}, \"colorscale\": {\"diverging\": [[0, \"#8e0152\"], [0.1, \"#c51b7d\"], [0.2, \"#de77ae\"], [0.3, \"#f1b6da\"], [0.4, \"#fde0ef\"], [0.5, \"#f7f7f7\"], [0.6, \"#e6f5d0\"], [0.7, \"#b8e186\"], [0.8, \"#7fbc41\"], [0.9, \"#4d9221\"], [1, \"#276419\"]], \"sequential\": [[0.0, \"#0d0887\"], [0.1111111111111111, \"#46039f\"], [0.2222222222222222, \"#7201a8\"], [0.3333333333333333, \"#9c179e\"], [0.4444444444444444, \"#bd3786\"], [0.5555555555555556, \"#d8576b\"], [0.6666666666666666, \"#ed7953\"], [0.7777777777777778, \"#fb9f3a\"], [0.8888888888888888, \"#fdca26\"], [1.0, \"#f0f921\"]], \"sequentialminus\": [[0.0, \"#0d0887\"], [0.1111111111111111, \"#46039f\"], [0.2222222222222222, \"#7201a8\"], [0.3333333333333333, \"#9c179e\"], [0.4444444444444444, \"#bd3786\"], [0.5555555555555556, \"#d8576b\"], [0.6666666666666666, \"#ed7953\"], [0.7777777777777778, \"#fb9f3a\"], [0.8888888888888888, \"#fdca26\"], [1.0, \"#f0f921\"]]}, \"colorway\": [\"#636efa\", \"#EF553B\", \"#00cc96\", \"#ab63fa\", \"#FFA15A\", \"#19d3f3\", \"#FF6692\", \"#B6E880\", \"#FF97FF\", \"#FECB52\"], \"font\": {\"color\": \"#2a3f5f\"}, \"geo\": {\"bgcolor\": \"white\", \"lakecolor\": \"white\", \"landcolor\": \"#E5ECF6\", \"showlakes\": true, \"showland\": true, \"subunitcolor\": \"white\"}, \"hoverlabel\": {\"align\": \"left\"}, \"hovermode\": \"closest\", \"mapbox\": {\"style\": \"light\"}, \"paper_bgcolor\": \"white\", \"plot_bgcolor\": \"#E5ECF6\", \"polar\": {\"angularaxis\": {\"gridcolor\": \"white\", \"linecolor\": \"white\", \"ticks\": \"\"}, \"bgcolor\": \"#E5ECF6\", \"radialaxis\": {\"gridcolor\": \"white\", \"linecolor\": \"white\", \"ticks\": \"\"}}, \"scene\": {\"xaxis\": {\"backgroundcolor\": \"#E5ECF6\", \"gridcolor\": \"white\", \"gridwidth\": 2, \"linecolor\": \"white\", \"showbackground\": true, \"ticks\": \"\", \"zerolinecolor\": \"white\"}, \"yaxis\": {\"backgroundcolor\": \"#E5ECF6\", \"gridcolor\": \"white\", \"gridwidth\": 2, \"linecolor\": \"white\", \"showbackground\": true, \"ticks\": \"\", \"zerolinecolor\": \"white\"}, \"zaxis\": {\"backgroundcolor\": \"#E5ECF6\", \"gridcolor\": \"white\", \"gridwidth\": 2, \"linecolor\": \"white\", \"showbackground\": true, \"ticks\": \"\", \"zerolinecolor\": \"white\"}}, \"shapedefaults\": {\"line\": {\"color\": \"#2a3f5f\"}}, \"ternary\": {\"aaxis\": {\"gridcolor\": \"white\", \"linecolor\": \"white\", \"ticks\": \"\"}, \"baxis\": {\"gridcolor\": \"white\", \"linecolor\": \"white\", \"ticks\": \"\"}, \"bgcolor\": \"#E5ECF6\", \"caxis\": {\"gridcolor\": \"white\", \"linecolor\": \"white\", \"ticks\": \"\"}}, \"title\": {\"x\": 0.05}, \"xaxis\": {\"automargin\": true, \"gridcolor\": \"white\", \"linecolor\": \"white\", \"ticks\": \"\", \"title\": {\"standoff\": 15}, \"zerolinecolor\": \"white\", \"zerolinewidth\": 2}, \"yaxis\": {\"automargin\": true, \"gridcolor\": \"white\", \"linecolor\": \"white\", \"ticks\": \"\", \"title\": {\"standoff\": 15}, \"zerolinecolor\": \"white\", \"zerolinewidth\": 2}}}},                        {\"responsive\": true}                    ).then(function(){\n",
       "                            \n",
       "var gd = document.getElementById('16cd0e3f-dc83-4774-b6b1-b494b330350f');\n",
       "var x = new MutationObserver(function (mutations, observer) {{\n",
       "        var display = window.getComputedStyle(gd).display;\n",
       "        if (!display || display === 'none') {{\n",
       "            console.log([gd, 'removed!']);\n",
       "            Plotly.purge(gd);\n",
       "            observer.disconnect();\n",
       "        }}\n",
       "}});\n",
       "\n",
       "// Listen for the removal of the full notebook cells\n",
       "var notebookContainer = gd.closest('#notebook-container');\n",
       "if (notebookContainer) {{\n",
       "    x.observe(notebookContainer, {childList: true});\n",
       "}}\n",
       "\n",
       "// Listen for the clearing of the current output cell\n",
       "var outputEl = gd.closest('.output');\n",
       "if (outputEl) {{\n",
       "    x.observe(outputEl, {childList: true});\n",
       "}}\n",
       "\n",
       "                        })                };                });            </script>        </div>"
      ]
     },
     "metadata": {},
     "output_type": "display_data"
    },
    {
     "name": "stdout",
     "output_type": "stream",
     "text": [
      "46\n"
     ]
    }
   ],
   "source": [
    "reload(cp)\n",
    "x = cp.simulate2()\n",
    "fig = go.Figure(data=[go.Histogram(x=x)])\n",
    "fig.show()\n",
    "print(len(x))"
   ]
  },
  {
   "cell_type": "code",
   "execution_count": null,
   "id": "unlikely-serial",
   "metadata": {},
   "outputs": [],
   "source": [
    "x = np.linspace(0, 24, 50)\n",
    "plot(x, lambda x: cp.awareness(x, .5))"
   ]
  },
  {
   "cell_type": "code",
   "execution_count": null,
   "id": "local-inventory",
   "metadata": {},
   "outputs": [],
   "source": [
    "#segments\n",
    "for segment in cp.segments:\n",
    "    l, u = cp.segments[segment][\"age\"][0][0], cp.segments[segment][\"age\"][-1][1]\n",
    "    print(l, u)\n",
    "    print(segment)\n",
    "    plot(np.linspace(l, u, 100), lambda x: cp.age(segment, x))"
   ]
  },
  {
   "cell_type": "code",
   "execution_count": null,
   "id": "dominican-repository",
   "metadata": {},
   "outputs": [],
   "source": [
    "# price\n",
    "for segment in cp.segments:\n",
    "    l, u = cp.segments[segment][\"price\"]\n",
    "    print(l, u)\n",
    "    print(segment)\n",
    "    plot(np.linspace(l, u, 100), lambda x: cp.price(segment, x))"
   ]
  },
  {
   "cell_type": "code",
   "execution_count": null,
   "id": "discrete-conjunction",
   "metadata": {},
   "outputs": [],
   "source": [
    "# mtbf\n",
    "for segment in cp.segments:\n",
    "    l, u = cp.segments[segment][\"mtbf\"]\n",
    "    print(l, u)\n",
    "    print(segment)\n",
    "    plot(np.linspace(l-5000, u, 100), lambda x: cp.mtbf(segment, x))"
   ]
  },
  {
   "cell_type": "code",
   "execution_count": null,
   "id": "considerable-monroe",
   "metadata": {},
   "outputs": [],
   "source": [
    "# position\n",
    "for segment in cp.segments:\n",
    "    cx, cy, ix, iy = cp.segments[segment][\"pos\"]\n",
    "    x = np.outer(np.linspace(cx-3.54, cx+3.54, 30), np.ones(30))\n",
    "    y = np.outer(np.linspace(cy-3.54, cy+3.54, 30), np.ones(30)).T\n",
    "    zipped = zip(np.reshape(x, -1), np.reshape(y, -1))\n",
    "\n",
    "    def mapper(p):\n",
    "        x, y = p\n",
    "        ret = cp.position(segment, x, y)\n",
    "#         ret = x+y\n",
    "        return ret\n",
    "    z = np.reshape(np.fromiter(map(mapper, zipped), float), (30, 30))\n",
    "\n",
    "    go.Figure(data=go.Surface(x=x, y=y, z=z)).show()\n",
    "\n"
   ]
  },
  {
   "cell_type": "code",
   "execution_count": null,
   "id": "exclusive-northwest",
   "metadata": {},
   "outputs": [],
   "source": [
    "xx = []\n",
    "yy = []\n",
    "zz = []\n",
    "x, y = np.linspace(0, 10, 9), np.linspace(0, 10, 9)\n",
    "\n",
    "for i in x:\n",
    "    for j in y:\n",
    "        k = i+j\n",
    "        xx.append(i)\n",
    "        yy.append(j)\n",
    "        zz.append(k)\n",
    "\n",
    "print(yy)\n",
    "go.Figure(data=go.Surface(x=xx, y=yy, z=zz)).show()\n",
    "        \n"
   ]
  },
  {
   "cell_type": "code",
   "execution_count": null,
   "id": "streaming-disclosure",
   "metadata": {},
   "outputs": [],
   "source": [
    "import plotly.graph_objects as go \n",
    "import numpy as np \n",
    "  \n",
    "x = np.outer(np.linspace(-2, 2, 30), np.ones(30)) \n",
    "y = x.copy().T \n",
    "z = np.cos(x ** 2 + y ** 2) \n",
    "print(y)\n",
    "fig = go.Figure(data=[go.Surface(x=x, y=y, z=z)]) \n",
    "  \n",
    "fig.show() \n"
   ]
  },
  {
   "cell_type": "code",
   "execution_count": null,
   "id": "abroad-sullivan",
   "metadata": {},
   "outputs": [],
   "source": [
    "x = np.linspace(.2, 8, 100)\n",
    "aut4 = [[.2, .187], [.4, .246], [.6, .332], [1,.55 ], [2, 1.161], [4, 2.03], [8, 2.569]]\n",
    "aut5 = [[.2, .248], [.4, .307], [.6, .393], [1, .611], [2, 1.222], [4, 2.091], [8, 2.630]]\n",
    "aut3 = [[.2, .150], [.4, .209], [.6, .295], [1, .513], [2, 1.124], [4, 1.993], [8, 2.532]]\n",
    "fig = go.Figure()\n",
    "fig.add_trace(go.Scatter(x=x, y=list(map(lambda x: cp.yy(aut3, x)*12, x)),\n",
    "                    mode='lines+markers',\n",
    "                    name='aut3'))\n",
    "fig.add_trace(go.Scatter(x=x, y=list(map(lambda x: cp.yy(aut4, x)*12, x)),\n",
    "                    mode='lines+markers',\n",
    "                    name='aut4'))\n",
    "fig.add_trace(go.Scatter(x=x, y=list(map(lambda x: cp.yy(aut5, x)*12, x)),\n",
    "                    mode='lines+markers',\n",
    "                    name='aut5'))\n",
    "fig.show()"
   ]
  },
  {
   "cell_type": "code",
   "execution_count": null,
   "id": "scenic-tomato",
   "metadata": {},
   "outputs": [],
   "source": [
    "x = np.linspace(0, .46, 100)\n",
    "y = list(map(lambda x: cp.y(cp.awarenessSegments, x), x))\n",
    "fig = go.Figure()\n",
    "fig.add_trace(go.Scatter(x=y, y=x,\n",
    "                    mode='lines+markers',\n",
    "                    name='accesibility'))\n"
   ]
  },
  {
   "cell_type": "code",
   "execution_count": null,
   "id": "collectible-amino",
   "metadata": {},
   "outputs": [],
   "source": [
    "x = np.linspace(.001, .399, 50)\n",
    "ll = []\n",
    "for a in x:\n",
    "    cp.pc = a\n",
    "    ll.append(cp.testScore())\n",
    "base, final = zip(*ll)\n",
    "fig = go.Figure()\n",
    "fig.add_trace(go.Scatter(x=x, y=base,\n",
    "                    mode='lines+markers',\n",
    "                    name='base'))\n",
    "fig.add_trace(go.Scatter(x=x, y=final,\n",
    "                    mode='lines+markers',\n",
    "                    name='final'))\n"
   ]
  },
  {
   "cell_type": "code",
   "execution_count": null,
   "id": "statutory-triple",
   "metadata": {},
   "outputs": [],
   "source": [
    "# for testing price\n",
    "for segment in cp.segments:\n",
    "    x = np.linspace(0, 50, 100)\n",
    "    y = map(lambda x: cp.priceScore(cp.segments[segment], x), x)\n",
    "    fig = go.Figure(data=go.Scatter(x=list(y), y=list(x)))\n",
    "    fig = fig.update_layout(width=800, height=800)\n",
    "    fig.show()\n"
   ]
  }
 ],
 "metadata": {
  "kernelspec": {
   "display_name": "Python 3",
   "language": "python",
   "name": "python3"
  },
  "language_info": {
   "codemirror_mode": {
    "name": "ipython",
    "version": 3
   },
   "file_extension": ".py",
   "mimetype": "text/x-python",
   "name": "python",
   "nbconvert_exporter": "python",
   "pygments_lexer": "ipython3",
   "version": "3.8.5"
  }
 },
 "nbformat": 4,
 "nbformat_minor": 5
}
