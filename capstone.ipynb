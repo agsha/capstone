{
 "cells": [
  {
   "cell_type": "code",
   "execution_count": null,
   "id": "acceptable-louis",
   "metadata": {},
   "outputs": [],
   "source": [
    "from importlib import reload\n",
    "import capstone2 as cp\n",
    "import numpy as np\n",
    "import pandas as pd\n",
    "import plotly.graph_objects as go\n",
    "def plot(x, fn):\n",
    "    y = map(fn, x)\n",
    "    go.Figure(data=go.Scatter(x=list(x), y=list(y))).show()\n",
    "reload(cp)"
   ]
  },
  {
   "cell_type": "code",
   "execution_count": null,
   "id": "synthetic-schema",
   "metadata": {},
   "outputs": [],
   "source": [
    "reload(cp)\n",
    "x = cp.simulate2()\n",
    "perfX, szY, rndYears = zip(*x)\n",
    "fig = go.Figure()\n",
    "fig.update_xaxes(range=[0, 20])\n",
    "fig.update_yaxes(range=[0, 20])\n",
    "fig.update_layout(width=800, height=800)\n",
    "products = [(5.5, 14.5, \"A\"), (3, 17, \"B\"), (8, 12, \"C\"), (9.4, 15.5, \"D\"), (4, 11, \"E\")]\n",
    "x, y, labels = zip(*products)\n",
    "fig.add_trace(go.Scatter(\n",
    "    x=x,\n",
    "    y=y,\n",
    "    text=labels,\n",
    "    mode=\"text\",\n",
    "))\n",
    "\n",
    "month = np.arange(0, 24, 1)\n",
    "fig.add_trace(go.Scatter(\n",
    "x=list(perfX),\n",
    "y=list(szY),\n",
    "mode=\"markers\",\n",
    "))\n",
    "\n",
    "for segment in cp.segments:\n",
    "    cx, cy, ix, iy = cp.segments[segment][\"pos\"]\n",
    "    dx, dy = cp.segments[segment][\"driftPerYear\"]\n",
    "    x0=cx-2.5\n",
    "    y0=cy-2.5\n",
    "    x1 = cx+2.5\n",
    "    y1=cy+2.5\n",
    "    fig.add_shape(type=\"circle\",\n",
    "        xref=\"x\", yref=\"y\",\n",
    "        x0=cx-2.5, y0=cy-2.5, x1 = cx+2.5, y1=cy+2.5,\n",
    "        line_color=\"LightSeaGreen\",\n",
    "    )\n",
    "    fig.add_trace(go.Scatter(\n",
    "        x=[cx],\n",
    "        y=[cy],\n",
    "        text=segment,\n",
    "        mode=\"text\",\n",
    "    ))\n",
    "    segmentX = [[0, ix], [1, ix+dx/12]]\n",
    "    segmentY = [[0, iy], [1, iy+dy/12]]\n",
    "    x = list(map(lambda x: cp.yy(segmentX, x, \"extrapolate\", \"extrapolate\"), month))\n",
    "    y = list(map(lambda x: cp.yy(segmentY, x, \"extrapolate\", \"extrapolate\"), month))\n",
    "    fig.add_trace(go.Scatter(\n",
    "    x=x,\n",
    "    y=y,\n",
    "    mode=\"lines\",\n",
    "    ))\n",
    "\n",
    "\n",
    "fig.show()\n"
   ]
  },
  {
   "cell_type": "code",
   "execution_count": null,
   "id": "intense-concrete",
   "metadata": {},
   "outputs": [],
   "source": [
    "reload(cp)\n",
    "x = cp.simulate2()\n",
    "fig = go.Figure(data=[go.Histogram(x=x)])\n",
    "fig.show()\n",
    "print(len(x))"
   ]
  },
  {
   "cell_type": "code",
   "execution_count": null,
   "id": "circular-senegal",
   "metadata": {},
   "outputs": [],
   "source": [
    "reload(cp)\n",
    "x, y = zip(*cp.simulate2())\n",
    "go.Figure(data=go.Scatter(x=x, y=y)).show()\n",
    "print(len(x))"
   ]
  },
  {
   "cell_type": "code",
   "execution_count": null,
   "id": "least-triangle",
   "metadata": {},
   "outputs": [],
   "source": [
    "x = np.linspace(0, 24, 50)\n",
    "plot(x, lambda x: cp.awareness(x, .5))"
   ]
  },
  {
   "cell_type": "code",
   "execution_count": null,
   "id": "portuguese-resort",
   "metadata": {},
   "outputs": [],
   "source": [
    "#segments\n",
    "for segment in cp.segments:\n",
    "    l, u = cp.segments[segment][\"age\"][0][0], cp.segments[segment][\"age\"][-1][1]\n",
    "    print(l, u)\n",
    "    print(segment)\n",
    "    plot(np.linspace(l, u, 100), lambda x: cp.age(segment, x))"
   ]
  },
  {
   "cell_type": "code",
   "execution_count": null,
   "id": "single-omega",
   "metadata": {},
   "outputs": [],
   "source": [
    "# price\n",
    "for segment in cp.segments:\n",
    "    l, u = cp.segments[segment][\"price\"]\n",
    "    print(l, u)\n",
    "    print(segment)\n",
    "    plot(np.linspace(l, u, 100), lambda x: cp.price(segment, x))"
   ]
  },
  {
   "cell_type": "code",
   "execution_count": null,
   "id": "official-entrepreneur",
   "metadata": {},
   "outputs": [],
   "source": [
    "# mtbf\n",
    "for segment in cp.segments:\n",
    "    l, u = cp.segments[segment][\"mtbf\"]\n",
    "    print(l, u)\n",
    "    print(segment)\n",
    "    plot(np.linspace(l-5000, u, 100), lambda x: cp.mtbf(segment, x))"
   ]
  },
  {
   "cell_type": "code",
   "execution_count": null,
   "id": "approximate-party",
   "metadata": {},
   "outputs": [],
   "source": [
    "# position\n",
    "reload(cp)\n",
    "for segment in cp.segments:\n",
    "    cx, cy, ix, iy = cp.segments[segment][\"pos\"]\n",
    "    x = np.outer(np.linspace(cx-3.54, cx+3.54, 30), np.ones(30))\n",
    "    y = np.outer(np.linspace(cy-3.54, cy+3.54, 30), np.ones(30)).T\n",
    "    zipped = zip(np.reshape(x, -1), np.reshape(y, -1))\n",
    "\n",
    "    def mapper(p):\n",
    "        x, y = p\n",
    "        ret = cp.positionScore(cp.segments[segment], x, y)\n",
    "#         ret = x+y\n",
    "        return ret\n",
    "    z = np.reshape(np.fromiter(map(mapper, zipped), float), (30, 30))\n",
    "\n",
    "    go.Figure(data=go.Surface(x=x, y=y, z=z)).show()\n",
    "\n"
   ]
  },
  {
   "cell_type": "code",
   "execution_count": null,
   "id": "forbidden-longer",
   "metadata": {},
   "outputs": [],
   "source": [
    "xx = []\n",
    "yy = []\n",
    "zz = []\n",
    "x, y = np.linspace(0, 10, 9), np.linspace(0, 10, 9)\n",
    "\n",
    "for i in x:\n",
    "    for j in y:\n",
    "        k = i+j\n",
    "        xx.append(i)\n",
    "        yy.append(j)\n",
    "        zz.append(k)\n",
    "\n",
    "print(yy)\n",
    "go.Figure(data=go.Surface(x=xx, y=yy, z=zz)).show()\n",
    "        \n"
   ]
  },
  {
   "cell_type": "code",
   "execution_count": null,
   "id": "related-rover",
   "metadata": {},
   "outputs": [],
   "source": [
    "import plotly.graph_objects as go \n",
    "import numpy as np \n",
    "  \n",
    "x = np.outer(np.linspace(-2, 2, 30), np.ones(30)) \n",
    "y = x.copy().T \n",
    "z = np.cos(x ** 2 + y ** 2) \n",
    "print(y)\n",
    "fig = go.Figure(data=[go.Surface(x=x, y=y, z=z)]) \n",
    "  \n",
    "fig.show() \n"
   ]
  },
  {
   "cell_type": "code",
   "execution_count": null,
   "id": "banned-bradley",
   "metadata": {},
   "outputs": [],
   "source": [
    "x = np.linspace(.2, 8, 100)\n",
    "aut4 = [[.2, .187], [.4, .246], [.6, .332], [1,.55 ], [2, 1.161], [4, 2.03], [8, 2.569]]\n",
    "aut5 = [[.2, .248], [.4, .307], [.6, .393], [1, .611], [2, 1.222], [4, 2.091], [8, 2.630]]\n",
    "aut3 = [[.2, .150], [.4, .209], [.6, .295], [1, .513], [2, 1.124], [4, 1.993], [8, 2.532]]\n",
    "fig = go.Figure()\n",
    "fig.add_trace(go.Scatter(x=x, y=list(map(lambda x: cp.yy(aut3, x)*12, x)),\n",
    "                    mode='lines+markers',\n",
    "                    name='aut3'))\n",
    "fig.add_trace(go.Scatter(x=x, y=list(map(lambda x: cp.yy(aut4, x)*12, x)),\n",
    "                    mode='lines+markers',\n",
    "                    name='aut4'))\n",
    "fig.add_trace(go.Scatter(x=x, y=list(map(lambda x: cp.yy(aut5, x)*12, x)),\n",
    "                    mode='lines+markers',\n",
    "                    name='aut5'))\n",
    "fig.show()"
   ]
  },
  {
   "cell_type": "code",
   "execution_count": null,
   "id": "nuclear-value",
   "metadata": {},
   "outputs": [],
   "source": [
    "x = np.linspace(0, .46, 100)\n",
    "y = list(map(lambda x: cp.y(cp.awarenessSegments, x), x))\n",
    "fig = go.Figure()\n",
    "fig.add_trace(go.Scatter(x=y, y=x,\n",
    "                    mode='lines+markers',\n",
    "                    name='accesibility'))\n"
   ]
  },
  {
   "cell_type": "code",
   "execution_count": null,
   "id": "light-trance",
   "metadata": {},
   "outputs": [],
   "source": [
    "x = np.linspace(.001, .399, 50)\n",
    "ll = []\n",
    "for a in x:\n",
    "    cp.pc = a\n",
    "    ll.append(cp.testScore())\n",
    "base, final = zip(*ll)\n",
    "fig = go.Figure()\n",
    "fig.add_trace(go.Scatter(x=x, y=base,\n",
    "                    mode='lines+markers',\n",
    "                    name='base'))\n",
    "fig.add_trace(go.Scatter(x=x, y=final,\n",
    "                    mode='lines+markers',\n",
    "                    name='final'))\n"
   ]
  },
  {
   "cell_type": "code",
   "execution_count": null,
   "id": "vulnerable-brighton",
   "metadata": {},
   "outputs": [],
   "source": [
    "reload(cp)\n",
    "# for testing price\n",
    "for segment in cp.segments:\n",
    "    x = np.linspace(0, 50, 100)\n",
    "    y = map(lambda x: cp.priceScore(cp.segments[segment], x), x)\n",
    "    fig = go.Figure(data=go.Scatter(x=list(x), y=list(y)))\n",
    "    fig = fig.update_layout(width=800, height=800)\n",
    "    fig.show()\n"
   ]
  },
  {
   "cell_type": "code",
   "execution_count": null,
   "id": "efficient-difference",
   "metadata": {},
   "outputs": [],
   "source": [
    "reload(cp)\n",
    "# for testing price\n",
    "for segment in cp.segments:\n",
    "    seg = cp.segments[segment]\n",
    "    x = np.linspace(seg[\"mtbf\"][0]-6000, seg[\"mtbf\"][1]+5000)\n",
    "    y = map(lambda x: cp.mtbfScore(seg, x), x)\n",
    "    fig = go.Figure(data=go.Scatter(x=list(x), y=list(y)))\n",
    "    fig = fig.update_layout(width=800, height=800)\n",
    "    fig.show()\n"
   ]
  },
  {
   "cell_type": "code",
   "execution_count": null,
   "id": "specific-enlargement",
   "metadata": {},
   "outputs": [],
   "source": [
    "df = pd.read_csv(\"round1.csv\")\n",
    "df = df.dropna()\n",
    "df.reset_index(drop=True)\n",
    "df[['material', 'price', 'labor']] = df[['material', 'price', 'labor']].applymap(lambda x:x[1:]).astype(float)\n",
    "cols = ['margin', 'ot', 'awareness', 'accessibility', 'util']\n",
    "df[cols] = df[cols].applymap(lambda x:x[:-1]).astype(float)/100.0\n",
    "print(\"ok\")"
   ]
  },
  {
   "cell_type": "code",
   "execution_count": null,
   "id": "peaceful-payment",
   "metadata": {},
   "outputs": [],
   "source": [
    "df"
   ]
  },
  {
   "cell_type": "code",
   "execution_count": null,
   "id": "english-space",
   "metadata": {},
   "outputs": [],
   "source": []
  },
  {
   "cell_type": "code",
   "execution_count": null,
   "id": "therapeutic-tenant",
   "metadata": {},
   "outputs": [],
   "source": [
    "df"
   ]
  }
 ],
 "metadata": {
  "kernelspec": {
   "display_name": "Python 3",
   "language": "python",
   "name": "python3"
  },
  "language_info": {
   "codemirror_mode": {
    "name": "ipython",
    "version": 3
   },
   "file_extension": ".py",
   "mimetype": "text/x-python",
   "name": "python",
   "nbconvert_exporter": "python",
   "pygments_lexer": "ipython3",
   "version": "3.8.5"
  }
 },
 "nbformat": 4,
 "nbformat_minor": 5
}
