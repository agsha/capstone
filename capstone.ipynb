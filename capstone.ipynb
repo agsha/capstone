{
 "cells": [
  {
   "cell_type": "code",
   "execution_count": 2,
   "id": "acting-explorer",
   "metadata": {},
   "outputs": [
    {
     "data": {
      "text/plain": [
       "<module 'capstone' from '/home/sharath/code/capstone/capstone.py'>"
      ]
     },
     "execution_count": 2,
     "metadata": {},
     "output_type": "execute_result"
    }
   ],
   "source": [
    "from importlib import reload\n",
    "import capstone as cp\n",
    "import numpy as np\n",
    "import pandas as pd\n",
    "import plotly.graph_objects as go\n",
    "def plot(x, fn):\n",
    "    y = map(fn, x)\n",
    "    go.Figure(data=go.Scatter(x=list(x), y=list(y))).show()\n",
    "reload(cp)"
   ]
  },
  {
   "cell_type": "code",
   "execution_count": 9,
   "id": "finished-wireless",
   "metadata": {},
   "outputs": [
    {
     "name": "stdout",
     "output_type": "stream",
     "text": [
      "dist:0.0 perf:9.4 sz:15.5 mtbf:22000 price:32.578947368421055 rndTimeMonths:1.44 totalScore:1.3585047504204086 revenue:19089683.84901304 sales 585951.5236369107 growthInRev:1.8358794474263525\n",
      "dist:0.0 perf:9.4 sz:15.5 mtbf:22000 price:33.0 rndTimeMonths:1.44 totalScore:1.3758916180882144 revenue:19027271.68266641 sales 576583.9903838306 growthInRev:1.8065294737874589\n",
      "dist:0.0 perf:9.4 sz:15.5 mtbf:23000 price:33.0 rndTimeMonths:0.96 totalScore:1.366019763935979 revenue:20014716.009872314 sales 606506.5457537065 growthInRev:1.9002816054946416\n",
      "dist:0.0 perf:9.4 sz:15.5 mtbf:23000 price:33.10526315789474 rndTimeMonths:0.96 totalScore:1.3703479264271152 revenue:20000618.375258673 sales 604152.2243718836 growthInRev:1.8929051416351446\n",
      "dist:0.0 perf:9.4 sz:15.5 mtbf:23000 price:33.21052631578947 rndTimeMonths:0.96 totalScore:1.3746755823800614 revenue:19985778.009884935 sales 601790.4630551724 growthInRev:1.8855053672746915\n",
      "dist:0.0 perf:9.4 sz:15.5 mtbf:23000 price:33.31578947368421 rndTimeMonths:0.96 totalScore:1.3790027234060842 revenue:19970191.384244695 sales 599421.226383332 growthInRev:1.8780821714360274\n",
      "dist:0.0 perf:9.4 sz:15.5 mtbf:23000 price:33.421052631578945 rndTimeMonths:0.96 totalScore:1.3833293409301632 revenue:19953854.946370576 sales 597044.4787103008 growthInRev:1.8706354424343625\n",
      "dist:0.0 perf:9.4 sz:15.5 mtbf:23000 price:33.526315789473685 rndTimeMonths:0.96 totalScore:1.3876554261857936 revenue:19936765.121654786 sales 594660.1841623876 growthInRev:1.8631650678717107\n",
      "dist:0.0 perf:9.4 sz:15.5 mtbf:23000 price:33.63157894736842 rndTimeMonths:0.96 totalScore:1.3919809702096084 revenue:19918918.31266793 sales 592268.3066364486 growthInRev:1.8556709346311708\n",
      "dist:0.0 perf:9.4 sz:15.5 mtbf:23000 price:33.73684210526316 rndTimeMonths:0.96 totalScore:1.3963059638358233 revenue:19900310.898976076 sales 589868.8097980429 growthInRev:1.8481529288711525\n",
      "dist:0.0 perf:9.4 sz:15.5 mtbf:23000 price:33.8421052631579 rndTimeMonths:0.96 totalScore:1.4006303976904888 revenue:19880939.236956093 sales 587461.6570795735 growthInRev:1.8406109360195515\n",
      "dist:0.0 perf:9.4 sz:15.5 mtbf:23000 price:33.94736842105263 rndTimeMonths:0.96 totalScore:1.404954262185547 revenue:19860799.65960914 sales 585046.8116784088 growthInRev:1.8330448407678603\n",
      "dist:0.0 perf:9.4 sz:15.5 mtbf:23000 price:34.05263157894737 rndTimeMonths:0.96 totalScore:1.4092775475126844 revenue:19839888.476372357 sales 582624.2365549842 growthInRev:1.825454527065225\n",
      "dist:0.0 perf:9.4 sz:15.5 mtbf:23000 price:34.1578947368421 rndTimeMonths:0.96 totalScore:1.4136002436369681 revenue:19818201.972928796 sales 580193.8944308893 growthInRev:1.817839878112447\n",
      "dist:0.0 perf:9.4 sz:15.5 mtbf:23000 price:34.26315789473684 rndTimeMonths:0.96 totalScore:1.4179223402902659 revenue:19795736.411015432 sales 577755.7477869327 growthInRev:1.8102007763559251\n",
      "dist:0.0 perf:9.4 sz:15.5 mtbf:23000 price:34.368421052631575 rndTimeMonths:0.96 totalScore:1.422243826964428 revenue:19772488.02822931 sales 575309.7588611898 growthInRev:1.8025371034815347\n",
      "dist:0.0 perf:9.4 sz:15.5 mtbf:24000 price:33.0 rndTimeMonths:0.48 totalScore:1.35292405430941 revenue:20079223.80214996 sales 608461.3273378776 growthInRev:1.90640624753382\n",
      "dist:0.0 perf:9.4 sz:15.5 mtbf:24000 price:33.10526315789474 rndTimeMonths:0.48 totalScore:1.3572254301843973 revenue:20065536.138401367 sales 606113.1742919331 growthInRev:1.8990491100530544\n",
      "dist:0.0 perf:9.4 sz:15.5 mtbf:24000 price:33.21052631578947 rndTimeMonths:0.48 totalScore:1.3615265602694526 revenue:20051108.016330622 sales 603757.610634361 growthInRev:1.8916687539457788\n",
      "dist:0.0 perf:9.4 sz:15.5 mtbf:24000 price:33.31578947368421 rndTimeMonths:0.48 totalScore:1.3658274405046424 revenue:20035935.921910483 sales 601394.6011315943 growthInRev:1.8842650688196165\n",
      "dist:0.0 perf:9.4 sz:15.5 mtbf:24000 price:33.421052631578945 rndTimeMonths:0.48 totalScore:1.3701280667401063 revenue:20020016.31878117 sales 599024.1103257359 growthInRev:1.876837943579329\n",
      "dist:0.0 perf:9.4 sz:15.5 mtbf:24000 price:33.526315789473685 rndTimeMonths:0.48 totalScore:1.3744284347335616 revenue:20003345.64807224 sales 596646.1025327669 growthInRev:1.869387266421202\n",
      "dist:0.0 perf:9.4 sz:15.5 mtbf:24000 price:33.63157894736842 rndTimeMonths:0.48 totalScore:1.378728540147711 revenue:19985920.32822266 sales 594260.5418407364 growthInRev:1.8619129248273727\n",
      "dist:0.0 perf:9.4 sz:15.5 mtbf:24000 price:33.73684210526316 rndTimeMonths:0.48 totalScore:1.3830283785475683 revenue:19967736.75479915 sales 591867.3921079311 growthInRev:1.8544148055600975\n",
      "dist:0.0 perf:9.4 sz:15.5 mtbf:24000 price:33.8421052631579 rndTimeMonths:0.48 totalScore:1.387327945397694 revenue:19948791.300312858 sales 589466.6169610331 growthInRev:1.8468927946559786\n",
      "dist:0.0 perf:9.4 sz:15.5 mtbf:24000 price:33.94736842105263 rndTimeMonths:0.48 totalScore:1.3916272360593331 revenue:19929080.314034157 sales 587058.1797932542 growthInRev:1.8393467774201178\n",
      "dist:0.0 perf:9.4 sz:15.5 mtbf:24000 price:34.05263157894737 rndTimeMonths:0.48 totalScore:1.3959262457874575 revenue:19908600.121805698 sales 584642.0437624548 growthInRev:1.831776638420224\n",
      "dist:0.0 perf:9.4 sz:15.5 mtbf:24000 price:34.1578947368421 rndTimeMonths:0.48 totalScore:1.4002249697277045 revenue:19887347.025853697 sales 582218.1717892454 growthInRev:1.8241822614806644\n",
      "dist:0.0 perf:9.4 sz:15.5 mtbf:24000 price:34.26315789473684 rndTimeMonths:0.48 totalScore:1.4045234029132092 revenue:19865317.304597277 sales 579786.5265550665 growthInRev:1.8165635296764486\n",
      "dist:0.0 perf:9.4 sz:15.5 mtbf:24000 price:34.368421052631575 rndTimeMonths:0.48 totalScore:1.4088215402613258 revenue:19842507.21245606 sales 577347.0705002529 growthInRev:1.808920325327163\n",
      "dist:0.0 perf:9.4 sz:15.5 mtbf:24000 price:34.473684210526315 rndTimeMonths:0.48 totalScore:1.4131193765702357 revenue:19818912.97965583 sales 574899.7658220775 growthInRev:1.8012525299908433\n",
      "dist:0.0 perf:9.4 sz:15.5 mtbf:26000 price:33.8421052631579 rndTimeMonths:0.48 totalScore:1.35408897189861 revenue:20309240.58997193 sales 600117.5290971487 growthInRev:1.880263798737803\n",
      "dist:0.0 perf:9.4 sz:15.5 mtbf:26000 price:33.94736842105263 rndTimeMonths:0.48 totalScore:1.358286366898326 revenue:20291801.5061088 sales 597742.9901024299 growthInRev:1.8728239898770649\n",
      "dist:0.0 perf:9.4 sz:15.5 mtbf:26000 price:34.05263157894737 rndTimeMonths:0.48 totalScore:1.3624835114600804 revenue:20273605.887774285 sales 595360.9147878074 growthInRev:1.8653605685257675\n",
      "dist:0.0 perf:9.4 sz:15.5 mtbf:26000 price:34.1578947368421 rndTimeMonths:0.48 totalScore:1.3666804013647036 revenue:20254650.124177847 sales 592971.2671176874 growthInRev:1.857873421778655\n",
      "dist:0.0 perf:9.4 sz:15.5 mtbf:26000 price:34.26315789473684 rndTimeMonths:0.48 totalScore:1.3708770322977049 revenue:20234930.58144973 sales 590574.0108257217 growthInRev:1.8503624360074833\n",
      "dist:0.0 perf:9.4 sz:15.5 mtbf:26000 price:34.368421052631575 rndTimeMonths:0.48 totalScore:1.3750733998465643 revenue:20214443.60245574 sales 588169.1094129542 growthInRev:1.842827496855209\n",
      "dist:0.0 perf:9.4 sz:15.5 mtbf:26000 price:34.473684210526315 rndTimeMonths:0.48 totalScore:1.3792694994979307 revenue:20193185.50661025 sales 585756.5261459461 growthInRev:1.8352684892301185\n",
      "dist:0.0 perf:9.4 sz:15.5 mtbf:27000 price:34.26315789473684 rndTimeMonths:0.96 totalScore:1.3511040926363156 revenue:20531700.25846597 sales 599235.4914145215 growthInRev:1.8775002341969342\n",
      "dist:0.0 perf:9.4 sz:15.5 mtbf:27000 price:34.368421052631575 rndTimeMonths:0.96 totalScore:1.355226532594767 revenue:20513072.359574836 sales 596858.1544133567 growthInRev:1.8700516587363656\n",
      "dist:0.0 perf:9.4 sz:15.5 mtbf:27000 price:34.473684210526315 rndTimeMonths:0.96 totalScore:1.359348480104013 revenue:20493683.702983994 sales 594473.2677201465 growthInRev:1.8625794288881874\n",
      "dist:0.1724137931034484 perf:9.572413793103449 sz:15.5 mtbf:25000 price:33.8421052631579 rndTimeMonths:1.866206896551724 totalScore:1.353438293891114 revenue:19724383.28431302 sales 582835.5869392649 growthInRev:1.826116721480726\n",
      "dist:0.1724137931034484 perf:9.572413793103449 sz:15.5 mtbf:25000 price:33.94736842105263 rndTimeMonths:1.866206896551724 totalScore:1.3575889108028125 revenue:19706337.974408332 sales 580496.7775407106 growthInRev:1.8187888591353856\n",
      "dist:0.1724137931034484 perf:9.572413793103449 sz:15.5 mtbf:25000 price:34.05263157894737 rndTimeMonths:1.866206896551724 totalScore:1.3617385012061722 revenue:19687552.991448775 sales 578150.7060858218 growthInRev:1.8114382436109302\n",
      "dist:0.1724137931034484 perf:9.572413793103449 sz:15.5 mtbf:25000 price:34.1578947368421 rndTimeMonths:1.866206896551724 totalScore:1.3658870478581213 revenue:19668024.87745342 sales 575797.3384770647 growthInRev:1.8040647680743542\n"
     ]
    },
    {
     "data": {
      "application/vnd.plotly.v1+json": {
       "config": {
        "plotlyServerURL": "https://plot.ly"
       },
       "data": [
        {
         "mode": "text",
         "text": [
          "A",
          "B",
          "C",
          "D",
          "E"
         ],
         "type": "scatter",
         "x": [
          5.5,
          3,
          8,
          9.4,
          4
         ],
         "y": [
          14.5,
          17,
          12,
          15.5,
          11
         ]
        },
        {
         "mode": "markers",
         "type": "scatter",
         "x": [
          9.4,
          9.4,
          9.4,
          9.4,
          9.4,
          9.4,
          9.4,
          9.4,
          9.4,
          9.4,
          9.4,
          9.4,
          9.4,
          9.4,
          9.4,
          9.4,
          9.4,
          9.4,
          9.4,
          9.4,
          9.4,
          9.4,
          9.4,
          9.4,
          9.4,
          9.4,
          9.4,
          9.4,
          9.4,
          9.4,
          9.4,
          9.4,
          9.4,
          9.4,
          9.4,
          9.4,
          9.4,
          9.4,
          9.4,
          9.4,
          9.4,
          9.572413793103449,
          9.572413793103449,
          9.572413793103449,
          9.572413793103449
         ],
         "y": [
          15.5,
          15.5,
          15.5,
          15.5,
          15.5,
          15.5,
          15.5,
          15.5,
          15.5,
          15.5,
          15.5,
          15.5,
          15.5,
          15.5,
          15.5,
          15.5,
          15.5,
          15.5,
          15.5,
          15.5,
          15.5,
          15.5,
          15.5,
          15.5,
          15.5,
          15.5,
          15.5,
          15.5,
          15.5,
          15.5,
          15.5,
          15.5,
          15.5,
          15.5,
          15.5,
          15.5,
          15.5,
          15.5,
          15.5,
          15.5,
          15.5,
          15.5,
          15.5,
          15.5,
          15.5
         ]
        },
        {
         "mode": "text",
         "text": "traditional",
         "type": "scatter",
         "x": [
          5
         ],
         "y": [
          15
         ]
        },
        {
         "mode": "lines",
         "type": "scatter",
         "x": [
          5,
          5.058333333333334,
          5.116666666666667,
          5.175000000000001,
          5.233333333333334,
          5.291666666666668,
          5.350000000000001,
          5.408333333333335,
          5.466666666666669,
          5.525000000000002,
          5.583333333333336,
          5.641666666666669,
          5.700000000000003,
          5.758333333333336,
          5.81666666666667,
          5.8750000000000036,
          5.933333333333337,
          5.991666666666671,
          6.050000000000004,
          6.108333333333338,
          6.166666666666671,
          6.225000000000005,
          6.2833333333333385,
          6.341666666666672
         ],
         "y": [
          15,
          14.941666666666666,
          14.883333333333333,
          14.825,
          14.766666666666666,
          14.708333333333332,
          14.649999999999999,
          14.591666666666665,
          14.533333333333331,
          14.474999999999998,
          14.416666666666664,
          14.35833333333333,
          14.299999999999997,
          14.241666666666664,
          14.18333333333333,
          14.124999999999996,
          14.066666666666663,
          14.00833333333333,
          13.949999999999996,
          13.891666666666662,
          13.833333333333329,
          13.774999999999995,
          13.716666666666661,
          13.658333333333328
         ]
        },
        {
         "mode": "text",
         "text": "low",
         "type": "scatter",
         "x": [
          2.5
         ],
         "y": [
          17.5
         ]
        },
        {
         "mode": "lines",
         "type": "scatter",
         "x": [
          1.7,
          1.7416666666666667,
          1.7833333333333334,
          1.8250000000000002,
          1.866666666666667,
          1.9083333333333337,
          1.9500000000000004,
          1.9916666666666671,
          2.033333333333334,
          2.0750000000000006,
          2.116666666666667,
          2.158333333333334,
          2.200000000000001,
          2.2416666666666676,
          2.283333333333334,
          2.325000000000001,
          2.366666666666668,
          2.4083333333333345,
          2.450000000000001,
          2.491666666666668,
          2.533333333333335,
          2.5750000000000015,
          2.616666666666668,
          2.658333333333335
         ],
         "y": [
          18.3,
          18.258333333333333,
          18.216666666666665,
          18.174999999999997,
          18.13333333333333,
          18.09166666666666,
          18.049999999999994,
          18.008333333333326,
          17.966666666666658,
          17.92499999999999,
          17.883333333333322,
          17.841666666666654,
          17.799999999999986,
          17.75833333333332,
          17.71666666666665,
          17.674999999999983,
          17.633333333333315,
          17.591666666666647,
          17.54999999999998,
          17.50833333333331,
          17.466666666666644,
          17.424999999999976,
          17.383333333333308,
          17.34166666666664
         ]
        },
        {
         "mode": "text",
         "text": "high",
         "type": "scatter",
         "x": [
          7.5
         ],
         "y": [
          12.5
         ]
        },
        {
         "mode": "lines",
         "type": "scatter",
         "x": [
          8.9,
          8.975,
          9.049999999999999,
          9.124999999999998,
          9.199999999999998,
          9.274999999999997,
          9.349999999999996,
          9.424999999999995,
          9.499999999999995,
          9.574999999999994,
          9.649999999999993,
          9.724999999999993,
          9.799999999999992,
          9.874999999999991,
          9.94999999999999,
          10.02499999999999,
          10.099999999999989,
          10.174999999999988,
          10.249999999999988,
          10.324999999999987,
          10.399999999999986,
          10.474999999999985,
          10.549999999999985,
          10.624999999999984
         ],
         "y": [
          11.1,
          11.025,
          10.950000000000001,
          10.875000000000002,
          10.800000000000002,
          10.725000000000003,
          10.650000000000004,
          10.575000000000005,
          10.500000000000005,
          10.425000000000006,
          10.350000000000007,
          10.275000000000007,
          10.200000000000008,
          10.125000000000009,
          10.05000000000001,
          9.97500000000001,
          9.900000000000011,
          9.825000000000012,
          9.750000000000012,
          9.675000000000013,
          9.600000000000014,
          9.525000000000015,
          9.450000000000015,
          9.375000000000016
         ]
        },
        {
         "mode": "text",
         "text": "performance",
         "type": "scatter",
         "x": [
          8
         ],
         "y": [
          17
         ]
        },
        {
         "mode": "lines",
         "type": "scatter",
         "x": [
          9.4,
          9.483333333333334,
          9.566666666666668,
          9.650000000000002,
          9.733333333333336,
          9.81666666666667,
          9.900000000000004,
          9.983333333333338,
          10.066666666666672,
          10.150000000000006,
          10.23333333333334,
          10.316666666666674,
          10.400000000000007,
          10.483333333333341,
          10.566666666666675,
          10.65000000000001,
          10.733333333333343,
          10.816666666666677,
          10.900000000000011,
          10.983333333333345,
          11.066666666666679,
          11.150000000000013,
          11.233333333333347,
          11.31666666666668
         ],
         "y": [
          16,
          15.941666666666666,
          15.883333333333333,
          15.825,
          15.766666666666666,
          15.708333333333332,
          15.649999999999999,
          15.591666666666665,
          15.533333333333331,
          15.474999999999998,
          15.416666666666664,
          15.35833333333333,
          15.299999999999997,
          15.241666666666664,
          15.18333333333333,
          15.124999999999996,
          15.066666666666663,
          15.00833333333333,
          14.949999999999996,
          14.891666666666662,
          14.833333333333329,
          14.774999999999995,
          14.716666666666661,
          14.658333333333328
         ]
        },
        {
         "mode": "text",
         "text": "size",
         "type": "scatter",
         "x": [
          3
         ],
         "y": [
          12
         ]
        },
        {
         "mode": "lines",
         "type": "scatter",
         "x": [
          4,
          4.058333333333334,
          4.116666666666667,
          4.175000000000001,
          4.233333333333334,
          4.291666666666668,
          4.350000000000001,
          4.408333333333335,
          4.466666666666669,
          4.525000000000002,
          4.583333333333336,
          4.641666666666669,
          4.700000000000003,
          4.758333333333336,
          4.81666666666667,
          4.8750000000000036,
          4.933333333333337,
          4.991666666666671,
          5.050000000000004,
          5.108333333333338,
          5.166666666666671,
          5.225000000000005,
          5.2833333333333385,
          5.341666666666672
         ],
         "y": [
          10.6,
          10.516666666666666,
          10.433333333333332,
          10.349999999999998,
          10.266666666666664,
          10.18333333333333,
          10.099999999999996,
          10.016666666666662,
          9.933333333333328,
          9.849999999999994,
          9.76666666666666,
          9.683333333333326,
          9.599999999999993,
          9.516666666666659,
          9.433333333333325,
          9.34999999999999,
          9.266666666666657,
          9.183333333333323,
          9.099999999999989,
          9.016666666666655,
          8.933333333333321,
          8.849999999999987,
          8.766666666666653,
          8.68333333333332
         ]
        }
       ],
       "layout": {
        "height": 800,
        "shapes": [
         {
          "line": {
           "color": "LightSeaGreen"
          },
          "type": "circle",
          "x0": 2.5,
          "x1": 7.5,
          "xref": "x",
          "y0": 12.5,
          "y1": 17.5,
          "yref": "y"
         },
         {
          "line": {
           "color": "LightSeaGreen"
          },
          "type": "circle",
          "x0": 0,
          "x1": 5,
          "xref": "x",
          "y0": 15,
          "y1": 20,
          "yref": "y"
         },
         {
          "line": {
           "color": "LightSeaGreen"
          },
          "type": "circle",
          "x0": 5,
          "x1": 10,
          "xref": "x",
          "y0": 10,
          "y1": 15,
          "yref": "y"
         },
         {
          "line": {
           "color": "LightSeaGreen"
          },
          "type": "circle",
          "x0": 5.5,
          "x1": 10.5,
          "xref": "x",
          "y0": 14.5,
          "y1": 19.5,
          "yref": "y"
         },
         {
          "line": {
           "color": "LightSeaGreen"
          },
          "type": "circle",
          "x0": 0.5,
          "x1": 5.5,
          "xref": "x",
          "y0": 9.5,
          "y1": 14.5,
          "yref": "y"
         }
        ],
        "template": {
         "data": {
          "bar": [
           {
            "error_x": {
             "color": "#2a3f5f"
            },
            "error_y": {
             "color": "#2a3f5f"
            },
            "marker": {
             "line": {
              "color": "#E5ECF6",
              "width": 0.5
             }
            },
            "type": "bar"
           }
          ],
          "barpolar": [
           {
            "marker": {
             "line": {
              "color": "#E5ECF6",
              "width": 0.5
             }
            },
            "type": "barpolar"
           }
          ],
          "carpet": [
           {
            "aaxis": {
             "endlinecolor": "#2a3f5f",
             "gridcolor": "white",
             "linecolor": "white",
             "minorgridcolor": "white",
             "startlinecolor": "#2a3f5f"
            },
            "baxis": {
             "endlinecolor": "#2a3f5f",
             "gridcolor": "white",
             "linecolor": "white",
             "minorgridcolor": "white",
             "startlinecolor": "#2a3f5f"
            },
            "type": "carpet"
           }
          ],
          "choropleth": [
           {
            "colorbar": {
             "outlinewidth": 0,
             "ticks": ""
            },
            "type": "choropleth"
           }
          ],
          "contour": [
           {
            "colorbar": {
             "outlinewidth": 0,
             "ticks": ""
            },
            "colorscale": [
             [
              0,
              "#0d0887"
             ],
             [
              0.1111111111111111,
              "#46039f"
             ],
             [
              0.2222222222222222,
              "#7201a8"
             ],
             [
              0.3333333333333333,
              "#9c179e"
             ],
             [
              0.4444444444444444,
              "#bd3786"
             ],
             [
              0.5555555555555556,
              "#d8576b"
             ],
             [
              0.6666666666666666,
              "#ed7953"
             ],
             [
              0.7777777777777778,
              "#fb9f3a"
             ],
             [
              0.8888888888888888,
              "#fdca26"
             ],
             [
              1,
              "#f0f921"
             ]
            ],
            "type": "contour"
           }
          ],
          "contourcarpet": [
           {
            "colorbar": {
             "outlinewidth": 0,
             "ticks": ""
            },
            "type": "contourcarpet"
           }
          ],
          "heatmap": [
           {
            "colorbar": {
             "outlinewidth": 0,
             "ticks": ""
            },
            "colorscale": [
             [
              0,
              "#0d0887"
             ],
             [
              0.1111111111111111,
              "#46039f"
             ],
             [
              0.2222222222222222,
              "#7201a8"
             ],
             [
              0.3333333333333333,
              "#9c179e"
             ],
             [
              0.4444444444444444,
              "#bd3786"
             ],
             [
              0.5555555555555556,
              "#d8576b"
             ],
             [
              0.6666666666666666,
              "#ed7953"
             ],
             [
              0.7777777777777778,
              "#fb9f3a"
             ],
             [
              0.8888888888888888,
              "#fdca26"
             ],
             [
              1,
              "#f0f921"
             ]
            ],
            "type": "heatmap"
           }
          ],
          "heatmapgl": [
           {
            "colorbar": {
             "outlinewidth": 0,
             "ticks": ""
            },
            "colorscale": [
             [
              0,
              "#0d0887"
             ],
             [
              0.1111111111111111,
              "#46039f"
             ],
             [
              0.2222222222222222,
              "#7201a8"
             ],
             [
              0.3333333333333333,
              "#9c179e"
             ],
             [
              0.4444444444444444,
              "#bd3786"
             ],
             [
              0.5555555555555556,
              "#d8576b"
             ],
             [
              0.6666666666666666,
              "#ed7953"
             ],
             [
              0.7777777777777778,
              "#fb9f3a"
             ],
             [
              0.8888888888888888,
              "#fdca26"
             ],
             [
              1,
              "#f0f921"
             ]
            ],
            "type": "heatmapgl"
           }
          ],
          "histogram": [
           {
            "marker": {
             "colorbar": {
              "outlinewidth": 0,
              "ticks": ""
             }
            },
            "type": "histogram"
           }
          ],
          "histogram2d": [
           {
            "colorbar": {
             "outlinewidth": 0,
             "ticks": ""
            },
            "colorscale": [
             [
              0,
              "#0d0887"
             ],
             [
              0.1111111111111111,
              "#46039f"
             ],
             [
              0.2222222222222222,
              "#7201a8"
             ],
             [
              0.3333333333333333,
              "#9c179e"
             ],
             [
              0.4444444444444444,
              "#bd3786"
             ],
             [
              0.5555555555555556,
              "#d8576b"
             ],
             [
              0.6666666666666666,
              "#ed7953"
             ],
             [
              0.7777777777777778,
              "#fb9f3a"
             ],
             [
              0.8888888888888888,
              "#fdca26"
             ],
             [
              1,
              "#f0f921"
             ]
            ],
            "type": "histogram2d"
           }
          ],
          "histogram2dcontour": [
           {
            "colorbar": {
             "outlinewidth": 0,
             "ticks": ""
            },
            "colorscale": [
             [
              0,
              "#0d0887"
             ],
             [
              0.1111111111111111,
              "#46039f"
             ],
             [
              0.2222222222222222,
              "#7201a8"
             ],
             [
              0.3333333333333333,
              "#9c179e"
             ],
             [
              0.4444444444444444,
              "#bd3786"
             ],
             [
              0.5555555555555556,
              "#d8576b"
             ],
             [
              0.6666666666666666,
              "#ed7953"
             ],
             [
              0.7777777777777778,
              "#fb9f3a"
             ],
             [
              0.8888888888888888,
              "#fdca26"
             ],
             [
              1,
              "#f0f921"
             ]
            ],
            "type": "histogram2dcontour"
           }
          ],
          "mesh3d": [
           {
            "colorbar": {
             "outlinewidth": 0,
             "ticks": ""
            },
            "type": "mesh3d"
           }
          ],
          "parcoords": [
           {
            "line": {
             "colorbar": {
              "outlinewidth": 0,
              "ticks": ""
             }
            },
            "type": "parcoords"
           }
          ],
          "pie": [
           {
            "automargin": true,
            "type": "pie"
           }
          ],
          "scatter": [
           {
            "marker": {
             "colorbar": {
              "outlinewidth": 0,
              "ticks": ""
             }
            },
            "type": "scatter"
           }
          ],
          "scatter3d": [
           {
            "line": {
             "colorbar": {
              "outlinewidth": 0,
              "ticks": ""
             }
            },
            "marker": {
             "colorbar": {
              "outlinewidth": 0,
              "ticks": ""
             }
            },
            "type": "scatter3d"
           }
          ],
          "scattercarpet": [
           {
            "marker": {
             "colorbar": {
              "outlinewidth": 0,
              "ticks": ""
             }
            },
            "type": "scattercarpet"
           }
          ],
          "scattergeo": [
           {
            "marker": {
             "colorbar": {
              "outlinewidth": 0,
              "ticks": ""
             }
            },
            "type": "scattergeo"
           }
          ],
          "scattergl": [
           {
            "marker": {
             "colorbar": {
              "outlinewidth": 0,
              "ticks": ""
             }
            },
            "type": "scattergl"
           }
          ],
          "scattermapbox": [
           {
            "marker": {
             "colorbar": {
              "outlinewidth": 0,
              "ticks": ""
             }
            },
            "type": "scattermapbox"
           }
          ],
          "scatterpolar": [
           {
            "marker": {
             "colorbar": {
              "outlinewidth": 0,
              "ticks": ""
             }
            },
            "type": "scatterpolar"
           }
          ],
          "scatterpolargl": [
           {
            "marker": {
             "colorbar": {
              "outlinewidth": 0,
              "ticks": ""
             }
            },
            "type": "scatterpolargl"
           }
          ],
          "scatterternary": [
           {
            "marker": {
             "colorbar": {
              "outlinewidth": 0,
              "ticks": ""
             }
            },
            "type": "scatterternary"
           }
          ],
          "surface": [
           {
            "colorbar": {
             "outlinewidth": 0,
             "ticks": ""
            },
            "colorscale": [
             [
              0,
              "#0d0887"
             ],
             [
              0.1111111111111111,
              "#46039f"
             ],
             [
              0.2222222222222222,
              "#7201a8"
             ],
             [
              0.3333333333333333,
              "#9c179e"
             ],
             [
              0.4444444444444444,
              "#bd3786"
             ],
             [
              0.5555555555555556,
              "#d8576b"
             ],
             [
              0.6666666666666666,
              "#ed7953"
             ],
             [
              0.7777777777777778,
              "#fb9f3a"
             ],
             [
              0.8888888888888888,
              "#fdca26"
             ],
             [
              1,
              "#f0f921"
             ]
            ],
            "type": "surface"
           }
          ],
          "table": [
           {
            "cells": {
             "fill": {
              "color": "#EBF0F8"
             },
             "line": {
              "color": "white"
             }
            },
            "header": {
             "fill": {
              "color": "#C8D4E3"
             },
             "line": {
              "color": "white"
             }
            },
            "type": "table"
           }
          ]
         },
         "layout": {
          "annotationdefaults": {
           "arrowcolor": "#2a3f5f",
           "arrowhead": 0,
           "arrowwidth": 1
          },
          "autotypenumbers": "strict",
          "coloraxis": {
           "colorbar": {
            "outlinewidth": 0,
            "ticks": ""
           }
          },
          "colorscale": {
           "diverging": [
            [
             0,
             "#8e0152"
            ],
            [
             0.1,
             "#c51b7d"
            ],
            [
             0.2,
             "#de77ae"
            ],
            [
             0.3,
             "#f1b6da"
            ],
            [
             0.4,
             "#fde0ef"
            ],
            [
             0.5,
             "#f7f7f7"
            ],
            [
             0.6,
             "#e6f5d0"
            ],
            [
             0.7,
             "#b8e186"
            ],
            [
             0.8,
             "#7fbc41"
            ],
            [
             0.9,
             "#4d9221"
            ],
            [
             1,
             "#276419"
            ]
           ],
           "sequential": [
            [
             0,
             "#0d0887"
            ],
            [
             0.1111111111111111,
             "#46039f"
            ],
            [
             0.2222222222222222,
             "#7201a8"
            ],
            [
             0.3333333333333333,
             "#9c179e"
            ],
            [
             0.4444444444444444,
             "#bd3786"
            ],
            [
             0.5555555555555556,
             "#d8576b"
            ],
            [
             0.6666666666666666,
             "#ed7953"
            ],
            [
             0.7777777777777778,
             "#fb9f3a"
            ],
            [
             0.8888888888888888,
             "#fdca26"
            ],
            [
             1,
             "#f0f921"
            ]
           ],
           "sequentialminus": [
            [
             0,
             "#0d0887"
            ],
            [
             0.1111111111111111,
             "#46039f"
            ],
            [
             0.2222222222222222,
             "#7201a8"
            ],
            [
             0.3333333333333333,
             "#9c179e"
            ],
            [
             0.4444444444444444,
             "#bd3786"
            ],
            [
             0.5555555555555556,
             "#d8576b"
            ],
            [
             0.6666666666666666,
             "#ed7953"
            ],
            [
             0.7777777777777778,
             "#fb9f3a"
            ],
            [
             0.8888888888888888,
             "#fdca26"
            ],
            [
             1,
             "#f0f921"
            ]
           ]
          },
          "colorway": [
           "#636efa",
           "#EF553B",
           "#00cc96",
           "#ab63fa",
           "#FFA15A",
           "#19d3f3",
           "#FF6692",
           "#B6E880",
           "#FF97FF",
           "#FECB52"
          ],
          "font": {
           "color": "#2a3f5f"
          },
          "geo": {
           "bgcolor": "white",
           "lakecolor": "white",
           "landcolor": "#E5ECF6",
           "showlakes": true,
           "showland": true,
           "subunitcolor": "white"
          },
          "hoverlabel": {
           "align": "left"
          },
          "hovermode": "closest",
          "mapbox": {
           "style": "light"
          },
          "paper_bgcolor": "white",
          "plot_bgcolor": "#E5ECF6",
          "polar": {
           "angularaxis": {
            "gridcolor": "white",
            "linecolor": "white",
            "ticks": ""
           },
           "bgcolor": "#E5ECF6",
           "radialaxis": {
            "gridcolor": "white",
            "linecolor": "white",
            "ticks": ""
           }
          },
          "scene": {
           "xaxis": {
            "backgroundcolor": "#E5ECF6",
            "gridcolor": "white",
            "gridwidth": 2,
            "linecolor": "white",
            "showbackground": true,
            "ticks": "",
            "zerolinecolor": "white"
           },
           "yaxis": {
            "backgroundcolor": "#E5ECF6",
            "gridcolor": "white",
            "gridwidth": 2,
            "linecolor": "white",
            "showbackground": true,
            "ticks": "",
            "zerolinecolor": "white"
           },
           "zaxis": {
            "backgroundcolor": "#E5ECF6",
            "gridcolor": "white",
            "gridwidth": 2,
            "linecolor": "white",
            "showbackground": true,
            "ticks": "",
            "zerolinecolor": "white"
           }
          },
          "shapedefaults": {
           "line": {
            "color": "#2a3f5f"
           }
          },
          "ternary": {
           "aaxis": {
            "gridcolor": "white",
            "linecolor": "white",
            "ticks": ""
           },
           "baxis": {
            "gridcolor": "white",
            "linecolor": "white",
            "ticks": ""
           },
           "bgcolor": "#E5ECF6",
           "caxis": {
            "gridcolor": "white",
            "linecolor": "white",
            "ticks": ""
           }
          },
          "title": {
           "x": 0.05
          },
          "xaxis": {
           "automargin": true,
           "gridcolor": "white",
           "linecolor": "white",
           "ticks": "",
           "title": {
            "standoff": 15
           },
           "zerolinecolor": "white",
           "zerolinewidth": 2
          },
          "yaxis": {
           "automargin": true,
           "gridcolor": "white",
           "linecolor": "white",
           "ticks": "",
           "title": {
            "standoff": 15
           },
           "zerolinecolor": "white",
           "zerolinewidth": 2
          }
         }
        },
        "width": 800,
        "xaxis": {
         "range": [
          0,
          20
         ],
         "type": "linear"
        },
        "yaxis": {
         "range": [
          0,
          20
         ],
         "type": "linear"
        }
       }
      },
      "image/png": "[encoded data removed]",
      "text/html": [
       "<div>                            <div id=\"f4a3262c-ac12-4eb1-91a5-be33d5d4e02c\" class=\"plotly-graph-div\" style=\"height:800px; width:800px;\"></div>            <script type=\"text/javascript\">                require([\"plotly\"], function(Plotly) {                    window.PLOTLYENV=window.PLOTLYENV || {};                                    if (document.getElementById(\"f4a3262c-ac12-4eb1-91a5-be33d5d4e02c\")) {                    Plotly.newPlot(                        \"f4a3262c-ac12-4eb1-91a5-be33d5d4e02c\",                        [{\"mode\": \"text\", \"text\": [\"A\", \"B\", \"C\", \"D\", \"E\"], \"type\": \"scatter\", \"x\": [5.5, 3, 8, 9.4, 4], \"y\": [14.5, 17, 12, 15.5, 11]}, {\"mode\": \"markers\", \"type\": \"scatter\", \"x\": [9.4, 9.4, 9.4, 9.4, 9.4, 9.4, 9.4, 9.4, 9.4, 9.4, 9.4, 9.4, 9.4, 9.4, 9.4, 9.4, 9.4, 9.4, 9.4, 9.4, 9.4, 9.4, 9.4, 9.4, 9.4, 9.4, 9.4, 9.4, 9.4, 9.4, 9.4, 9.4, 9.4, 9.4, 9.4, 9.4, 9.4, 9.4, 9.4, 9.4, 9.4, 9.572413793103449, 9.572413793103449, 9.572413793103449, 9.572413793103449], \"y\": [15.5, 15.5, 15.5, 15.5, 15.5, 15.5, 15.5, 15.5, 15.5, 15.5, 15.5, 15.5, 15.5, 15.5, 15.5, 15.5, 15.5, 15.5, 15.5, 15.5, 15.5, 15.5, 15.5, 15.5, 15.5, 15.5, 15.5, 15.5, 15.5, 15.5, 15.5, 15.5, 15.5, 15.5, 15.5, 15.5, 15.5, 15.5, 15.5, 15.5, 15.5, 15.5, 15.5, 15.5, 15.5]}, {\"mode\": \"text\", \"text\": \"traditional\", \"type\": \"scatter\", \"x\": [5], \"y\": [15]}, {\"mode\": \"lines\", \"type\": \"scatter\", \"x\": [5, 5.058333333333334, 5.116666666666667, 5.175000000000001, 5.233333333333334, 5.291666666666668, 5.350000000000001, 5.408333333333335, 5.466666666666669, 5.525000000000002, 5.583333333333336, 5.641666666666669, 5.700000000000003, 5.758333333333336, 5.81666666666667, 5.8750000000000036, 5.933333333333337, 5.991666666666671, 6.050000000000004, 6.108333333333338, 6.166666666666671, 6.225000000000005, 6.2833333333333385, 6.341666666666672], \"y\": [15, 14.941666666666666, 14.883333333333333, 14.825, 14.766666666666666, 14.708333333333332, 14.649999999999999, 14.591666666666665, 14.533333333333331, 14.474999999999998, 14.416666666666664, 14.35833333333333, 14.299999999999997, 14.241666666666664, 14.18333333333333, 14.124999999999996, 14.066666666666663, 14.00833333333333, 13.949999999999996, 13.891666666666662, 13.833333333333329, 13.774999999999995, 13.716666666666661, 13.658333333333328]}, {\"mode\": \"text\", \"text\": \"low\", \"type\": \"scatter\", \"x\": [2.5], \"y\": [17.5]}, {\"mode\": \"lines\", \"type\": \"scatter\", \"x\": [1.7, 1.7416666666666667, 1.7833333333333334, 1.8250000000000002, 1.866666666666667, 1.9083333333333337, 1.9500000000000004, 1.9916666666666671, 2.033333333333334, 2.0750000000000006, 2.116666666666667, 2.158333333333334, 2.200000000000001, 2.2416666666666676, 2.283333333333334, 2.325000000000001, 2.366666666666668, 2.4083333333333345, 2.450000000000001, 2.491666666666668, 2.533333333333335, 2.5750000000000015, 2.616666666666668, 2.658333333333335], \"y\": [18.3, 18.258333333333333, 18.216666666666665, 18.174999999999997, 18.13333333333333, 18.09166666666666, 18.049999999999994, 18.008333333333326, 17.966666666666658, 17.92499999999999, 17.883333333333322, 17.841666666666654, 17.799999999999986, 17.75833333333332, 17.71666666666665, 17.674999999999983, 17.633333333333315, 17.591666666666647, 17.54999999999998, 17.50833333333331, 17.466666666666644, 17.424999999999976, 17.383333333333308, 17.34166666666664]}, {\"mode\": \"text\", \"text\": \"high\", \"type\": \"scatter\", \"x\": [7.5], \"y\": [12.5]}, {\"mode\": \"lines\", \"type\": \"scatter\", \"x\": [8.9, 8.975, 9.049999999999999, 9.124999999999998, 9.199999999999998, 9.274999999999997, 9.349999999999996, 9.424999999999995, 9.499999999999995, 9.574999999999994, 9.649999999999993, 9.724999999999993, 9.799999999999992, 9.874999999999991, 9.94999999999999, 10.02499999999999, 10.099999999999989, 10.174999999999988, 10.249999999999988, 10.324999999999987, 10.399999999999986, 10.474999999999985, 10.549999999999985, 10.624999999999984], \"y\": [11.1, 11.025, 10.950000000000001, 10.875000000000002, 10.800000000000002, 10.725000000000003, 10.650000000000004, 10.575000000000005, 10.500000000000005, 10.425000000000006, 10.350000000000007, 10.275000000000007, 10.200000000000008, 10.125000000000009, 10.05000000000001, 9.97500000000001, 9.900000000000011, 9.825000000000012, 9.750000000000012, 9.675000000000013, 9.600000000000014, 9.525000000000015, 9.450000000000015, 9.375000000000016]}, {\"mode\": \"text\", \"text\": \"performance\", \"type\": \"scatter\", \"x\": [8.0], \"y\": [17.0]}, {\"mode\": \"lines\", \"type\": \"scatter\", \"x\": [9.4, 9.483333333333334, 9.566666666666668, 9.650000000000002, 9.733333333333336, 9.81666666666667, 9.900000000000004, 9.983333333333338, 10.066666666666672, 10.150000000000006, 10.23333333333334, 10.316666666666674, 10.400000000000007, 10.483333333333341, 10.566666666666675, 10.65000000000001, 10.733333333333343, 10.816666666666677, 10.900000000000011, 10.983333333333345, 11.066666666666679, 11.150000000000013, 11.233333333333347, 11.31666666666668], \"y\": [16.0, 15.941666666666666, 15.883333333333333, 15.825, 15.766666666666666, 15.708333333333332, 15.649999999999999, 15.591666666666665, 15.533333333333331, 15.474999999999998, 15.416666666666664, 15.35833333333333, 15.299999999999997, 15.241666666666664, 15.18333333333333, 15.124999999999996, 15.066666666666663, 15.00833333333333, 14.949999999999996, 14.891666666666662, 14.833333333333329, 14.774999999999995, 14.716666666666661, 14.658333333333328]}, {\"mode\": \"text\", \"text\": \"size\", \"type\": \"scatter\", \"x\": [3.0], \"y\": [12.0]}, {\"mode\": \"lines\", \"type\": \"scatter\", \"x\": [4.0, 4.058333333333334, 4.116666666666667, 4.175000000000001, 4.233333333333334, 4.291666666666668, 4.350000000000001, 4.408333333333335, 4.466666666666669, 4.525000000000002, 4.583333333333336, 4.641666666666669, 4.700000000000003, 4.758333333333336, 4.81666666666667, 4.8750000000000036, 4.933333333333337, 4.991666666666671, 5.050000000000004, 5.108333333333338, 5.166666666666671, 5.225000000000005, 5.2833333333333385, 5.341666666666672], \"y\": [10.6, 10.516666666666666, 10.433333333333332, 10.349999999999998, 10.266666666666664, 10.18333333333333, 10.099999999999996, 10.016666666666662, 9.933333333333328, 9.849999999999994, 9.76666666666666, 9.683333333333326, 9.599999999999993, 9.516666666666659, 9.433333333333325, 9.34999999999999, 9.266666666666657, 9.183333333333323, 9.099999999999989, 9.016666666666655, 8.933333333333321, 8.849999999999987, 8.766666666666653, 8.68333333333332]}],                        {\"height\": 800, \"shapes\": [{\"line\": {\"color\": \"LightSeaGreen\"}, \"type\": \"circle\", \"x0\": 2.5, \"x1\": 7.5, \"xref\": \"x\", \"y0\": 12.5, \"y1\": 17.5, \"yref\": \"y\"}, {\"line\": {\"color\": \"LightSeaGreen\"}, \"type\": \"circle\", \"x0\": 0.0, \"x1\": 5.0, \"xref\": \"x\", \"y0\": 15.0, \"y1\": 20.0, \"yref\": \"y\"}, {\"line\": {\"color\": \"LightSeaGreen\"}, \"type\": \"circle\", \"x0\": 5.0, \"x1\": 10.0, \"xref\": \"x\", \"y0\": 10.0, \"y1\": 15.0, \"yref\": \"y\"}, {\"line\": {\"color\": \"LightSeaGreen\"}, \"type\": \"circle\", \"x0\": 5.5, \"x1\": 10.5, \"xref\": \"x\", \"y0\": 14.5, \"y1\": 19.5, \"yref\": \"y\"}, {\"line\": {\"color\": \"LightSeaGreen\"}, \"type\": \"circle\", \"x0\": 0.5, \"x1\": 5.5, \"xref\": \"x\", \"y0\": 9.5, \"y1\": 14.5, \"yref\": \"y\"}], \"template\": {\"data\": {\"bar\": [{\"error_x\": {\"color\": \"#2a3f5f\"}, \"error_y\": {\"color\": \"#2a3f5f\"}, \"marker\": {\"line\": {\"color\": \"#E5ECF6\", \"width\": 0.5}}, \"type\": \"bar\"}], \"barpolar\": [{\"marker\": {\"line\": {\"color\": \"#E5ECF6\", \"width\": 0.5}}, \"type\": \"barpolar\"}], \"carpet\": [{\"aaxis\": {\"endlinecolor\": \"#2a3f5f\", \"gridcolor\": \"white\", \"linecolor\": \"white\", \"minorgridcolor\": \"white\", \"startlinecolor\": \"#2a3f5f\"}, \"baxis\": {\"endlinecolor\": \"#2a3f5f\", \"gridcolor\": \"white\", \"linecolor\": \"white\", \"minorgridcolor\": \"white\", \"startlinecolor\": \"#2a3f5f\"}, \"type\": \"carpet\"}], \"choropleth\": [{\"colorbar\": {\"outlinewidth\": 0, \"ticks\": \"\"}, \"type\": \"choropleth\"}], \"contour\": [{\"colorbar\": {\"outlinewidth\": 0, \"ticks\": \"\"}, \"colorscale\": [[0.0, \"#0d0887\"], [0.1111111111111111, \"#46039f\"], [0.2222222222222222, \"#7201a8\"], [0.3333333333333333, \"#9c179e\"], [0.4444444444444444, \"#bd3786\"], [0.5555555555555556, \"#d8576b\"], [0.6666666666666666, \"#ed7953\"], [0.7777777777777778, \"#fb9f3a\"], [0.8888888888888888, \"#fdca26\"], [1.0, \"#f0f921\"]], \"type\": \"contour\"}], \"contourcarpet\": [{\"colorbar\": {\"outlinewidth\": 0, \"ticks\": \"\"}, \"type\": \"contourcarpet\"}], \"heatmap\": [{\"colorbar\": {\"outlinewidth\": 0, \"ticks\": \"\"}, \"colorscale\": [[0.0, \"#0d0887\"], [0.1111111111111111, \"#46039f\"], [0.2222222222222222, \"#7201a8\"], [0.3333333333333333, \"#9c179e\"], [0.4444444444444444, \"#bd3786\"], [0.5555555555555556, \"#d8576b\"], [0.6666666666666666, \"#ed7953\"], [0.7777777777777778, \"#fb9f3a\"], [0.8888888888888888, \"#fdca26\"], [1.0, \"#f0f921\"]], \"type\": \"heatmap\"}], \"heatmapgl\": [{\"colorbar\": {\"outlinewidth\": 0, \"ticks\": \"\"}, \"colorscale\": [[0.0, \"#0d0887\"], [0.1111111111111111, \"#46039f\"], [0.2222222222222222, \"#7201a8\"], [0.3333333333333333, \"#9c179e\"], [0.4444444444444444, \"#bd3786\"], [0.5555555555555556, \"#d8576b\"], [0.6666666666666666, \"#ed7953\"], [0.7777777777777778, \"#fb9f3a\"], [0.8888888888888888, \"#fdca26\"], [1.0, \"#f0f921\"]], \"type\": \"heatmapgl\"}], \"histogram\": [{\"marker\": {\"colorbar\": {\"outlinewidth\": 0, \"ticks\": \"\"}}, \"type\": \"histogram\"}], \"histogram2d\": [{\"colorbar\": {\"outlinewidth\": 0, \"ticks\": \"\"}, \"colorscale\": [[0.0, \"#0d0887\"], [0.1111111111111111, \"#46039f\"], [0.2222222222222222, \"#7201a8\"], [0.3333333333333333, \"#9c179e\"], [0.4444444444444444, \"#bd3786\"], [0.5555555555555556, \"#d8576b\"], [0.6666666666666666, \"#ed7953\"], [0.7777777777777778, \"#fb9f3a\"], [0.8888888888888888, \"#fdca26\"], [1.0, \"#f0f921\"]], \"type\": \"histogram2d\"}], \"histogram2dcontour\": [{\"colorbar\": {\"outlinewidth\": 0, \"ticks\": \"\"}, \"colorscale\": [[0.0, \"#0d0887\"], [0.1111111111111111, \"#46039f\"], [0.2222222222222222, \"#7201a8\"], [0.3333333333333333, \"#9c179e\"], [0.4444444444444444, \"#bd3786\"], [0.5555555555555556, \"#d8576b\"], [0.6666666666666666, \"#ed7953\"], [0.7777777777777778, \"#fb9f3a\"], [0.8888888888888888, \"#fdca26\"], [1.0, \"#f0f921\"]], \"type\": \"histogram2dcontour\"}], \"mesh3d\": [{\"colorbar\": {\"outlinewidth\": 0, \"ticks\": \"\"}, \"type\": \"mesh3d\"}], \"parcoords\": [{\"line\": {\"colorbar\": {\"outlinewidth\": 0, \"ticks\": \"\"}}, \"type\": \"parcoords\"}], \"pie\": [{\"automargin\": true, \"type\": \"pie\"}], \"scatter\": [{\"marker\": {\"colorbar\": {\"outlinewidth\": 0, \"ticks\": \"\"}}, \"type\": \"scatter\"}], \"scatter3d\": [{\"line\": {\"colorbar\": {\"outlinewidth\": 0, \"ticks\": \"\"}}, \"marker\": {\"colorbar\": {\"outlinewidth\": 0, \"ticks\": \"\"}}, \"type\": \"scatter3d\"}], \"scattercarpet\": [{\"marker\": {\"colorbar\": {\"outlinewidth\": 0, \"ticks\": \"\"}}, \"type\": \"scattercarpet\"}], \"scattergeo\": [{\"marker\": {\"colorbar\": {\"outlinewidth\": 0, \"ticks\": \"\"}}, \"type\": \"scattergeo\"}], \"scattergl\": [{\"marker\": {\"colorbar\": {\"outlinewidth\": 0, \"ticks\": \"\"}}, \"type\": \"scattergl\"}], \"scattermapbox\": [{\"marker\": {\"colorbar\": {\"outlinewidth\": 0, \"ticks\": \"\"}}, \"type\": \"scattermapbox\"}], \"scatterpolar\": [{\"marker\": {\"colorbar\": {\"outlinewidth\": 0, \"ticks\": \"\"}}, \"type\": \"scatterpolar\"}], \"scatterpolargl\": [{\"marker\": {\"colorbar\": {\"outlinewidth\": 0, \"ticks\": \"\"}}, \"type\": \"scatterpolargl\"}], \"scatterternary\": [{\"marker\": {\"colorbar\": {\"outlinewidth\": 0, \"ticks\": \"\"}}, \"type\": \"scatterternary\"}], \"surface\": [{\"colorbar\": {\"outlinewidth\": 0, \"ticks\": \"\"}, \"colorscale\": [[0.0, \"#0d0887\"], [0.1111111111111111, \"#46039f\"], [0.2222222222222222, \"#7201a8\"], [0.3333333333333333, \"#9c179e\"], [0.4444444444444444, \"#bd3786\"], [0.5555555555555556, \"#d8576b\"], [0.6666666666666666, \"#ed7953\"], [0.7777777777777778, \"#fb9f3a\"], [0.8888888888888888, \"#fdca26\"], [1.0, \"#f0f921\"]], \"type\": \"surface\"}], \"table\": [{\"cells\": {\"fill\": {\"color\": \"#EBF0F8\"}, \"line\": {\"color\": \"white\"}}, \"header\": {\"fill\": {\"color\": \"#C8D4E3\"}, \"line\": {\"color\": \"white\"}}, \"type\": \"table\"}]}, \"layout\": {\"annotationdefaults\": {\"arrowcolor\": \"#2a3f5f\", \"arrowhead\": 0, \"arrowwidth\": 1}, \"autotypenumbers\": \"strict\", \"coloraxis\": {\"colorbar\": {\"outlinewidth\": 0, \"ticks\": \"\"}}, \"colorscale\": {\"diverging\": [[0, \"#8e0152\"], [0.1, \"#c51b7d\"], [0.2, \"#de77ae\"], [0.3, \"#f1b6da\"], [0.4, \"#fde0ef\"], [0.5, \"#f7f7f7\"], [0.6, \"#e6f5d0\"], [0.7, \"#b8e186\"], [0.8, \"#7fbc41\"], [0.9, \"#4d9221\"], [1, \"#276419\"]], \"sequential\": [[0.0, \"#0d0887\"], [0.1111111111111111, \"#46039f\"], [0.2222222222222222, \"#7201a8\"], [0.3333333333333333, \"#9c179e\"], [0.4444444444444444, \"#bd3786\"], [0.5555555555555556, \"#d8576b\"], [0.6666666666666666, \"#ed7953\"], [0.7777777777777778, \"#fb9f3a\"], [0.8888888888888888, \"#fdca26\"], [1.0, \"#f0f921\"]], \"sequentialminus\": [[0.0, \"#0d0887\"], [0.1111111111111111, \"#46039f\"], [0.2222222222222222, \"#7201a8\"], [0.3333333333333333, \"#9c179e\"], [0.4444444444444444, \"#bd3786\"], [0.5555555555555556, \"#d8576b\"], [0.6666666666666666, \"#ed7953\"], [0.7777777777777778, \"#fb9f3a\"], [0.8888888888888888, \"#fdca26\"], [1.0, \"#f0f921\"]]}, \"colorway\": [\"#636efa\", \"#EF553B\", \"#00cc96\", \"#ab63fa\", \"#FFA15A\", \"#19d3f3\", \"#FF6692\", \"#B6E880\", \"#FF97FF\", \"#FECB52\"], \"font\": {\"color\": \"#2a3f5f\"}, \"geo\": {\"bgcolor\": \"white\", \"lakecolor\": \"white\", \"landcolor\": \"#E5ECF6\", \"showlakes\": true, \"showland\": true, \"subunitcolor\": \"white\"}, \"hoverlabel\": {\"align\": \"left\"}, \"hovermode\": \"closest\", \"mapbox\": {\"style\": \"light\"}, \"paper_bgcolor\": \"white\", \"plot_bgcolor\": \"#E5ECF6\", \"polar\": {\"angularaxis\": {\"gridcolor\": \"white\", \"linecolor\": \"white\", \"ticks\": \"\"}, \"bgcolor\": \"#E5ECF6\", \"radialaxis\": {\"gridcolor\": \"white\", \"linecolor\": \"white\", \"ticks\": \"\"}}, \"scene\": {\"xaxis\": {\"backgroundcolor\": \"#E5ECF6\", \"gridcolor\": \"white\", \"gridwidth\": 2, \"linecolor\": \"white\", \"showbackground\": true, \"ticks\": \"\", \"zerolinecolor\": \"white\"}, \"yaxis\": {\"backgroundcolor\": \"#E5ECF6\", \"gridcolor\": \"white\", \"gridwidth\": 2, \"linecolor\": \"white\", \"showbackground\": true, \"ticks\": \"\", \"zerolinecolor\": \"white\"}, \"zaxis\": {\"backgroundcolor\": \"#E5ECF6\", \"gridcolor\": \"white\", \"gridwidth\": 2, \"linecolor\": \"white\", \"showbackground\": true, \"ticks\": \"\", \"zerolinecolor\": \"white\"}}, \"shapedefaults\": {\"line\": {\"color\": \"#2a3f5f\"}}, \"ternary\": {\"aaxis\": {\"gridcolor\": \"white\", \"linecolor\": \"white\", \"ticks\": \"\"}, \"baxis\": {\"gridcolor\": \"white\", \"linecolor\": \"white\", \"ticks\": \"\"}, \"bgcolor\": \"#E5ECF6\", \"caxis\": {\"gridcolor\": \"white\", \"linecolor\": \"white\", \"ticks\": \"\"}}, \"title\": {\"x\": 0.05}, \"xaxis\": {\"automargin\": true, \"gridcolor\": \"white\", \"linecolor\": \"white\", \"ticks\": \"\", \"title\": {\"standoff\": 15}, \"zerolinecolor\": \"white\", \"zerolinewidth\": 2}, \"yaxis\": {\"automargin\": true, \"gridcolor\": \"white\", \"linecolor\": \"white\", \"ticks\": \"\", \"title\": {\"standoff\": 15}, \"zerolinecolor\": \"white\", \"zerolinewidth\": 2}}}, \"width\": 800, \"xaxis\": {\"range\": [0, 20]}, \"yaxis\": {\"range\": [0, 20]}},                        {\"responsive\": true}                    ).then(function(){\n",
       "                            \n",
       "var gd = document.getElementById('f4a3262c-ac12-4eb1-91a5-be33d5d4e02c');\n",
       "var x = new MutationObserver(function (mutations, observer) {{\n",
       "        var display = window.getComputedStyle(gd).display;\n",
       "        if (!display || display === 'none') {{\n",
       "            console.log([gd, 'removed!']);\n",
       "            Plotly.purge(gd);\n",
       "            observer.disconnect();\n",
       "        }}\n",
       "}});\n",
       "\n",
       "// Listen for the removal of the full notebook cells\n",
       "var notebookContainer = gd.closest('#notebook-container');\n",
       "if (notebookContainer) {{\n",
       "    x.observe(notebookContainer, {childList: true});\n",
       "}}\n",
       "\n",
       "// Listen for the clearing of the current output cell\n",
       "var outputEl = gd.closest('.output');\n",
       "if (outputEl) {{\n",
       "    x.observe(outputEl, {childList: true});\n",
       "}}\n",
       "\n",
       "                        })                };                });            </script>        </div>"
      ]
     },
     "metadata": {},
     "output_type": "display_data"
    }
   ],
   "source": [
    "reload(cp)\n",
    "x = cp.simulate2()\n",
    "perfX, szY, rndYears = zip(*x)\n",
    "fig = go.Figure()\n",
    "fig.update_xaxes(range=[0, 20])\n",
    "fig.update_yaxes(range=[0, 20])\n",
    "fig.update_layout(width=800, height=800)\n",
    "products = [(5.5, 14.5, \"A\"), (3, 17, \"B\"), (8, 12, \"C\"), (9.4, 15.5, \"D\"), (4, 11, \"E\")]\n",
    "x, y, labels = zip(*products)\n",
    "fig.add_trace(go.Scatter(\n",
    "    x=x,\n",
    "    y=y,\n",
    "    text=labels,\n",
    "    mode=\"text\",\n",
    "))\n",
    "\n",
    "month = np.arange(0, 24, 1)\n",
    "fig.add_trace(go.Scatter(\n",
    "x=list(perfX),\n",
    "y=list(szY),\n",
    "mode=\"markers\",\n",
    "))\n",
    "\n",
    "for segment in cp.segments:\n",
    "    cx, cy, ix, iy = cp.segments[segment][\"pos\"]\n",
    "    dx, dy = cp.segments[segment][\"driftPerYear\"]\n",
    "    x0=cx-2.5\n",
    "    y0=cy-2.5\n",
    "    x1 = cx+2.5\n",
    "    y1=cy+2.5\n",
    "    fig.add_shape(type=\"circle\",\n",
    "        xref=\"x\", yref=\"y\",\n",
    "        x0=cx-2.5, y0=cy-2.5, x1 = cx+2.5, y1=cy+2.5,\n",
    "        line_color=\"LightSeaGreen\",\n",
    "    )\n",
    "    fig.add_trace(go.Scatter(\n",
    "        x=[cx],\n",
    "        y=[cy],\n",
    "        text=segment,\n",
    "        mode=\"text\",\n",
    "    ))\n",
    "    segmentX = [[0, ix], [1, ix+dx/12]]\n",
    "    segmentY = [[0, iy], [1, iy+dy/12]]\n",
    "    x = list(map(lambda x: cp.yy(segmentX, x, \"extrapolate\", \"extrapolate\"), month))\n",
    "    y = list(map(lambda x: cp.yy(segmentY, x, \"extrapolate\", \"extrapolate\"), month))\n",
    "    fig.add_trace(go.Scatter(\n",
    "    x=x,\n",
    "    y=y,\n",
    "    mode=\"lines\",\n",
    "    ))\n",
    "\n",
    "\n",
    "fig.show()\n"
   ]
  },
  {
   "cell_type": "code",
   "execution_count": 8,
   "id": "compatible-detection",
   "metadata": {},
   "outputs": [
    {
     "data": {
      "application/vnd.plotly.v1+json": {
       "config": {
        "plotlyServerURL": "https://plot.ly"
       },
       "data": [
        {
         "type": "histogram",
         "x": [
          1.301263689661088,
          1.2936343644437627,
          1.296859121522603,
          1.2972991103267313,
          1.3230258065707379,
          1.3154604803880028,
          1.3078728257762329,
          1.3002627412478989,
          1.2926301246850342,
          1.3186551518584566,
          1.3110783838132163,
          1.3034792416324685,
          1.2958576235802475,
          1.3866540023812344,
          1.3790243626788303,
          1.3713717708396442,
          1.363696120801416,
          1.3827959383646915,
          1.3751560769366267,
          1.3674932219363525,
          1.3294676362247926,
          1.3219206633324458,
          1.314351442403482,
          1.3067598724314604,
          1.2991458517831913,
          1.291509278193761,
          1.3251077311516881,
          1.3175493584419342,
          1.3099686922117413,
          1.3023656312077372,
          1.2947400735480818,
          1.4011895776305978,
          1.3936030949874945,
          1.385993856901714,
          1.37836175853188,
          1.370706694378566,
          1.3630285582790276,
          1.3897548033488514,
          1.3821353824857572,
          1.3744930601140706,
          1.3668277305067302,
          1.3832573410000053,
          1.3298437805143914,
          1.3222979818516762,
          1.3147299406213246,
          1.3071395558506251,
          1.2995267259403764,
          1.291891348659912,
          1.3254840715154856,
          1.3179268739480092,
          1.3103473883346992,
          1.302745513455956,
          1.295121147463972,
          1.4021462475186068,
          1.3945627946002557,
          1.386956600619704,
          1.3793275608264757,
          1.3716755698127594,
          1.3640005215081514,
          1.3983086035470447,
          1.3907150112494997,
          1.383098636906408,
          1.3754593755413773,
          1.3677971215190834,
          1.3842156425237597,
          1.2330725437373562,
          1.2356934932554962,
          1.3150056267950516,
          1.3074195602550098,
          1.2998110832710166,
          1.3106160525303405,
          1.303018472752037,
          1.3234072486203026,
          1.315846822281801,
          1.3082641062912028,
          1.3006589994961946,
          1.3190296977244862,
          1.311457807216949,
          1.3038635812633885,
          1.387503625523842,
          1.3798799418477294,
          1.3722333481748183,
          1.383640165962668,
          1.3760062438499752,
          1.4227939903183322,
          1.4152719971516194,
          1.407727544585351,
          1.4001605296317599,
          1.3925708486598236,
          1.38495839739015,
          1.3773230708898088,
          1.369664763567116,
          1.3619833691663632,
          1.4189854953235967,
          1.4114534795992848,
          1.4038989641306512,
          1.3963218457084872,
          1.3887220204787738,
          1.3810993839375492,
          1.3734538309257318,
          1.3657852556238854,
          1.4925997269919962,
          1.4850325765650902,
          1.4774424449164378,
          1.4698292252023444,
          1.4621928099048083,
          1.4545330908261123,
          1.4468499590833759,
          1.4391433051030404,
          1.4817215191853546,
          1.4741225229041302,
          1.4665004021659385,
          1.4588550492487058,
          1.4511863557491806,
          1.4434942125774615,
          1.469940932599108,
          1.462311313853107,
          1.4366931608036608,
          1.4292119331600426,
          1.421708429625821,
          1.4141825483383021,
          1.4066341868003296,
          1.3990632418752453,
          1.3914696097818102,
          1.383853186089073,
          1.3762138657111864,
          1.3685515429021815,
          1.3608661112506781,
          1.4254127749981642,
          1.4178992855776806,
          1.410363378254432,
          1.402804950311145,
          1.3952238983894998,
          1.3876201184850367,
          1.3799935059420094,
          1.3723439554481913,
          1.3646713610296286,
          1.4997830838799209,
          1.4922372025315291,
          1.48466843609884,
          1.4770766783267684,
          1.4694618222904883,
          1.4618237603900706,
          1.4541623843450748,
          1.4464775851890834,
          1.4387692532641836,
          1.488934703931993,
          1.4813571073685377,
          1.473756483263269,
          1.466132724488613,
          1.4584857232404387,
          1.4508153710326332,
          1.4431215586916242,
          1.4771840187371956,
          1.469575916702343,
          1.4619446663445868,
          1.4381485340265021,
          1.430671961378029,
          1.423173135195126,
          1.415651953758392,
          1.4081083147151103,
          1.4005421150742248,
          1.3929532512012675,
          1.3853416188132424,
          1.3777071129734515,
          1.3700496280862793,
          1.3623690578919174,
          1.4268735841962332,
          1.419364775881315,
          1.4118335721871824,
          1.4042798705411963,
          1.3967035677308333,
          1.3891045598986027,
          1.3814827425369118,
          1.3738380104828833,
          1.366170257913122,
          1.5021673937451663,
          1.494629071638603,
          1.4870679004456135,
          1.4794837741399773,
          1.4718765860275538,
          1.4642462287409406,
          1.456592594234077,
          1.4489155737768005,
          1.4412150579493448,
          1.4913278412420143,
          1.4837578459631577,
          1.476164859407691,
          1.468548774679033,
          1.4609094842058865,
          1.453246879736832,
          1.445560852334868,
          1.4795799781824317,
          1.471979490889666,
          1.4643558916248747,
          1.3369360396937273,
          1.3294142336475334,
          1.3218703070803333,
          1.31430415984923,
          1.306715691191904,
          1.2991047997217156,
          1.332580336297603,
          1.325047151708076,
          1.317491801257688,
          1.3099141845578315,
          1.3023142005987705,
          1.4108907980349654,
          1.4033365382413443,
          1.3957596839770374,
          1.388160131475749,
          1.3805377763221314,
          1.3728925134466097,
          1.4070580280306337,
          1.3994936533150115,
          1.391906643309441,
          1.3842968940230922,
          1.3766643008144965,
          1.3929759137896707,
          1.3155154620603036,
          1.3079345078081965,
          1.3111189694701713,
          1.4177674401407663,
          1.4102344173209653,
          1.4026789015400076,
          1.3951007896961305,
          1.3874999780440753,
          1.3798763621899743,
          1.3722298370861852,
          1.4139445347130426,
          1.4064014372962832,
          1.3988358063254898,
          1.3912475384760044,
          1.383636529778106,
          1.3760026756118813,
          1.487709262700394,
          1.4801307054094701,
          1.4725291285236721,
          1.4649044250397043,
          1.457256487279263,
          1.4495852068836315,
          1.476807698699771,
          1.469197213754288,
          1.4615635656103216,
          1.4539066463842603,
          1.521332878786695,
          1.5138523654003295,
          1.5063492709235324,
          1.498823491022718,
          1.4912749207099885,
          1.4837034543379333,
          1.4761089855943632,
          1.4684914074970035,
          1.4608506123881324,
          1.453186491929166,
          1.4454989370951927,
          1.4377878381694527,
          1.5180648990172614,
          1.5105756965070996,
          1.5030638774913978,
          1.4955293374394623,
          1.4879719711648864,
          1.480391672820328,
          1.4727883358922367,
          1.465161853195533,
          1.457512116868233,
          1.4498390183660226,
          1.4421424484567766,
          1.5894994567813028,
          1.581967731733208,
          1.574412882451663,
          1.5668348006554738,
          1.5592333773775837,
          1.551608502959579,
          1.5439600670461375,
          1.5362879585794211,
          1.5285920657934196,
          1.5208722762082336,
          1.5791863432274515,
          1.5716239158416139,
          1.5640382242319093,
          1.5564291592499595,
          1.5487966110547,
          1.541140469106817,
          1.5334606221631302,
          1.5257569582709198,
          1.5621290307628082,
          1.5545183312507784,
          1.5468841576233736,
          1.5364023667964661,
          1.52896682154949,
          1.5215089002444975,
          1.514028499815021,
          1.5065255165502112,
          1.4989998460897302,
          1.4914513834185807,
          1.4838800228618987,
          1.4762856580796848,
          1.468668182061493,
          1.4610274871210633,
          1.4533634648909002,
          1.4456760063168055,
          1.43796500165235,
          1.5257075149887347,
          1.518240939493659,
          1.510751849650305,
          1.5032401415520582,
          1.4957057106414144,
          1.4881484517048078,
          1.4805682588673843,
          1.472965025587723,
          1.4653386446525123,
          1.4576890081711673,
          1.4500160075704007,
          1.4423195335887375,
          1.598429195726169,
          1.590924415111437,
          1.5833966336856735,
          1.575845743929407,
          1.5682716376432373,
          1.5606742059423935,
          1.553053339251237,
          1.5454089272977145,
          1.5377408591077555,
          1.5300490229996164,
          1.5223333065781666,
          1.5881512318616384,
          1.5806159065157526,
          1.5730574413237985,
          1.565475727906452,
          1.5578706571977015,
          1.5502421194393399,
          1.542590004175406,
          1.5349142002465692,
          1.5272145957844605,
          1.5787075280265077,
          1.5711474005292605,
          1.563564033567909,
          1.5559573182178685,
          1.5483271448640443,
          1.48822573367148,
          1.5386020524133817,
          1.5311733657215387,
          1.5237223350656484,
          1.5162488575795559,
          1.5087528297542883,
          1.5012341474329611,
          1.4936927058056235,
          1.4861283994040657,
          1.4785411220965647,
          1.4709307670825895,
          1.4632972268874462,
          1.4556403933568773,
          1.447960157651606,
          1.440256410241824,
          1.527915209755365,
          1.520455530298369,
          1.5129733688210432,
          1.505468621618911,
          1.497941184338187,
          1.4903909519706204,
          1.482817818848281,
          1.4752216786382977,
          1.467602424337549,
          1.4599599482672951,
          1.4522941420677673,
          1.4446048966926932,
          1.6093965014318223,
          1.6019253974323187,
          1.5944314495534473,
          1.5869145512607652,
          1.5793745953476943,
          1.5718114739301592,
          1.5642250784411647,
          1.5566152996253229,
          1.5489820275333326,
          1.5413251515163948,
          1.533644560220586,
          1.5259401415811633,
          1.5916600835801713,
          1.5841356498295283,
          1.5765881269955178,
          1.5690174070145468,
          1.5614233811387923,
          1.5538059399307158,
          1.5461649732575273,
          1.5385003702855935,
          1.5308120194747918,
          1.5822204236158326,
          1.574671206552006,
          1.5670988009038878,
          1.5595030980635352,
          1.5518839887349618,
          1.4904477964320737,
          1.4410384155410276,
          1.4335740002400863,
          1.4260874014921736,
          1.4185785180914492,
          1.4110472482033287,
          1.4034934893595095,
          1.3959171384529505,
          1.388318091732799,
          1.3806962447992743,
          1.3730514925984927,
          1.437245783530397,
          1.4297714147619922,
          1.4222748226124462,
          1.4147559056575945,
          1.4072145618430003,
          1.3996506884789695,
          1.3920641822355118,
          1.3844549391372598,
          1.3768228545583334,
          1.514589744791311,
          1.5070921900151784,
          1.499571987457087,
          1.4920290324202945,
          1.4844632195511485,
          1.4768744428338532,
          1.469262595585185,
          1.4616275704491624,
          1.4539692593916551,
          1.5037977997912098,
          1.496268806955887,
          1.4887170257013995,
          1.4811423504735068,
          1.473544675054389,
          1.4659238925573548,
          1.4582798954214902,
          1.4920651589035285,
          1.4845057493259224,
          1.4769234311315589,
          1.2524973252768339,
          1.244985403384921,
          1.334054665816251,
          1.3265298061054687,
          1.3189828353460342,
          1.3114136535841385,
          1.3296830529816437,
          1.3221467588999005,
          1.3145883081753955,
          1.4027230893841334,
          1.3951495643802947,
          1.3875533779345843,
          1.326475246608211,
          1.318932257985036,
          1.3220850921235587,
          1.3922409819536885,
          1.4339417617976637,
          1.4264601028393362,
          1.4189561990878075,
          1.4114299490591777,
          1.4038812506393676,
          1.3963100010791358,
          1.3887160969890495,
          1.3810994343344063,
          1.5080855796221617,
          1.5005703661314314,
          1.4930324333809037,
          1.4854716762931897,
          1.4778879891315149,
          1.4702812654944697,
          1.4626513983107097,
          1.454998279833599,
          1.4972680235591829,
          1.4897212701755296,
          1.4821516563601262,
          1.4745590761746405,
          1.4669434230146632,
          1.4593045896043946,
          1.5688949244865242,
          1.5613043594797449,
          1.5536904133409486,
          1.5460529762662687,
          1.538391937754505,
          1.539208671962057,
          1.5317849428016155,
          1.524338906180897,
          1.5168704595411342,
          1.5093794996837597,
          1.5018659227653344,
          1.4943296242924404,
          1.4867704991165105,
          1.47918844142862,
          1.471583344754222,
          1.4639551019478296,
          1.4563036051876543,
          1.4486287459701817,
          1.6111467429651332,
          1.603682787774986,
          1.5961960307855865,
          1.588686365784091,
          1.5811536858885369,
          1.5735978835425128,
          1.5660188505097696,
          1.5584164778687843,
          1.5507906560072715,
          1.5431412746166357,
          1.5354682226863803,
          1.5277713884984485,
          1.6009201261021306,
          1.5934258720110466,
          1.5859086786771976,
          1.5783684390409172,
          1.5708050453667897,
          1.563218389238258,
          1.5556083615521739,
          1.5479748525132928,
          1.540317751628722,
          1.5326369477023096,
          1.678152013977808,
          1.6706299283066368,
          1.6630844637817783,
          1.6555155100300125,
          1.6479229559757476,
          1.640306689835376,
          1.6326665991115805,
          1.625002570587586,
          1.6173144903213506,
          1.5811947845425671,
          1.5736452056362389,
          1.5660724491871432,
          1.5584764067347736,
          1.6306447269365254,
          1.62323879376698,
          1.6158103219663595,
          1.6083592069361368,
          1.6008853434212016,
          1.5933886255046434,
          1.5858689466024896,
          1.5783261994583795,
          1.5707602761382073,
          1.5631710680246946,
          1.5555584658119188,
          1.5479223594997906,
          1.5402626383884692,
          1.5325791910727338,
          1.5248719054362887,
          1.627910116774615,
          1.6204968010819891,
          1.6130609161654563,
          1.6056023572533231,
          1.5981210189160555,
          1.5906167950610568,
          1.5830895789273818,
          1.5755392630804186,
          1.5679657394065025,
          1.560368899107485,
          1.5527486326952504,
          1.5451048299861778,
          1.537437380095549,
          1.529746171431903,
          1.7066275283957077,
          1.6991922350596096,
          1.691733964447182,
          1.6842526086887788,
          1.676748059232073,
          1.669220206836599,
          1.6616689415682526,
          1.6540941527937292,
          1.6464957291749116,
          1.638873558663204,
          1.631227528493811,
          1.6235575251799566,
          1.6158634345070546,
          1.6894792990611198,
          1.6819916408716693,
          1.6744807619309634,
          1.6669465528400855,
          1.6593889035052922,
          1.6518077031324419,
          1.6442028402213749,
          1.6365742025602328,
          1.6289216772197284,
          1.6212451505473524,
          1.6822930067048256,
          1.6747860404886248,
          1.6672557739863112,
          1.6597020973518557,
          1.6521249000411884,
          1.6445240708065942,
          1.5811410723152708,
          1.5568709271528045,
          1.5494999757453973,
          1.5421069570963672,
          1.5346917701246046,
          1.5272543131206948,
          1.5197944837419586,
          1.5123121790074503,
          1.5048072952929006,
          1.4972797283256205,
          1.489729373179348,
          1.4821561242690482,
          1.4745598753456632,
          1.466940519490811,
          1.4592979491114322,
          1.451632055934385,
          1.6319011511878163,
          1.6245001120062066,
          1.6170765603011,
          1.609630391650278,
          1.6021615009763759,
          1.594669782541684,
          1.587155129942891,
          1.5796174361057873,
          1.5720565932799067,
          1.5644724930331204,
          1.5568650262461834,
          1.5492340831072173,
          1.54157955310615,
          1.5339013250290945,
          1.6217553085423744,
          1.614324334904207,
          1.6068707135198976,
          1.5993943391375123,
          1.5918951058435022,
          1.5843729070574448,
          1.5768276355267237,
          1.5692591833211655,
          1.5616674418276242,
          1.5540523017445087,
          1.5464136530762604,
          1.5387513851277783,
          1.6954555318592914,
          1.6879861425651808,
          1.6804936164030406,
          1.6729778444881445,
          1.6654387172448804,
          1.657876124401222,
          1.6502899549831402,
          1.642680097308962,
          1.6350464389836779,
          1.6273888668931864,
          1.6021672142851704,
          1.5946815106476653,
          1.5871729244627648,
          1.5796413491038488,
          1.5720866772723976,
          1.5645088009926318,
          1.5851825309728593,
          1.4572643846096558,
          1.4498511607029414,
          1.4424159990243959,
          1.434958799958943,
          1.4274794632757697,
          1.419977888123476,
          1.4124539730251864,
          1.4049076158736091,
          1.3973387139260491,
          1.389747163799376,
          1.3821328614649357,
          1.53548363854975,
          1.528050608387275,
          1.5205952341810691,
          1.5131174131673955,
          1.5056170419411676,
          1.4980940164508678,
          1.4905482319934167,
          1.4829795832089963,
          1.4753879640758187,
          1.4677732679048485,
          1.4601353873344716,
          1.5247769702944427,
          1.5173128932682158,
          1.5098263339976763,
          1.502317188880863,
          1.4947853536679838,
          1.4872307234562716,
          1.4796531926847936,
          1.4720526551292124,
          1.464429003896488,
          1.6018413313832236,
          1.5943512284155141,
          1.586838208601895,
          1.5793021650254055,
          1.571742990094371,
          1.5641605755370136,
          1.556554812396014,
          1.5489255910230124,
          1.5098070192786723,
          1.5023039796417716,
          1.4947783030517443,
          1.4872298850713783,
          1.3464085055544102,
          1.3389220203198904,
          1.3314136063711675,
          1.32388316492929,
          1.3163305966078684,
          1.3420510135472665,
          1.334553153136571,
          1.3270333187567647,
          1.319491411384292,
          1.4235068168621177,
          1.4159973220533626,
          1.408465467369348,
          1.4009111506672571,
          1.3933342691691801,
          1.4196751779925019,
          1.412155583894382,
          1.404613589256085,
          1.3970490917118612,
          1.336014850212672,
          1.3285041345252016,
          1.4068706659326196,
          1.3993152731320329,
          1.4030121940926723,
          1.531514846365686,
          1.5240727642023526,
          1.516608310295856,
          1.5091213817985565,
          1.5016118752215035,
          1.4940796864293633,
          1.4865247106352963,
          1.4789468423957863,
          1.471345975605418,
          1.4637220034916059,
          1.520792654420863,
          1.5133194748703802,
          1.5058237851891365,
          1.4983054816907695,
          1.4907644600411292,
          1.4832006152531436,
          1.4756138416816362,
          1.4680040330180892,
          1.5928981886138165,
          1.5853834462198588,
          1.577845686324583,
          1.570284801473271,
          1.562700683533009,
          1.5550932236872776,
          1.5474623124304792,
          1.5825937724464376,
          1.5750484116061443,
          1.5674798940402799,
          1.5598881114346808,
          1.5522729547902516,
          1.6438559482121826,
          1.636493802307481,
          1.6291093359997257,
          1.6217024461441043,
          1.6142730289513523,
          1.6068209799826643,
          1.5993461941445493,
          1.5918485656836359,
          1.5843279881814363,
          1.576784354549048,
          1.5692175570218139,
          1.5616274871539255,
          1.5540140358129755,
          1.5463770931744603,
          1.5387165487162204,
          1.6263673139209116,
          1.6189530170798945,
          1.6115161622077616,
          1.604056644692082,
          1.5965743592644788,
          1.5890691999954305,
          1.581541060289017,
          1.573989832877613,
          1.5664154098165366,
          1.5588176824786395,
          1.5511965415488496,
          1.543551877018658,
          1.7041005002418772,
          1.696660597296414,
          1.68919770944625,
          1.681711728855714,
          1.6742025470073358,
          1.6666700546963993,
          1.6591141420254558,
          1.6515346983987793,
          1.6439316125167664,
          1.6363047723702877,
          1.6286540652349792,
          1.6869374028001614,
          1.6794451008193356,
          1.671929570447797,
          1.6643907023220061,
          1.6568283863845041,
          1.6492425118783545,
          1.641632967341538,
          1.633999640601286,
          1.6797279723610008,
          1.6722162814428334,
          1.6646812822321857,
          1.6571228649164298,
          1.647898941337183,
          1.6405488659391556,
          1.6331765240395844,
          1.6257818128133974,
          1.6183646287934328,
          1.6109248678653656,
          1.6034624252625878,
          1.595977195561033,
          1.5884690726739612,
          1.5809379498466847,
          1.573383719651247,
          1.5658062739810514,
          1.5582055040454323,
          1.5505813003641817,
          1.5429335527620154,
          1.734999124922297,
          1.7276530716704144,
          1.7202844657981105,
          1.7128932021503436,
          1.7054791749112246,
          1.6980422775987742,
          1.6905824030596364,
          1.683099443463732,
          1.6755932902988695,
          1.668063834365299,
          1.6605109657702135,
          1.6529345739222001,
          1.645334547525632,
          1.6377107745750155,
          1.63006314234927,
          1.7180496762756268,
          1.7106521994862898,
          1.7032319325974195,
          1.6957887689728084,
          1.6883226013037227,
          1.680833321603553,
          1.6733208212024073,
          1.6657849907416586,
          1.6582257201684358,
          1.6506428987300599,
          1.6430364149684304,
          1.6354061567143572,
          1.7958608495595476,
          1.788433981515485,
          1.780983874564165,
          1.7735104186936297,
          1.7660135031921973,
          1.7584930166428636,
          1.7509488469176453,
          1.7433808811718696,
          1.7357890058384078,
          1.7281731066218553,
          1.693798422351887,
          1.686329702583689,
          1.6788378726256297,
          1.6713228238896938,
          1.663784447100228,
          1.6865653342606617,
          1.6511926244548079,
          1.6438523893615038,
          1.6364899317738044,
          1.6291051491283184,
          1.6216979382215013,
          1.614268195204603,
          1.6068158155785603,
          1.5993406941888417,
          1.591842725220253,
          1.5843218021916732,
          1.5767778179507594,
          1.569210664668587,
          1.5616202338342464,
          1.5540064162493814,
          1.5463691020226777,
          1.6484689839317366,
          1.6411214190653265,
          1.6337516014510387,
          1.6263594283550526,
          1.6189447964021666,
          1.6115076015707328,
          1.6040477391875378,
          1.5965651039226432,
          1.5890595897841697,
          1.5815310901130297,
          1.573979497577617,
          1.5664047041684357,
          1.5588066011926873,
          1.5511850792687936,
          1.7310137916403046,
          1.7236556691171387,
          1.7162749369952077,
          1.7088714897493753,
          1.701445221190579,
          1.693996024460559,
          1.6865237920265368,
          1.6790284156758426,
          1.6715097865104853,
          1.6639677949416805,
          1.656402330684315,
          1.6488132827513675,
          1.641200539448265,
          1.7140332802036586,
          1.7066235926633357,
          1.6991910571543267,
          1.6917355666631049,
          1.6842570135004704,
          1.6767552892961648,
          1.669230284993435,
          1.6616818908435445,
          1.6541099964002333,
          1.6465144905141216,
          1.706875935983445,
          1.6994470787492824,
          1.691995294896301,
          1.684520476970963,
          1.6770225168409107,
          1.6695013056895487,
          1.6019700838871254,
          1.5595828288669922,
          1.5522244892268764,
          1.544844157785857,
          1.5374417340225428,
          1.5300171167922247,
          1.5225702043219662,
          1.5151008942056583,
          1.5076090833990143,
          1.500094668214525,
          1.4925575443163632,
          1.484997606715237,
          1.477414749763198,
          1.4698088671483938,
          1.5489732364213646,
          1.5415842974085587,
          1.5341732311900562,
          1.5267399364283865,
          1.5192843111564938,
          1.5118062527727687,
          1.5043056580360394,
          1.4967824230605125,
          1.4892364433106633,
          1.4816676135960813,
          1.4740758280662594,
          1.627363983251642,
          1.6199537477300308,
          1.6125209745968248,
          1.6050655593600673,
          1.59758739687264,
          1.59008638132706,
          1.5825624062502401,
          1.5750153644981812,
          1.5674451482506284,
          1.5598516490056666,
          1.617192742130133,
          1.6097524894062023,
          1.6022895635064436,
          1.5948038591075802,
          1.587295270224697,
          1.5797636902059784,
          1.5722090117274026,
          1.5646311267873743,
          1.607768123701436,
          1.6003031825913636,
          1.5928154695302634,
          1.585304878657103,
          1.3630620956635715,
          1.3556282944912197,
          1.3481728185548876,
          1.3406955707295303,
          1.3331964532962846,
          1.3256753679378277,
          1.445562754970463,
          1.4381212372377241,
          1.4306576795728112,
          1.4231719818722182,
          1.4156640434138084,
          1.4081337628519546,
          1.4005810382126214,
          1.4343036105681675,
          1.4268300137992396,
          1.4193342366829007,
          1.4118161782767378,
          1.4042757370133048,
          1.515633930225291,
          1.5081479786282683,
          1.5006394668889906,
          1.4931082910399391,
          1.4855543464636547,
          1.3394676317323306,
          1.4191628870143929,
          1.4116486071497956,
          1.5395480968290733,
          1.5321345975796112,
          1.5246988760627347,
          1.5172408304598468,
          1.5097603583198251,
          1.5022573565540387,
          1.4947317214313158,
          1.4871833485728647,
          1.4796121329471439,
          1.5288543116834576,
          1.5214098713601691,
          1.513943071494306,
          1.506453809438262,
          1.4989419819055292,
          1.491407484965654,
          1.4838502140391447,
          1.6020204351306204,
          1.5945373369519937,
          1.5870313839738879,
          1.5795024698487148,
          1.5719504875600696,
          1.564375329417408,
          1.5917492337083285,
          1.5842356933879704,
          1.5766991602698934,
          1.569139527157606,
          1.6551990532228429,
          1.6478752444348181,
          1.6405293080275383,
          1.6331611421424526,
          1.625770644287258,
          1.6183577113309149,
          1.6109222394986096,
          1.603464124366673,
          1.5959832608574491,
          1.5884795432341148,
          1.5809528650954463,
          1.5734031193705424,
          1.5658301983134904,
          1.558233993497983,
          1.726171124420451,
          1.718801633486655,
          1.7114094968157598,
          1.70399460876305,
          1.6965568630197851,
          1.6890961526079413,
          1.6816123698748935,
          1.6741054064880505,
          1.6665751534294362,
          1.6590215009902207,
          1.6514443387651971,
          1.6438435556472062,
          1.716561864155516,
          1.70916349885186,
          1.70174235560224,
          1.6942983279435235,
          1.6868313087421447,
          1.6793411901887834,
          1.6718278637929849,
          1.6642912203777345,
          1.6567311500739752,
          1.6491475423150743,
          1.699486606018475,
          1.6920362830485556,
          1.684562941592446,
          1.6770664736836713,
          1.669546770673453,
          1.662003723225273,
          1.6544372213093765,
          1.6922819953008272,
          1.6848123219608773,
          1.677319550559368,
          1.8358794474263525,
          1.8065294737874589,
          1.7991347935900857,
          1.7917170229012693,
          1.7842760526364239,
          1.776811773018586,
          1.769324073572884,
          1.7618128431209539,
          1.7542779697752993,
          1.7467193409336028,
          1.7391368432729744,
          1.7315303627441456,
          1.723899784565617,
          1.7162449932177313,
          1.708565872436707,
          1.7008623052085987,
          1.9002816054946416,
          1.8929051416351446,
          1.8855053672746915,
          1.8780821714360274,
          1.8706354424343625,
          1.8631650678717107,
          1.8556709346311708,
          1.8481529288711525,
          1.8406109360195515,
          1.8330448407678603,
          1.825454527065225,
          1.817839878112447,
          1.8102007763559251,
          1.8025371034815347,
          1.7948487404084512,
          1.90640624753382,
          1.8990491100530544,
          1.8916687539457788,
          1.8842650688196165,
          1.876837943579329,
          1.869387266421202,
          1.8619129248273727,
          1.8544148055600975,
          1.8468927946559786,
          1.8393467774201178,
          1.831776638420224,
          1.8241822614806644,
          1.8165635296764486,
          1.808920325327163,
          1.8012525299908433,
          1.118703116468426,
          1.1117981101393135,
          1.1048756304749265,
          1.0979356109922285,
          1.0909779848701013,
          1.084002684947194,
          1.07700964371975,
          1.0699987933394197,
          1.0629700656110597,
          1.055923391990506,
          1.0488587035823422,
          1.0417759311376382,
          1.880263798737803,
          1.8728239898770649,
          1.8653605685257675,
          1.857873421778655,
          1.8503624360074833,
          1.842827496855209,
          1.8352684892301185,
          1.8775002341969342,
          1.8700516587363656,
          1.8625794288881874,
          1.672005852795053,
          1.6647324081333112,
          1.6574370635720617,
          1.6501197186324945,
          1.6427802722125444,
          1.6354186225819969,
          1.6280346673775552,
          1.6206283035978495,
          1.6131994275984107,
          1.6057479350865869,
          1.5982737211164126,
          1.590776680083435,
          1.5832567057194835,
          1.5757136910873883,
          1.5681475285756574,
          1.7564074084606611,
          1.749129230529441,
          1.7418288229732113,
          1.7345060826890808,
          1.7271609059296409,
          1.719793188297879,
          1.7124028247420489,
          1.7049897095504858,
          1.6975537363463773,
          1.690094798082482,
          1.6826127870357945,
          1.6751075948021636,
          1.6675791122908594,
          1.6600272297190797,
          1.7469096117292413,
          1.7396030629272086,
          1.7322741553450924,
          1.7249227850848823,
          1.7175488475978538,
          1.710152237679428,
          1.7027328494639744,
          1.6952905764195738,
          1.6878253113427266,
          1.6803369463530062,
          1.6728253728876683,
          1.665290481696203,
          1.7300387640263275,
          1.7226811870420944,
          1.7153010164082672,
          1.7078981467669834,
          1.7004724720981974,
          1.6930238857144286,
          1.6855522802554577,
          1.6780575476829755,
          1.6705395792751763,
          1.7228900795957198,
          1.7155133883493294,
          1.7081140252278613,
          1.7006918844372907,
          1.693246859518301,
          1.5686511734200788,
          1.5613242817290511,
          1.5539755592936833,
          1.5466049066816807,
          1.5392122238465804,
          1.5317974101229381,
          1.52436036422147,
          1.5169009842241463,
          1.5094191675792399,
          1.5019148110963263,
          1.4943878109412383,
          1.486838062630966,
          1.55807338755048,
          1.5507160665898863,
          1.5433367806643592,
          1.5359354295356786,
          1.5285119123452913,
          1.5210661276094393,
          1.5135979732142448,
          1.506107346410744,
          1.4985941438098773,
          1.4910582613774286,
          1.6385701555983754,
          1.6311975661008313,
          1.6238026273630983,
          1.616385236144852,
          1.60894528856098,
          1.6014826800764885,
          1.593997305501353,
          1.586489058985333,
          1.5789578340127206,
          1.6284391784400232,
          1.6210367782223758,
          1.6136118945963136,
          1.606164423501909,
          1.5986942602280885,
          1.5912012994074758,
          1.5836854350111884,
          1.6190123423117035,
          1.6115852644313124,
          1.604135604543481,
          1.3661764690996758,
          1.3587563248202785,
          1.351314586600726,
          1.3438511579200527,
          1.3363659416689415,
          1.4503949386985435,
          1.4429720237501866,
          1.4355271711905948,
          1.428060281645556,
          1.4205712551286156,
          1.413059991036276,
          1.439151177409658,
          1.431696279432128,
          1.4242193041637528,
          1.4167201513981522,
          1.5221113177674819,
          1.5146486995930772,
          1.5071636442644758,
          1.4996560486653008,
          1.5496953399604578,
          1.5423172598035013,
          1.5349171400845238,
          1.5274948802297494,
          1.5200503790434174,
          1.512583534702902,
          1.505094244753793,
          1.4975824061049217,
          1.5390379264834433,
          1.5316291002864908,
          1.5241980986162944,
          1.516744820081827,
          1.5092691626638215,
          1.5017710237098312,
          1.6133084609622452,
          1.605864018237929,
          1.598396917532705,
          1.5909070538278938,
          1.5833943214471768,
          1.5956039793519126,
          1.5881065160749384,
          1.6631636304404687,
          1.6558687459476409,
          1.6485518863907938,
          1.6412129509632039,
          1.6338518382333476,
          1.6264684461400103,
          1.619062671987338,
          1.6116344124398507,
          1.6041835635174038,
          1.5967100205901013,
          1.5892136783731654,
          1.5816944309217476,
          1.6531344511202262,
          1.6458102333047921,
          1.6384639092967297,
          1.6310953774942683,
          1.6237045356647208,
          1.6162912809395313,
          1.608855509809274,
          1.601397118118603,
          1.59391600106116,
          1.5864120531744232,
          1.7256285111248917,
          1.7182618532942964,
          1.7108725809869638,
          1.7034605888512695,
          1.696025770874541,
          1.6885680203778264,
          1.681087230010616,
          1.6735832917455085,
          1.7160127894611619,
          1.7086172582233126,
          1.701198980469559,
          1.6937578500322834,
          1.6862937600764434,
          1.678806603094279,
          1.7014028958263632,
          1.6872352561531239,
          1.68001306202214,
          1.6727692251885942,
          1.6655036468887252,
          1.658216227749783,
          1.6509068677852838,
          1.6435754663902133,
          1.636221922336192,
          1.6288461337665872,
          1.621447998191581,
          1.6140274124831964,
          1.6065842728702662,
          1.5991184749333642,
          1.5916299135996794,
          1.7629297896300056,
          1.755676213429795,
          1.7484005415708155,
          1.7411026719003793,
          1.7337825016295778,
          1.7264399273282869,
          1.7190748449201207,
          1.7116871496773371,
          1.704276736215696,
          1.6968434984892689,
          1.689387329785197,
          1.6819081227184005,
          1.7534558907570585,
          1.7461740826360517,
          1.7388700507263786,
          1.7315436920894154,
          1.7241949031442187,
          1.7168235796624742,
          1.709429616763391,
          1.7020129089085494,
          1.694573349896701,
          1.6871108328585165,
          1.826116721480726,
          1.8187888591353856,
          1.8114382436109302,
          1.8040647680743542,
          1.796668325018972,
          1.7892488062590677,
          1.7818061029245014,
          1.729473059866779,
          1.722121357683983,
          1.7147471206011433,
          1.6905854938182527,
          1.683372672925865,
          1.676138248127128,
          1.668882120868356,
          1.6616041919882596,
          1.6543043617132098,
          1.6469825296524534,
          1.6396385947932859,
          1.6322724554961765,
          1.624884009489847,
          1.617473153866308,
          1.6100397850758394,
          1.6025837989219327,
          1.595105090556175,
          1.6806594477659238,
          1.673417753621491,
          1.6661543272030561,
          1.6588690691827617,
          1.6515618796192175,
          1.6442326579527127,
          1.6368813030003744,
          1.6295077129512805,
          1.6221117853615354,
          1.6146934171492837,
          1.6072525045896913,
          1.5997889433098686,
          1.76112199845524,
          1.7538623478623598,
          1.7465805691383345,
          1.739276559892124,
          1.7319502170942591,
          1.7246014370718221,
          1.717230115503375,
          1.7098361474138397,
          1.7024194271693334,
          1.6949798484719498,
          1.7443481995852503,
          1.737038004825843,
          1.729705450261033,
          1.722350432066183,
          1.714972845767017,
          1.7075725862344928,
          1.7001495476796216,
          1.7371956155284456,
          1.7298663148320577,
          1.7225145762911465,
          1.5798896340641648,
          1.5726011197968925,
          1.565290969128191,
          1.5579590839286346,
          1.5506053654655028,
          1.5432297143980738,
          1.5358320307728748,
          1.5284122140188894,
          1.5209701629427177,
          1.5135057757236905,
          1.5060189499089367,
          1.569351728816056,
          1.5620329941704696,
          1.5546924903362294,
          1.547330118390144,
          1.5399457787996833,
          1.5325393714182172,
          1.525110795480212,
          1.5176599495963763,
          1.5101867317487658,
          1.651992539186986,
          1.6446646650328998,
          1.637314663940669,
          1.6299424341393915,
          1.6225478732255054,
          1.6151308781578104,
          1.6076913452524513,
          1.6002291701778402,
          1.6419100678199308,
          1.6345526289905203,
          1.6271729307047398,
          1.619770870385846,
          1.6123463448182136,
          1.6048992501422994,
          1.6324835935911346,
          1.6251015002152007,
          1.3704085312074268,
          1.3630057117282135,
          1.3555813972417987,
          1.3481354919508053,
          1.456407972709753,
          1.449007506164066,
          1.4415852231702608,
          1.4341410252068405,
          1.4266748131474594,
          1.4451840618740823,
          1.4377517301965153,
          1.4302974432702904,
          1.5223238359881077,
          1.5148660654914552,
          1.471021552650209,
          1.4636706818886045,
          1.4562982474682473,
          1.4489041525878055,
          1.4414882998557526,
          1.5430806963369346,
          1.5356894062141335,
          1.5282760432015792,
          1.520840506665728,
          1.532387711052894,
          1.5249655616323736,
          1.5853055658440904,
          1.578040505935217,
          1.570753947940039,
          1.5634457947628384,
          1.5561159487139744,
          1.5487643115052778,
          1.5413907842454033,
          1.533995267435139,
          1.5265776609626684,
          1.6626483144515214,
          1.6553581379157796,
          1.6480460331790163,
          1.6407118998602395,
          1.6333556369578985,
          1.6259771428450371,
          1.6185763152643973,
          1.6111530513234784,
          1.6526098670469322,
          1.645290357957969,
          1.637948789773385,
          1.6305850613204862,
          1.6231990707999482,
          1.615790715780907,
          1.7190408488948257,
          1.7116589231815296,
          1.7042543321109849,
          1.7000780026121771,
          1.6928999111718832,
          1.6857004005327576,
          1.6784793734256838,
          1.671236731984969,
          1.6639723777437245,
          1.6566862116291927,
          1.6493781339580333,
          1.64204804443157,
          1.634695842130984,
          1.6273214255124708,
          1.619924692402342,
          1.6901852105132922,
          1.6829784349589192,
          1.6757501132093178,
          1.6685001472332976,
          1.661228438397291,
          1.6539348874606776,
          1.6466193945710592,
          1.6392818592594922,
          1.6319221804356763,
          1.6245402563830942,
          1.7671109049130744,
          1.7598751871608207,
          1.7526174768057499,
          1.745337672446369,
          1.738035672051598,
          1.7307113729558423,
          1.723364671854017,
          1.7159954647965212,
          1.750384225931381,
          1.7430982410449605,
          1.735790033949895,
          1.7284595018298403,
          1.7211065412278574,
          1.7432189800965459,
          1.6091568811230756,
          1.6019623902000053,
          1.5947467173302683,
          1.5875097673220633,
          1.580251444404103,
          1.5729716522211363,
          1.5656702938294396,
          1.5583472716922566,
          1.5510024876752007,
          1.543635843041614,
          1.5362472384478756,
          1.6948770719872672,
          1.6876832979005538,
          1.680468030827527,
          1.6732311730211449,
          1.6659726261338295,
          1.6586922912127986,
          1.6513900686953613,
          1.6440658584041588,
          1.6367195595423687,
          1.629351070688861,
          1.6777360378265598,
          1.6704918459184521,
          1.6632259348239404,
          1.6559382054220897,
          1.6486285579808557,
          1.6412968921523168,
          1.6339431069678687,
          1.759354031587839,
          1.7520938009876268,
          1.7448114584364,
          1.7375069017422953,
          1.7301800280772313,
          1.6583359383347334,
          1.4877711279939652,
          1.4804683299626626,
          1.4731441777126497,
          1.4657985756721226,
          1.4584314276881842,
          1.4510426370223588,
          1.443632106346054,
          1.5741311267959144,
          1.5668318750661414,
          1.5595109640442832,
          1.5521682955981266,
          1.544803770993051,
          1.5374172908873407,
          1.5300087553274528,
          1.563560757791736,
          1.5562311857001876,
          1.5488798211665542,
          1.5415065652636877,
          1.5341113184559911,
          1.6482101113428305,
          1.6408761389037902,
          1.6335200328505908,
          1.6261416914844287,
          1.3676664820510276,
          1.360260889944562,
          1.363299266800014,
          1.444086222132775,
          1.4665151583321356,
          1.4591572938147965,
          1.4626896656000952,
          1.5861710819047157,
          1.5789150966312544,
          1.5716376811458097,
          1.56433873891452,
          1.5570181728149488,
          1.5496758851315404,
          1.5756462125392117,
          1.5683601559247324,
          1.5610525377240934,
          1.5537232606240943,
          1.6543050904383223,
          1.6469961800374038,
          1.6396652817963122,
          1.64422600241561,
          1.6143969265569853,
          1.607226264055158,
          1.6000345619280265,
          1.5928217260457074,
          1.5855876617083735,
          1.578332273641882,
          1.571055465993361,
          1.563757142326758,
          1.6039817300779766,
          1.5967814893944559,
          1.58956008070146,
          1.5823174091126528,
          1.5750533791660881,
          1.5677678948197866,
          1.678769023699348,
          1.671535229033379,
          1.664279794334005,
          1.6570026211514979,
          1.6687814334270739,
          1.6615185877367475,
          1.6102328738896448,
          1.603047869971997,
          1.5958417526143365,
          1.5886144271816782,
          1.5813657984647809,
          1.574095770675735,
          1.566804247443501,
          1.5594911318094145,
          1.5998009294194064,
          1.59258626110663,
          1.5853503503796416,
          1.5780931018419668,
          1.5708144195171603,
          1.5635142068443337,
          1.684650205376526,
          1.6774320910226745,
          1.6701923987538059,
          1.6629310304430784,
          1.6556478873611418,
          1.6674376129443031,
          1.660168827591019,
          1.4900756288061845,
          1.4827854240678788,
          1.4754739459618236,
          1.468141099542364,
          1.4607867892885078,
          1.478980479991581,
          1.4716590444098467,
          1.4643162008367934,
          1.559710375120408,
          1.552374559096631,
          1.5564165442276627,
          1.4969910449544,
          1.4897321928017646,
          1.5239013442549283,
          1.5167235826332595,
          1.509525106484566,
          1.502305824559666,
          1.5129311161557826,
          1.5057227526509878,
          1.5929153775784586,
          1.504807074228742,
          1.4975696954022115,
          1.4903113199377582,
          1.501008112406015,
          1.4937608143780874,
          1.5826563563199008
         ]
        }
       ],
       "layout": {
        "autosize": true,
        "template": {
         "data": {
          "bar": [
           {
            "error_x": {
             "color": "#2a3f5f"
            },
            "error_y": {
             "color": "#2a3f5f"
            },
            "marker": {
             "line": {
              "color": "#E5ECF6",
              "width": 0.5
             }
            },
            "type": "bar"
           }
          ],
          "barpolar": [
           {
            "marker": {
             "line": {
              "color": "#E5ECF6",
              "width": 0.5
             }
            },
            "type": "barpolar"
           }
          ],
          "carpet": [
           {
            "aaxis": {
             "endlinecolor": "#2a3f5f",
             "gridcolor": "white",
             "linecolor": "white",
             "minorgridcolor": "white",
             "startlinecolor": "#2a3f5f"
            },
            "baxis": {
             "endlinecolor": "#2a3f5f",
             "gridcolor": "white",
             "linecolor": "white",
             "minorgridcolor": "white",
             "startlinecolor": "#2a3f5f"
            },
            "type": "carpet"
           }
          ],
          "choropleth": [
           {
            "colorbar": {
             "outlinewidth": 0,
             "ticks": ""
            },
            "type": "choropleth"
           }
          ],
          "contour": [
           {
            "colorbar": {
             "outlinewidth": 0,
             "ticks": ""
            },
            "colorscale": [
             [
              0,
              "#0d0887"
             ],
             [
              0.1111111111111111,
              "#46039f"
             ],
             [
              0.2222222222222222,
              "#7201a8"
             ],
             [
              0.3333333333333333,
              "#9c179e"
             ],
             [
              0.4444444444444444,
              "#bd3786"
             ],
             [
              0.5555555555555556,
              "#d8576b"
             ],
             [
              0.6666666666666666,
              "#ed7953"
             ],
             [
              0.7777777777777778,
              "#fb9f3a"
             ],
             [
              0.8888888888888888,
              "#fdca26"
             ],
             [
              1,
              "#f0f921"
             ]
            ],
            "type": "contour"
           }
          ],
          "contourcarpet": [
           {
            "colorbar": {
             "outlinewidth": 0,
             "ticks": ""
            },
            "type": "contourcarpet"
           }
          ],
          "heatmap": [
           {
            "colorbar": {
             "outlinewidth": 0,
             "ticks": ""
            },
            "colorscale": [
             [
              0,
              "#0d0887"
             ],
             [
              0.1111111111111111,
              "#46039f"
             ],
             [
              0.2222222222222222,
              "#7201a8"
             ],
             [
              0.3333333333333333,
              "#9c179e"
             ],
             [
              0.4444444444444444,
              "#bd3786"
             ],
             [
              0.5555555555555556,
              "#d8576b"
             ],
             [
              0.6666666666666666,
              "#ed7953"
             ],
             [
              0.7777777777777778,
              "#fb9f3a"
             ],
             [
              0.8888888888888888,
              "#fdca26"
             ],
             [
              1,
              "#f0f921"
             ]
            ],
            "type": "heatmap"
           }
          ],
          "heatmapgl": [
           {
            "colorbar": {
             "outlinewidth": 0,
             "ticks": ""
            },
            "colorscale": [
             [
              0,
              "#0d0887"
             ],
             [
              0.1111111111111111,
              "#46039f"
             ],
             [
              0.2222222222222222,
              "#7201a8"
             ],
             [
              0.3333333333333333,
              "#9c179e"
             ],
             [
              0.4444444444444444,
              "#bd3786"
             ],
             [
              0.5555555555555556,
              "#d8576b"
             ],
             [
              0.6666666666666666,
              "#ed7953"
             ],
             [
              0.7777777777777778,
              "#fb9f3a"
             ],
             [
              0.8888888888888888,
              "#fdca26"
             ],
             [
              1,
              "#f0f921"
             ]
            ],
            "type": "heatmapgl"
           }
          ],
          "histogram": [
           {
            "marker": {
             "colorbar": {
              "outlinewidth": 0,
              "ticks": ""
             }
            },
            "type": "histogram"
           }
          ],
          "histogram2d": [
           {
            "colorbar": {
             "outlinewidth": 0,
             "ticks": ""
            },
            "colorscale": [
             [
              0,
              "#0d0887"
             ],
             [
              0.1111111111111111,
              "#46039f"
             ],
             [
              0.2222222222222222,
              "#7201a8"
             ],
             [
              0.3333333333333333,
              "#9c179e"
             ],
             [
              0.4444444444444444,
              "#bd3786"
             ],
             [
              0.5555555555555556,
              "#d8576b"
             ],
             [
              0.6666666666666666,
              "#ed7953"
             ],
             [
              0.7777777777777778,
              "#fb9f3a"
             ],
             [
              0.8888888888888888,
              "#fdca26"
             ],
             [
              1,
              "#f0f921"
             ]
            ],
            "type": "histogram2d"
           }
          ],
          "histogram2dcontour": [
           {
            "colorbar": {
             "outlinewidth": 0,
             "ticks": ""
            },
            "colorscale": [
             [
              0,
              "#0d0887"
             ],
             [
              0.1111111111111111,
              "#46039f"
             ],
             [
              0.2222222222222222,
              "#7201a8"
             ],
             [
              0.3333333333333333,
              "#9c179e"
             ],
             [
              0.4444444444444444,
              "#bd3786"
             ],
             [
              0.5555555555555556,
              "#d8576b"
             ],
             [
              0.6666666666666666,
              "#ed7953"
             ],
             [
              0.7777777777777778,
              "#fb9f3a"
             ],
             [
              0.8888888888888888,
              "#fdca26"
             ],
             [
              1,
              "#f0f921"
             ]
            ],
            "type": "histogram2dcontour"
           }
          ],
          "mesh3d": [
           {
            "colorbar": {
             "outlinewidth": 0,
             "ticks": ""
            },
            "type": "mesh3d"
           }
          ],
          "parcoords": [
           {
            "line": {
             "colorbar": {
              "outlinewidth": 0,
              "ticks": ""
             }
            },
            "type": "parcoords"
           }
          ],
          "pie": [
           {
            "automargin": true,
            "type": "pie"
           }
          ],
          "scatter": [
           {
            "marker": {
             "colorbar": {
              "outlinewidth": 0,
              "ticks": ""
             }
            },
            "type": "scatter"
           }
          ],
          "scatter3d": [
           {
            "line": {
             "colorbar": {
              "outlinewidth": 0,
              "ticks": ""
             }
            },
            "marker": {
             "colorbar": {
              "outlinewidth": 0,
              "ticks": ""
             }
            },
            "type": "scatter3d"
           }
          ],
          "scattercarpet": [
           {
            "marker": {
             "colorbar": {
              "outlinewidth": 0,
              "ticks": ""
             }
            },
            "type": "scattercarpet"
           }
          ],
          "scattergeo": [
           {
            "marker": {
             "colorbar": {
              "outlinewidth": 0,
              "ticks": ""
             }
            },
            "type": "scattergeo"
           }
          ],
          "scattergl": [
           {
            "marker": {
             "colorbar": {
              "outlinewidth": 0,
              "ticks": ""
             }
            },
            "type": "scattergl"
           }
          ],
          "scattermapbox": [
           {
            "marker": {
             "colorbar": {
              "outlinewidth": 0,
              "ticks": ""
             }
            },
            "type": "scattermapbox"
           }
          ],
          "scatterpolar": [
           {
            "marker": {
             "colorbar": {
              "outlinewidth": 0,
              "ticks": ""
             }
            },
            "type": "scatterpolar"
           }
          ],
          "scatterpolargl": [
           {
            "marker": {
             "colorbar": {
              "outlinewidth": 0,
              "ticks": ""
             }
            },
            "type": "scatterpolargl"
           }
          ],
          "scatterternary": [
           {
            "marker": {
             "colorbar": {
              "outlinewidth": 0,
              "ticks": ""
             }
            },
            "type": "scatterternary"
           }
          ],
          "surface": [
           {
            "colorbar": {
             "outlinewidth": 0,
             "ticks": ""
            },
            "colorscale": [
             [
              0,
              "#0d0887"
             ],
             [
              0.1111111111111111,
              "#46039f"
             ],
             [
              0.2222222222222222,
              "#7201a8"
             ],
             [
              0.3333333333333333,
              "#9c179e"
             ],
             [
              0.4444444444444444,
              "#bd3786"
             ],
             [
              0.5555555555555556,
              "#d8576b"
             ],
             [
              0.6666666666666666,
              "#ed7953"
             ],
             [
              0.7777777777777778,
              "#fb9f3a"
             ],
             [
              0.8888888888888888,
              "#fdca26"
             ],
             [
              1,
              "#f0f921"
             ]
            ],
            "type": "surface"
           }
          ],
          "table": [
           {
            "cells": {
             "fill": {
              "color": "#EBF0F8"
             },
             "line": {
              "color": "white"
             }
            },
            "header": {
             "fill": {
              "color": "#C8D4E3"
             },
             "line": {
              "color": "white"
             }
            },
            "type": "table"
           }
          ]
         },
         "layout": {
          "annotationdefaults": {
           "arrowcolor": "#2a3f5f",
           "arrowhead": 0,
           "arrowwidth": 1
          },
          "autotypenumbers": "strict",
          "coloraxis": {
           "colorbar": {
            "outlinewidth": 0,
            "ticks": ""
           }
          },
          "colorscale": {
           "diverging": [
            [
             0,
             "#8e0152"
            ],
            [
             0.1,
             "#c51b7d"
            ],
            [
             0.2,
             "#de77ae"
            ],
            [
             0.3,
             "#f1b6da"
            ],
            [
             0.4,
             "#fde0ef"
            ],
            [
             0.5,
             "#f7f7f7"
            ],
            [
             0.6,
             "#e6f5d0"
            ],
            [
             0.7,
             "#b8e186"
            ],
            [
             0.8,
             "#7fbc41"
            ],
            [
             0.9,
             "#4d9221"
            ],
            [
             1,
             "#276419"
            ]
           ],
           "sequential": [
            [
             0,
             "#0d0887"
            ],
            [
             0.1111111111111111,
             "#46039f"
            ],
            [
             0.2222222222222222,
             "#7201a8"
            ],
            [
             0.3333333333333333,
             "#9c179e"
            ],
            [
             0.4444444444444444,
             "#bd3786"
            ],
            [
             0.5555555555555556,
             "#d8576b"
            ],
            [
             0.6666666666666666,
             "#ed7953"
            ],
            [
             0.7777777777777778,
             "#fb9f3a"
            ],
            [
             0.8888888888888888,
             "#fdca26"
            ],
            [
             1,
             "#f0f921"
            ]
           ],
           "sequentialminus": [
            [
             0,
             "#0d0887"
            ],
            [
             0.1111111111111111,
             "#46039f"
            ],
            [
             0.2222222222222222,
             "#7201a8"
            ],
            [
             0.3333333333333333,
             "#9c179e"
            ],
            [
             0.4444444444444444,
             "#bd3786"
            ],
            [
             0.5555555555555556,
             "#d8576b"
            ],
            [
             0.6666666666666666,
             "#ed7953"
            ],
            [
             0.7777777777777778,
             "#fb9f3a"
            ],
            [
             0.8888888888888888,
             "#fdca26"
            ],
            [
             1,
             "#f0f921"
            ]
           ]
          },
          "colorway": [
           "#636efa",
           "#EF553B",
           "#00cc96",
           "#ab63fa",
           "#FFA15A",
           "#19d3f3",
           "#FF6692",
           "#B6E880",
           "#FF97FF",
           "#FECB52"
          ],
          "font": {
           "color": "#2a3f5f"
          },
          "geo": {
           "bgcolor": "white",
           "lakecolor": "white",
           "landcolor": "#E5ECF6",
           "showlakes": true,
           "showland": true,
           "subunitcolor": "white"
          },
          "hoverlabel": {
           "align": "left"
          },
          "hovermode": "closest",
          "mapbox": {
           "style": "light"
          },
          "paper_bgcolor": "white",
          "plot_bgcolor": "#E5ECF6",
          "polar": {
           "angularaxis": {
            "gridcolor": "white",
            "linecolor": "white",
            "ticks": ""
           },
           "bgcolor": "#E5ECF6",
           "radialaxis": {
            "gridcolor": "white",
            "linecolor": "white",
            "ticks": ""
           }
          },
          "scene": {
           "xaxis": {
            "backgroundcolor": "#E5ECF6",
            "gridcolor": "white",
            "gridwidth": 2,
            "linecolor": "white",
            "showbackground": true,
            "ticks": "",
            "zerolinecolor": "white"
           },
           "yaxis": {
            "backgroundcolor": "#E5ECF6",
            "gridcolor": "white",
            "gridwidth": 2,
            "linecolor": "white",
            "showbackground": true,
            "ticks": "",
            "zerolinecolor": "white"
           },
           "zaxis": {
            "backgroundcolor": "#E5ECF6",
            "gridcolor": "white",
            "gridwidth": 2,
            "linecolor": "white",
            "showbackground": true,
            "ticks": "",
            "zerolinecolor": "white"
           }
          },
          "shapedefaults": {
           "line": {
            "color": "#2a3f5f"
           }
          },
          "ternary": {
           "aaxis": {
            "gridcolor": "white",
            "linecolor": "white",
            "ticks": ""
           },
           "baxis": {
            "gridcolor": "white",
            "linecolor": "white",
            "ticks": ""
           },
           "bgcolor": "#E5ECF6",
           "caxis": {
            "gridcolor": "white",
            "linecolor": "white",
            "ticks": ""
           }
          },
          "title": {
           "x": 0.05
          },
          "xaxis": {
           "automargin": true,
           "gridcolor": "white",
           "linecolor": "white",
           "ticks": "",
           "title": {
            "standoff": 15
           },
           "zerolinecolor": "white",
           "zerolinewidth": 2
          },
          "yaxis": {
           "automargin": true,
           "gridcolor": "white",
           "linecolor": "white",
           "ticks": "",
           "title": {
            "standoff": 15
           },
           "zerolinecolor": "white",
           "zerolinewidth": 2
          }
         }
        },
        "xaxis": {
         "autorange": true,
         "range": [
          1.04,
          1.92
         ],
         "type": "linear"
        },
        "yaxis": {
         "autorange": true,
         "range": [
          0,
          117.89473684210526
         ]
        }
       }
      },
      "image/png": "[encoded data removed]",
      "text/html": [
       "<div>                            <div id=\"b28bbf74-12bc-48a1-a5c1-b3bac124ade1\" class=\"plotly-graph-div\" style=\"height:525px; width:100%;\"></div>            <script type=\"text/javascript\">                require([\"plotly\"], function(Plotly) {                    window.PLOTLYENV=window.PLOTLYENV || {};                                    if (document.getElementById(\"b28bbf74-12bc-48a1-a5c1-b3bac124ade1\")) {                    Plotly.newPlot(                        \"b28bbf74-12bc-48a1-a5c1-b3bac124ade1\",                        [{\"type\": \"histogram\", \"x\": [1.301263689661088, 1.2936343644437627, 1.296859121522603, 1.2972991103267313, 1.3230258065707379, 1.3154604803880028, 1.3078728257762329, 1.3002627412478989, 1.2926301246850342, 1.3186551518584566, 1.3110783838132163, 1.3034792416324685, 1.2958576235802475, 1.3866540023812344, 1.3790243626788303, 1.3713717708396442, 1.363696120801416, 1.3827959383646915, 1.3751560769366267, 1.3674932219363525, 1.3294676362247926, 1.3219206633324458, 1.314351442403482, 1.3067598724314604, 1.2991458517831913, 1.291509278193761, 1.3251077311516881, 1.3175493584419342, 1.3099686922117413, 1.3023656312077372, 1.2947400735480818, 1.4011895776305978, 1.3936030949874945, 1.385993856901714, 1.37836175853188, 1.370706694378566, 1.3630285582790276, 1.3897548033488514, 1.3821353824857572, 1.3744930601140706, 1.3668277305067302, 1.3832573410000053, 1.3298437805143914, 1.3222979818516762, 1.3147299406213246, 1.3071395558506251, 1.2995267259403764, 1.291891348659912, 1.3254840715154856, 1.3179268739480092, 1.3103473883346992, 1.302745513455956, 1.295121147463972, 1.4021462475186068, 1.3945627946002557, 1.386956600619704, 1.3793275608264757, 1.3716755698127594, 1.3640005215081514, 1.3983086035470447, 1.3907150112494997, 1.383098636906408, 1.3754593755413773, 1.3677971215190834, 1.3842156425237597, 1.2330725437373562, 1.2356934932554962, 1.3150056267950516, 1.3074195602550098, 1.2998110832710166, 1.3106160525303405, 1.303018472752037, 1.3234072486203026, 1.315846822281801, 1.3082641062912028, 1.3006589994961946, 1.3190296977244862, 1.311457807216949, 1.3038635812633885, 1.387503625523842, 1.3798799418477294, 1.3722333481748183, 1.383640165962668, 1.3760062438499752, 1.4227939903183322, 1.4152719971516194, 1.407727544585351, 1.4001605296317599, 1.3925708486598236, 1.38495839739015, 1.3773230708898088, 1.369664763567116, 1.3619833691663632, 1.4189854953235967, 1.4114534795992848, 1.4038989641306512, 1.3963218457084872, 1.3887220204787738, 1.3810993839375492, 1.3734538309257318, 1.3657852556238854, 1.4925997269919962, 1.4850325765650902, 1.4774424449164378, 1.4698292252023444, 1.4621928099048083, 1.4545330908261123, 1.4468499590833759, 1.4391433051030404, 1.4817215191853546, 1.4741225229041302, 1.4665004021659385, 1.4588550492487058, 1.4511863557491806, 1.4434942125774615, 1.469940932599108, 1.462311313853107, 1.4366931608036608, 1.4292119331600426, 1.421708429625821, 1.4141825483383021, 1.4066341868003296, 1.3990632418752453, 1.3914696097818102, 1.383853186089073, 1.3762138657111864, 1.3685515429021815, 1.3608661112506781, 1.4254127749981642, 1.4178992855776806, 1.410363378254432, 1.402804950311145, 1.3952238983894998, 1.3876201184850367, 1.3799935059420094, 1.3723439554481913, 1.3646713610296286, 1.4997830838799209, 1.4922372025315291, 1.48466843609884, 1.4770766783267684, 1.4694618222904883, 1.4618237603900706, 1.4541623843450748, 1.4464775851890834, 1.4387692532641836, 1.488934703931993, 1.4813571073685377, 1.473756483263269, 1.466132724488613, 1.4584857232404387, 1.4508153710326332, 1.4431215586916242, 1.4771840187371956, 1.469575916702343, 1.4619446663445868, 1.4381485340265021, 1.430671961378029, 1.423173135195126, 1.415651953758392, 1.4081083147151103, 1.4005421150742248, 1.3929532512012675, 1.3853416188132424, 1.3777071129734515, 1.3700496280862793, 1.3623690578919174, 1.4268735841962332, 1.419364775881315, 1.4118335721871824, 1.4042798705411963, 1.3967035677308333, 1.3891045598986027, 1.3814827425369118, 1.3738380104828833, 1.366170257913122, 1.5021673937451663, 1.494629071638603, 1.4870679004456135, 1.4794837741399773, 1.4718765860275538, 1.4642462287409406, 1.456592594234077, 1.4489155737768005, 1.4412150579493448, 1.4913278412420143, 1.4837578459631577, 1.476164859407691, 1.468548774679033, 1.4609094842058865, 1.453246879736832, 1.445560852334868, 1.4795799781824317, 1.471979490889666, 1.4643558916248747, 1.3369360396937273, 1.3294142336475334, 1.3218703070803333, 1.31430415984923, 1.306715691191904, 1.2991047997217156, 1.332580336297603, 1.325047151708076, 1.317491801257688, 1.3099141845578315, 1.3023142005987705, 1.4108907980349654, 1.4033365382413443, 1.3957596839770374, 1.388160131475749, 1.3805377763221314, 1.3728925134466097, 1.4070580280306337, 1.3994936533150115, 1.391906643309441, 1.3842968940230922, 1.3766643008144965, 1.3929759137896707, 1.3155154620603036, 1.3079345078081965, 1.3111189694701713, 1.4177674401407663, 1.4102344173209653, 1.4026789015400076, 1.3951007896961305, 1.3874999780440753, 1.3798763621899743, 1.3722298370861852, 1.4139445347130426, 1.4064014372962832, 1.3988358063254898, 1.3912475384760044, 1.383636529778106, 1.3760026756118813, 1.487709262700394, 1.4801307054094701, 1.4725291285236721, 1.4649044250397043, 1.457256487279263, 1.4495852068836315, 1.476807698699771, 1.469197213754288, 1.4615635656103216, 1.4539066463842603, 1.521332878786695, 1.5138523654003295, 1.5063492709235324, 1.498823491022718, 1.4912749207099885, 1.4837034543379333, 1.4761089855943632, 1.4684914074970035, 1.4608506123881324, 1.453186491929166, 1.4454989370951927, 1.4377878381694527, 1.5180648990172614, 1.5105756965070996, 1.5030638774913978, 1.4955293374394623, 1.4879719711648864, 1.480391672820328, 1.4727883358922367, 1.465161853195533, 1.457512116868233, 1.4498390183660226, 1.4421424484567766, 1.5894994567813028, 1.581967731733208, 1.574412882451663, 1.5668348006554738, 1.5592333773775837, 1.551608502959579, 1.5439600670461375, 1.5362879585794211, 1.5285920657934196, 1.5208722762082336, 1.5791863432274515, 1.5716239158416139, 1.5640382242319093, 1.5564291592499595, 1.5487966110547, 1.541140469106817, 1.5334606221631302, 1.5257569582709198, 1.5621290307628082, 1.5545183312507784, 1.5468841576233736, 1.5364023667964661, 1.52896682154949, 1.5215089002444975, 1.514028499815021, 1.5065255165502112, 1.4989998460897302, 1.4914513834185807, 1.4838800228618987, 1.4762856580796848, 1.468668182061493, 1.4610274871210633, 1.4533634648909002, 1.4456760063168055, 1.43796500165235, 1.5257075149887347, 1.518240939493659, 1.510751849650305, 1.5032401415520582, 1.4957057106414144, 1.4881484517048078, 1.4805682588673843, 1.472965025587723, 1.4653386446525123, 1.4576890081711673, 1.4500160075704007, 1.4423195335887375, 1.598429195726169, 1.590924415111437, 1.5833966336856735, 1.575845743929407, 1.5682716376432373, 1.5606742059423935, 1.553053339251237, 1.5454089272977145, 1.5377408591077555, 1.5300490229996164, 1.5223333065781666, 1.5881512318616384, 1.5806159065157526, 1.5730574413237985, 1.565475727906452, 1.5578706571977015, 1.5502421194393399, 1.542590004175406, 1.5349142002465692, 1.5272145957844605, 1.5787075280265077, 1.5711474005292605, 1.563564033567909, 1.5559573182178685, 1.5483271448640443, 1.48822573367148, 1.5386020524133817, 1.5311733657215387, 1.5237223350656484, 1.5162488575795559, 1.5087528297542883, 1.5012341474329611, 1.4936927058056235, 1.4861283994040657, 1.4785411220965647, 1.4709307670825895, 1.4632972268874462, 1.4556403933568773, 1.447960157651606, 1.440256410241824, 1.527915209755365, 1.520455530298369, 1.5129733688210432, 1.505468621618911, 1.497941184338187, 1.4903909519706204, 1.482817818848281, 1.4752216786382977, 1.467602424337549, 1.4599599482672951, 1.4522941420677673, 1.4446048966926932, 1.6093965014318223, 1.6019253974323187, 1.5944314495534473, 1.5869145512607652, 1.5793745953476943, 1.5718114739301592, 1.5642250784411647, 1.5566152996253229, 1.5489820275333326, 1.5413251515163948, 1.533644560220586, 1.5259401415811633, 1.5916600835801713, 1.5841356498295283, 1.5765881269955178, 1.5690174070145468, 1.5614233811387923, 1.5538059399307158, 1.5461649732575273, 1.5385003702855935, 1.5308120194747918, 1.5822204236158326, 1.574671206552006, 1.5670988009038878, 1.5595030980635352, 1.5518839887349618, 1.4904477964320737, 1.4410384155410276, 1.4335740002400863, 1.4260874014921736, 1.4185785180914492, 1.4110472482033287, 1.4034934893595095, 1.3959171384529505, 1.388318091732799, 1.3806962447992743, 1.3730514925984927, 1.437245783530397, 1.4297714147619922, 1.4222748226124462, 1.4147559056575945, 1.4072145618430003, 1.3996506884789695, 1.3920641822355118, 1.3844549391372598, 1.3768228545583334, 1.514589744791311, 1.5070921900151784, 1.499571987457087, 1.4920290324202945, 1.4844632195511485, 1.4768744428338532, 1.469262595585185, 1.4616275704491624, 1.4539692593916551, 1.5037977997912098, 1.496268806955887, 1.4887170257013995, 1.4811423504735068, 1.473544675054389, 1.4659238925573548, 1.4582798954214902, 1.4920651589035285, 1.4845057493259224, 1.4769234311315589, 1.2524973252768339, 1.244985403384921, 1.334054665816251, 1.3265298061054687, 1.3189828353460342, 1.3114136535841385, 1.3296830529816437, 1.3221467588999005, 1.3145883081753955, 1.4027230893841334, 1.3951495643802947, 1.3875533779345843, 1.326475246608211, 1.318932257985036, 1.3220850921235587, 1.3922409819536885, 1.4339417617976637, 1.4264601028393362, 1.4189561990878075, 1.4114299490591777, 1.4038812506393676, 1.3963100010791358, 1.3887160969890495, 1.3810994343344063, 1.5080855796221617, 1.5005703661314314, 1.4930324333809037, 1.4854716762931897, 1.4778879891315149, 1.4702812654944697, 1.4626513983107097, 1.454998279833599, 1.4972680235591829, 1.4897212701755296, 1.4821516563601262, 1.4745590761746405, 1.4669434230146632, 1.4593045896043946, 1.5688949244865242, 1.5613043594797449, 1.5536904133409486, 1.5460529762662687, 1.538391937754505, 1.539208671962057, 1.5317849428016155, 1.524338906180897, 1.5168704595411342, 1.5093794996837597, 1.5018659227653344, 1.4943296242924404, 1.4867704991165105, 1.47918844142862, 1.471583344754222, 1.4639551019478296, 1.4563036051876543, 1.4486287459701817, 1.6111467429651332, 1.603682787774986, 1.5961960307855865, 1.588686365784091, 1.5811536858885369, 1.5735978835425128, 1.5660188505097696, 1.5584164778687843, 1.5507906560072715, 1.5431412746166357, 1.5354682226863803, 1.5277713884984485, 1.6009201261021306, 1.5934258720110466, 1.5859086786771976, 1.5783684390409172, 1.5708050453667897, 1.563218389238258, 1.5556083615521739, 1.5479748525132928, 1.540317751628722, 1.5326369477023096, 1.678152013977808, 1.6706299283066368, 1.6630844637817783, 1.6555155100300125, 1.6479229559757476, 1.640306689835376, 1.6326665991115805, 1.625002570587586, 1.6173144903213506, 1.5811947845425671, 1.5736452056362389, 1.5660724491871432, 1.5584764067347736, 1.6306447269365254, 1.62323879376698, 1.6158103219663595, 1.6083592069361368, 1.6008853434212016, 1.5933886255046434, 1.5858689466024896, 1.5783261994583795, 1.5707602761382073, 1.5631710680246946, 1.5555584658119188, 1.5479223594997906, 1.5402626383884692, 1.5325791910727338, 1.5248719054362887, 1.627910116774615, 1.6204968010819891, 1.6130609161654563, 1.6056023572533231, 1.5981210189160555, 1.5906167950610568, 1.5830895789273818, 1.5755392630804186, 1.5679657394065025, 1.560368899107485, 1.5527486326952504, 1.5451048299861778, 1.537437380095549, 1.529746171431903, 1.7066275283957077, 1.6991922350596096, 1.691733964447182, 1.6842526086887788, 1.676748059232073, 1.669220206836599, 1.6616689415682526, 1.6540941527937292, 1.6464957291749116, 1.638873558663204, 1.631227528493811, 1.6235575251799566, 1.6158634345070546, 1.6894792990611198, 1.6819916408716693, 1.6744807619309634, 1.6669465528400855, 1.6593889035052922, 1.6518077031324419, 1.6442028402213749, 1.6365742025602328, 1.6289216772197284, 1.6212451505473524, 1.6822930067048256, 1.6747860404886248, 1.6672557739863112, 1.6597020973518557, 1.6521249000411884, 1.6445240708065942, 1.5811410723152708, 1.5568709271528045, 1.5494999757453973, 1.5421069570963672, 1.5346917701246046, 1.5272543131206948, 1.5197944837419586, 1.5123121790074503, 1.5048072952929006, 1.4972797283256205, 1.489729373179348, 1.4821561242690482, 1.4745598753456632, 1.466940519490811, 1.4592979491114322, 1.451632055934385, 1.6319011511878163, 1.6245001120062066, 1.6170765603011, 1.609630391650278, 1.6021615009763759, 1.594669782541684, 1.587155129942891, 1.5796174361057873, 1.5720565932799067, 1.5644724930331204, 1.5568650262461834, 1.5492340831072173, 1.54157955310615, 1.5339013250290945, 1.6217553085423744, 1.614324334904207, 1.6068707135198976, 1.5993943391375123, 1.5918951058435022, 1.5843729070574448, 1.5768276355267237, 1.5692591833211655, 1.5616674418276242, 1.5540523017445087, 1.5464136530762604, 1.5387513851277783, 1.6954555318592914, 1.6879861425651808, 1.6804936164030406, 1.6729778444881445, 1.6654387172448804, 1.657876124401222, 1.6502899549831402, 1.642680097308962, 1.6350464389836779, 1.6273888668931864, 1.6021672142851704, 1.5946815106476653, 1.5871729244627648, 1.5796413491038488, 1.5720866772723976, 1.5645088009926318, 1.5851825309728593, 1.4572643846096558, 1.4498511607029414, 1.4424159990243959, 1.434958799958943, 1.4274794632757697, 1.419977888123476, 1.4124539730251864, 1.4049076158736091, 1.3973387139260491, 1.389747163799376, 1.3821328614649357, 1.53548363854975, 1.528050608387275, 1.5205952341810691, 1.5131174131673955, 1.5056170419411676, 1.4980940164508678, 1.4905482319934167, 1.4829795832089963, 1.4753879640758187, 1.4677732679048485, 1.4601353873344716, 1.5247769702944427, 1.5173128932682158, 1.5098263339976763, 1.502317188880863, 1.4947853536679838, 1.4872307234562716, 1.4796531926847936, 1.4720526551292124, 1.464429003896488, 1.6018413313832236, 1.5943512284155141, 1.586838208601895, 1.5793021650254055, 1.571742990094371, 1.5641605755370136, 1.556554812396014, 1.5489255910230124, 1.5098070192786723, 1.5023039796417716, 1.4947783030517443, 1.4872298850713783, 1.3464085055544102, 1.3389220203198904, 1.3314136063711675, 1.32388316492929, 1.3163305966078684, 1.3420510135472665, 1.334553153136571, 1.3270333187567647, 1.319491411384292, 1.4235068168621177, 1.4159973220533626, 1.408465467369348, 1.4009111506672571, 1.3933342691691801, 1.4196751779925019, 1.412155583894382, 1.404613589256085, 1.3970490917118612, 1.336014850212672, 1.3285041345252016, 1.4068706659326196, 1.3993152731320329, 1.4030121940926723, 1.531514846365686, 1.5240727642023526, 1.516608310295856, 1.5091213817985565, 1.5016118752215035, 1.4940796864293633, 1.4865247106352963, 1.4789468423957863, 1.471345975605418, 1.4637220034916059, 1.520792654420863, 1.5133194748703802, 1.5058237851891365, 1.4983054816907695, 1.4907644600411292, 1.4832006152531436, 1.4756138416816362, 1.4680040330180892, 1.5928981886138165, 1.5853834462198588, 1.577845686324583, 1.570284801473271, 1.562700683533009, 1.5550932236872776, 1.5474623124304792, 1.5825937724464376, 1.5750484116061443, 1.5674798940402799, 1.5598881114346808, 1.5522729547902516, 1.6438559482121826, 1.636493802307481, 1.6291093359997257, 1.6217024461441043, 1.6142730289513523, 1.6068209799826643, 1.5993461941445493, 1.5918485656836359, 1.5843279881814363, 1.576784354549048, 1.5692175570218139, 1.5616274871539255, 1.5540140358129755, 1.5463770931744603, 1.5387165487162204, 1.6263673139209116, 1.6189530170798945, 1.6115161622077616, 1.604056644692082, 1.5965743592644788, 1.5890691999954305, 1.581541060289017, 1.573989832877613, 1.5664154098165366, 1.5588176824786395, 1.5511965415488496, 1.543551877018658, 1.7041005002418772, 1.696660597296414, 1.68919770944625, 1.681711728855714, 1.6742025470073358, 1.6666700546963993, 1.6591141420254558, 1.6515346983987793, 1.6439316125167664, 1.6363047723702877, 1.6286540652349792, 1.6869374028001614, 1.6794451008193356, 1.671929570447797, 1.6643907023220061, 1.6568283863845041, 1.6492425118783545, 1.641632967341538, 1.633999640601286, 1.6797279723610008, 1.6722162814428334, 1.6646812822321857, 1.6571228649164298, 1.647898941337183, 1.6405488659391556, 1.6331765240395844, 1.6257818128133974, 1.6183646287934328, 1.6109248678653656, 1.6034624252625878, 1.595977195561033, 1.5884690726739612, 1.5809379498466847, 1.573383719651247, 1.5658062739810514, 1.5582055040454323, 1.5505813003641817, 1.5429335527620154, 1.734999124922297, 1.7276530716704144, 1.7202844657981105, 1.7128932021503436, 1.7054791749112246, 1.6980422775987742, 1.6905824030596364, 1.683099443463732, 1.6755932902988695, 1.668063834365299, 1.6605109657702135, 1.6529345739222001, 1.645334547525632, 1.6377107745750155, 1.63006314234927, 1.7180496762756268, 1.7106521994862898, 1.7032319325974195, 1.6957887689728084, 1.6883226013037227, 1.680833321603553, 1.6733208212024073, 1.6657849907416586, 1.6582257201684358, 1.6506428987300599, 1.6430364149684304, 1.6354061567143572, 1.7958608495595476, 1.788433981515485, 1.780983874564165, 1.7735104186936297, 1.7660135031921973, 1.7584930166428636, 1.7509488469176453, 1.7433808811718696, 1.7357890058384078, 1.7281731066218553, 1.693798422351887, 1.686329702583689, 1.6788378726256297, 1.6713228238896938, 1.663784447100228, 1.6865653342606617, 1.6511926244548079, 1.6438523893615038, 1.6364899317738044, 1.6291051491283184, 1.6216979382215013, 1.614268195204603, 1.6068158155785603, 1.5993406941888417, 1.591842725220253, 1.5843218021916732, 1.5767778179507594, 1.569210664668587, 1.5616202338342464, 1.5540064162493814, 1.5463691020226777, 1.6484689839317366, 1.6411214190653265, 1.6337516014510387, 1.6263594283550526, 1.6189447964021666, 1.6115076015707328, 1.6040477391875378, 1.5965651039226432, 1.5890595897841697, 1.5815310901130297, 1.573979497577617, 1.5664047041684357, 1.5588066011926873, 1.5511850792687936, 1.7310137916403046, 1.7236556691171387, 1.7162749369952077, 1.7088714897493753, 1.701445221190579, 1.693996024460559, 1.6865237920265368, 1.6790284156758426, 1.6715097865104853, 1.6639677949416805, 1.656402330684315, 1.6488132827513675, 1.641200539448265, 1.7140332802036586, 1.7066235926633357, 1.6991910571543267, 1.6917355666631049, 1.6842570135004704, 1.6767552892961648, 1.669230284993435, 1.6616818908435445, 1.6541099964002333, 1.6465144905141216, 1.706875935983445, 1.6994470787492824, 1.691995294896301, 1.684520476970963, 1.6770225168409107, 1.6695013056895487, 1.6019700838871254, 1.5595828288669922, 1.5522244892268764, 1.544844157785857, 1.5374417340225428, 1.5300171167922247, 1.5225702043219662, 1.5151008942056583, 1.5076090833990143, 1.500094668214525, 1.4925575443163632, 1.484997606715237, 1.477414749763198, 1.4698088671483938, 1.5489732364213646, 1.5415842974085587, 1.5341732311900562, 1.5267399364283865, 1.5192843111564938, 1.5118062527727687, 1.5043056580360394, 1.4967824230605125, 1.4892364433106633, 1.4816676135960813, 1.4740758280662594, 1.627363983251642, 1.6199537477300308, 1.6125209745968248, 1.6050655593600673, 1.59758739687264, 1.59008638132706, 1.5825624062502401, 1.5750153644981812, 1.5674451482506284, 1.5598516490056666, 1.617192742130133, 1.6097524894062023, 1.6022895635064436, 1.5948038591075802, 1.587295270224697, 1.5797636902059784, 1.5722090117274026, 1.5646311267873743, 1.607768123701436, 1.6003031825913636, 1.5928154695302634, 1.585304878657103, 1.3630620956635715, 1.3556282944912197, 1.3481728185548876, 1.3406955707295303, 1.3331964532962846, 1.3256753679378277, 1.445562754970463, 1.4381212372377241, 1.4306576795728112, 1.4231719818722182, 1.4156640434138084, 1.4081337628519546, 1.4005810382126214, 1.4343036105681675, 1.4268300137992396, 1.4193342366829007, 1.4118161782767378, 1.4042757370133048, 1.515633930225291, 1.5081479786282683, 1.5006394668889906, 1.4931082910399391, 1.4855543464636547, 1.3394676317323306, 1.4191628870143929, 1.4116486071497956, 1.5395480968290733, 1.5321345975796112, 1.5246988760627347, 1.5172408304598468, 1.5097603583198251, 1.5022573565540387, 1.4947317214313158, 1.4871833485728647, 1.4796121329471439, 1.5288543116834576, 1.5214098713601691, 1.513943071494306, 1.506453809438262, 1.4989419819055292, 1.491407484965654, 1.4838502140391447, 1.6020204351306204, 1.5945373369519937, 1.5870313839738879, 1.5795024698487148, 1.5719504875600696, 1.564375329417408, 1.5917492337083285, 1.5842356933879704, 1.5766991602698934, 1.569139527157606, 1.6551990532228429, 1.6478752444348181, 1.6405293080275383, 1.6331611421424526, 1.625770644287258, 1.6183577113309149, 1.6109222394986096, 1.603464124366673, 1.5959832608574491, 1.5884795432341148, 1.5809528650954463, 1.5734031193705424, 1.5658301983134904, 1.558233993497983, 1.726171124420451, 1.718801633486655, 1.7114094968157598, 1.70399460876305, 1.6965568630197851, 1.6890961526079413, 1.6816123698748935, 1.6741054064880505, 1.6665751534294362, 1.6590215009902207, 1.6514443387651971, 1.6438435556472062, 1.716561864155516, 1.70916349885186, 1.70174235560224, 1.6942983279435235, 1.6868313087421447, 1.6793411901887834, 1.6718278637929849, 1.6642912203777345, 1.6567311500739752, 1.6491475423150743, 1.699486606018475, 1.6920362830485556, 1.684562941592446, 1.6770664736836713, 1.669546770673453, 1.662003723225273, 1.6544372213093765, 1.6922819953008272, 1.6848123219608773, 1.677319550559368, 1.8358794474263525, 1.8065294737874589, 1.7991347935900857, 1.7917170229012693, 1.7842760526364239, 1.776811773018586, 1.769324073572884, 1.7618128431209539, 1.7542779697752993, 1.7467193409336028, 1.7391368432729744, 1.7315303627441456, 1.723899784565617, 1.7162449932177313, 1.708565872436707, 1.7008623052085987, 1.9002816054946416, 1.8929051416351446, 1.8855053672746915, 1.8780821714360274, 1.8706354424343625, 1.8631650678717107, 1.8556709346311708, 1.8481529288711525, 1.8406109360195515, 1.8330448407678603, 1.825454527065225, 1.817839878112447, 1.8102007763559251, 1.8025371034815347, 1.7948487404084512, 1.90640624753382, 1.8990491100530544, 1.8916687539457788, 1.8842650688196165, 1.876837943579329, 1.869387266421202, 1.8619129248273727, 1.8544148055600975, 1.8468927946559786, 1.8393467774201178, 1.831776638420224, 1.8241822614806644, 1.8165635296764486, 1.808920325327163, 1.8012525299908433, 1.118703116468426, 1.1117981101393135, 1.1048756304749265, 1.0979356109922285, 1.0909779848701013, 1.084002684947194, 1.07700964371975, 1.0699987933394197, 1.0629700656110597, 1.055923391990506, 1.0488587035823422, 1.0417759311376382, 1.880263798737803, 1.8728239898770649, 1.8653605685257675, 1.857873421778655, 1.8503624360074833, 1.842827496855209, 1.8352684892301185, 1.8775002341969342, 1.8700516587363656, 1.8625794288881874, 1.672005852795053, 1.6647324081333112, 1.6574370635720617, 1.6501197186324945, 1.6427802722125444, 1.6354186225819969, 1.6280346673775552, 1.6206283035978495, 1.6131994275984107, 1.6057479350865869, 1.5982737211164126, 1.590776680083435, 1.5832567057194835, 1.5757136910873883, 1.5681475285756574, 1.7564074084606611, 1.749129230529441, 1.7418288229732113, 1.7345060826890808, 1.7271609059296409, 1.719793188297879, 1.7124028247420489, 1.7049897095504858, 1.6975537363463773, 1.690094798082482, 1.6826127870357945, 1.6751075948021636, 1.6675791122908594, 1.6600272297190797, 1.7469096117292413, 1.7396030629272086, 1.7322741553450924, 1.7249227850848823, 1.7175488475978538, 1.710152237679428, 1.7027328494639744, 1.6952905764195738, 1.6878253113427266, 1.6803369463530062, 1.6728253728876683, 1.665290481696203, 1.7300387640263275, 1.7226811870420944, 1.7153010164082672, 1.7078981467669834, 1.7004724720981974, 1.6930238857144286, 1.6855522802554577, 1.6780575476829755, 1.6705395792751763, 1.7228900795957198, 1.7155133883493294, 1.7081140252278613, 1.7006918844372907, 1.693246859518301, 1.5686511734200788, 1.5613242817290511, 1.5539755592936833, 1.5466049066816807, 1.5392122238465804, 1.5317974101229381, 1.52436036422147, 1.5169009842241463, 1.5094191675792399, 1.5019148110963263, 1.4943878109412383, 1.486838062630966, 1.55807338755048, 1.5507160665898863, 1.5433367806643592, 1.5359354295356786, 1.5285119123452913, 1.5210661276094393, 1.5135979732142448, 1.506107346410744, 1.4985941438098773, 1.4910582613774286, 1.6385701555983754, 1.6311975661008313, 1.6238026273630983, 1.616385236144852, 1.60894528856098, 1.6014826800764885, 1.593997305501353, 1.586489058985333, 1.5789578340127206, 1.6284391784400232, 1.6210367782223758, 1.6136118945963136, 1.606164423501909, 1.5986942602280885, 1.5912012994074758, 1.5836854350111884, 1.6190123423117035, 1.6115852644313124, 1.604135604543481, 1.3661764690996758, 1.3587563248202785, 1.351314586600726, 1.3438511579200527, 1.3363659416689415, 1.4503949386985435, 1.4429720237501866, 1.4355271711905948, 1.428060281645556, 1.4205712551286156, 1.413059991036276, 1.439151177409658, 1.431696279432128, 1.4242193041637528, 1.4167201513981522, 1.5221113177674819, 1.5146486995930772, 1.5071636442644758, 1.4996560486653008, 1.5496953399604578, 1.5423172598035013, 1.5349171400845238, 1.5274948802297494, 1.5200503790434174, 1.512583534702902, 1.505094244753793, 1.4975824061049217, 1.5390379264834433, 1.5316291002864908, 1.5241980986162944, 1.516744820081827, 1.5092691626638215, 1.5017710237098312, 1.6133084609622452, 1.605864018237929, 1.598396917532705, 1.5909070538278938, 1.5833943214471768, 1.5956039793519126, 1.5881065160749384, 1.6631636304404687, 1.6558687459476409, 1.6485518863907938, 1.6412129509632039, 1.6338518382333476, 1.6264684461400103, 1.619062671987338, 1.6116344124398507, 1.6041835635174038, 1.5967100205901013, 1.5892136783731654, 1.5816944309217476, 1.6531344511202262, 1.6458102333047921, 1.6384639092967297, 1.6310953774942683, 1.6237045356647208, 1.6162912809395313, 1.608855509809274, 1.601397118118603, 1.59391600106116, 1.5864120531744232, 1.7256285111248917, 1.7182618532942964, 1.7108725809869638, 1.7034605888512695, 1.696025770874541, 1.6885680203778264, 1.681087230010616, 1.6735832917455085, 1.7160127894611619, 1.7086172582233126, 1.701198980469559, 1.6937578500322834, 1.6862937600764434, 1.678806603094279, 1.7014028958263632, 1.6872352561531239, 1.68001306202214, 1.6727692251885942, 1.6655036468887252, 1.658216227749783, 1.6509068677852838, 1.6435754663902133, 1.636221922336192, 1.6288461337665872, 1.621447998191581, 1.6140274124831964, 1.6065842728702662, 1.5991184749333642, 1.5916299135996794, 1.7629297896300056, 1.755676213429795, 1.7484005415708155, 1.7411026719003793, 1.7337825016295778, 1.7264399273282869, 1.7190748449201207, 1.7116871496773371, 1.704276736215696, 1.6968434984892689, 1.689387329785197, 1.6819081227184005, 1.7534558907570585, 1.7461740826360517, 1.7388700507263786, 1.7315436920894154, 1.7241949031442187, 1.7168235796624742, 1.709429616763391, 1.7020129089085494, 1.694573349896701, 1.6871108328585165, 1.826116721480726, 1.8187888591353856, 1.8114382436109302, 1.8040647680743542, 1.796668325018972, 1.7892488062590677, 1.7818061029245014, 1.729473059866779, 1.722121357683983, 1.7147471206011433, 1.6905854938182527, 1.683372672925865, 1.676138248127128, 1.668882120868356, 1.6616041919882596, 1.6543043617132098, 1.6469825296524534, 1.6396385947932859, 1.6322724554961765, 1.624884009489847, 1.617473153866308, 1.6100397850758394, 1.6025837989219327, 1.595105090556175, 1.6806594477659238, 1.673417753621491, 1.6661543272030561, 1.6588690691827617, 1.6515618796192175, 1.6442326579527127, 1.6368813030003744, 1.6295077129512805, 1.6221117853615354, 1.6146934171492837, 1.6072525045896913, 1.5997889433098686, 1.76112199845524, 1.7538623478623598, 1.7465805691383345, 1.739276559892124, 1.7319502170942591, 1.7246014370718221, 1.717230115503375, 1.7098361474138397, 1.7024194271693334, 1.6949798484719498, 1.7443481995852503, 1.737038004825843, 1.729705450261033, 1.722350432066183, 1.714972845767017, 1.7075725862344928, 1.7001495476796216, 1.7371956155284456, 1.7298663148320577, 1.7225145762911465, 1.5798896340641648, 1.5726011197968925, 1.565290969128191, 1.5579590839286346, 1.5506053654655028, 1.5432297143980738, 1.5358320307728748, 1.5284122140188894, 1.5209701629427177, 1.5135057757236905, 1.5060189499089367, 1.569351728816056, 1.5620329941704696, 1.5546924903362294, 1.547330118390144, 1.5399457787996833, 1.5325393714182172, 1.525110795480212, 1.5176599495963763, 1.5101867317487658, 1.651992539186986, 1.6446646650328998, 1.637314663940669, 1.6299424341393915, 1.6225478732255054, 1.6151308781578104, 1.6076913452524513, 1.6002291701778402, 1.6419100678199308, 1.6345526289905203, 1.6271729307047398, 1.619770870385846, 1.6123463448182136, 1.6048992501422994, 1.6324835935911346, 1.6251015002152007, 1.3704085312074268, 1.3630057117282135, 1.3555813972417987, 1.3481354919508053, 1.456407972709753, 1.449007506164066, 1.4415852231702608, 1.4341410252068405, 1.4266748131474594, 1.4451840618740823, 1.4377517301965153, 1.4302974432702904, 1.5223238359881077, 1.5148660654914552, 1.471021552650209, 1.4636706818886045, 1.4562982474682473, 1.4489041525878055, 1.4414882998557526, 1.5430806963369346, 1.5356894062141335, 1.5282760432015792, 1.520840506665728, 1.532387711052894, 1.5249655616323736, 1.5853055658440904, 1.578040505935217, 1.570753947940039, 1.5634457947628384, 1.5561159487139744, 1.5487643115052778, 1.5413907842454033, 1.533995267435139, 1.5265776609626684, 1.6626483144515214, 1.6553581379157796, 1.6480460331790163, 1.6407118998602395, 1.6333556369578985, 1.6259771428450371, 1.6185763152643973, 1.6111530513234784, 1.6526098670469322, 1.645290357957969, 1.637948789773385, 1.6305850613204862, 1.6231990707999482, 1.615790715780907, 1.7190408488948257, 1.7116589231815296, 1.7042543321109849, 1.7000780026121771, 1.6928999111718832, 1.6857004005327576, 1.6784793734256838, 1.671236731984969, 1.6639723777437245, 1.6566862116291927, 1.6493781339580333, 1.64204804443157, 1.634695842130984, 1.6273214255124708, 1.619924692402342, 1.6901852105132922, 1.6829784349589192, 1.6757501132093178, 1.6685001472332976, 1.661228438397291, 1.6539348874606776, 1.6466193945710592, 1.6392818592594922, 1.6319221804356763, 1.6245402563830942, 1.7671109049130744, 1.7598751871608207, 1.7526174768057499, 1.745337672446369, 1.738035672051598, 1.7307113729558423, 1.723364671854017, 1.7159954647965212, 1.750384225931381, 1.7430982410449605, 1.735790033949895, 1.7284595018298403, 1.7211065412278574, 1.7432189800965459, 1.6091568811230756, 1.6019623902000053, 1.5947467173302683, 1.5875097673220633, 1.580251444404103, 1.5729716522211363, 1.5656702938294396, 1.5583472716922566, 1.5510024876752007, 1.543635843041614, 1.5362472384478756, 1.6948770719872672, 1.6876832979005538, 1.680468030827527, 1.6732311730211449, 1.6659726261338295, 1.6586922912127986, 1.6513900686953613, 1.6440658584041588, 1.6367195595423687, 1.629351070688861, 1.6777360378265598, 1.6704918459184521, 1.6632259348239404, 1.6559382054220897, 1.6486285579808557, 1.6412968921523168, 1.6339431069678687, 1.759354031587839, 1.7520938009876268, 1.7448114584364, 1.7375069017422953, 1.7301800280772313, 1.6583359383347334, 1.4877711279939652, 1.4804683299626626, 1.4731441777126497, 1.4657985756721226, 1.4584314276881842, 1.4510426370223588, 1.443632106346054, 1.5741311267959144, 1.5668318750661414, 1.5595109640442832, 1.5521682955981266, 1.544803770993051, 1.5374172908873407, 1.5300087553274528, 1.563560757791736, 1.5562311857001876, 1.5488798211665542, 1.5415065652636877, 1.5341113184559911, 1.6482101113428305, 1.6408761389037902, 1.6335200328505908, 1.6261416914844287, 1.3676664820510276, 1.360260889944562, 1.363299266800014, 1.444086222132775, 1.4665151583321356, 1.4591572938147965, 1.4626896656000952, 1.5861710819047157, 1.5789150966312544, 1.5716376811458097, 1.56433873891452, 1.5570181728149488, 1.5496758851315404, 1.5756462125392117, 1.5683601559247324, 1.5610525377240934, 1.5537232606240943, 1.6543050904383223, 1.6469961800374038, 1.6396652817963122, 1.64422600241561, 1.6143969265569853, 1.607226264055158, 1.6000345619280265, 1.5928217260457074, 1.5855876617083735, 1.578332273641882, 1.571055465993361, 1.563757142326758, 1.6039817300779766, 1.5967814893944559, 1.58956008070146, 1.5823174091126528, 1.5750533791660881, 1.5677678948197866, 1.678769023699348, 1.671535229033379, 1.664279794334005, 1.6570026211514979, 1.6687814334270739, 1.6615185877367475, 1.6102328738896448, 1.603047869971997, 1.5958417526143365, 1.5886144271816782, 1.5813657984647809, 1.574095770675735, 1.566804247443501, 1.5594911318094145, 1.5998009294194064, 1.59258626110663, 1.5853503503796416, 1.5780931018419668, 1.5708144195171603, 1.5635142068443337, 1.684650205376526, 1.6774320910226745, 1.6701923987538059, 1.6629310304430784, 1.6556478873611418, 1.6674376129443031, 1.660168827591019, 1.4900756288061845, 1.4827854240678788, 1.4754739459618236, 1.468141099542364, 1.4607867892885078, 1.478980479991581, 1.4716590444098467, 1.4643162008367934, 1.559710375120408, 1.552374559096631, 1.5564165442276627, 1.4969910449544, 1.4897321928017646, 1.5239013442549283, 1.5167235826332595, 1.509525106484566, 1.502305824559666, 1.5129311161557826, 1.5057227526509878, 1.5929153775784586, 1.504807074228742, 1.4975696954022115, 1.4903113199377582, 1.501008112406015, 1.4937608143780874, 1.5826563563199008]}],                        {\"template\": {\"data\": {\"bar\": [{\"error_x\": {\"color\": \"#2a3f5f\"}, \"error_y\": {\"color\": \"#2a3f5f\"}, \"marker\": {\"line\": {\"color\": \"#E5ECF6\", \"width\": 0.5}}, \"type\": \"bar\"}], \"barpolar\": [{\"marker\": {\"line\": {\"color\": \"#E5ECF6\", \"width\": 0.5}}, \"type\": \"barpolar\"}], \"carpet\": [{\"aaxis\": {\"endlinecolor\": \"#2a3f5f\", \"gridcolor\": \"white\", \"linecolor\": \"white\", \"minorgridcolor\": \"white\", \"startlinecolor\": \"#2a3f5f\"}, \"baxis\": {\"endlinecolor\": \"#2a3f5f\", \"gridcolor\": \"white\", \"linecolor\": \"white\", \"minorgridcolor\": \"white\", \"startlinecolor\": \"#2a3f5f\"}, \"type\": \"carpet\"}], \"choropleth\": [{\"colorbar\": {\"outlinewidth\": 0, \"ticks\": \"\"}, \"type\": \"choropleth\"}], \"contour\": [{\"colorbar\": {\"outlinewidth\": 0, \"ticks\": \"\"}, \"colorscale\": [[0.0, \"#0d0887\"], [0.1111111111111111, \"#46039f\"], [0.2222222222222222, \"#7201a8\"], [0.3333333333333333, \"#9c179e\"], [0.4444444444444444, \"#bd3786\"], [0.5555555555555556, \"#d8576b\"], [0.6666666666666666, \"#ed7953\"], [0.7777777777777778, \"#fb9f3a\"], [0.8888888888888888, \"#fdca26\"], [1.0, \"#f0f921\"]], \"type\": \"contour\"}], \"contourcarpet\": [{\"colorbar\": {\"outlinewidth\": 0, \"ticks\": \"\"}, \"type\": \"contourcarpet\"}], \"heatmap\": [{\"colorbar\": {\"outlinewidth\": 0, \"ticks\": \"\"}, \"colorscale\": [[0.0, \"#0d0887\"], [0.1111111111111111, \"#46039f\"], [0.2222222222222222, \"#7201a8\"], [0.3333333333333333, \"#9c179e\"], [0.4444444444444444, \"#bd3786\"], [0.5555555555555556, \"#d8576b\"], [0.6666666666666666, \"#ed7953\"], [0.7777777777777778, \"#fb9f3a\"], [0.8888888888888888, \"#fdca26\"], [1.0, \"#f0f921\"]], \"type\": \"heatmap\"}], \"heatmapgl\": [{\"colorbar\": {\"outlinewidth\": 0, \"ticks\": \"\"}, \"colorscale\": [[0.0, \"#0d0887\"], [0.1111111111111111, \"#46039f\"], [0.2222222222222222, \"#7201a8\"], [0.3333333333333333, \"#9c179e\"], [0.4444444444444444, \"#bd3786\"], [0.5555555555555556, \"#d8576b\"], [0.6666666666666666, \"#ed7953\"], [0.7777777777777778, \"#fb9f3a\"], [0.8888888888888888, \"#fdca26\"], [1.0, \"#f0f921\"]], \"type\": \"heatmapgl\"}], \"histogram\": [{\"marker\": {\"colorbar\": {\"outlinewidth\": 0, \"ticks\": \"\"}}, \"type\": \"histogram\"}], \"histogram2d\": [{\"colorbar\": {\"outlinewidth\": 0, \"ticks\": \"\"}, \"colorscale\": [[0.0, \"#0d0887\"], [0.1111111111111111, \"#46039f\"], [0.2222222222222222, \"#7201a8\"], [0.3333333333333333, \"#9c179e\"], [0.4444444444444444, \"#bd3786\"], [0.5555555555555556, \"#d8576b\"], [0.6666666666666666, \"#ed7953\"], [0.7777777777777778, \"#fb9f3a\"], [0.8888888888888888, \"#fdca26\"], [1.0, \"#f0f921\"]], \"type\": \"histogram2d\"}], \"histogram2dcontour\": [{\"colorbar\": {\"outlinewidth\": 0, \"ticks\": \"\"}, \"colorscale\": [[0.0, \"#0d0887\"], [0.1111111111111111, \"#46039f\"], [0.2222222222222222, \"#7201a8\"], [0.3333333333333333, \"#9c179e\"], [0.4444444444444444, \"#bd3786\"], [0.5555555555555556, \"#d8576b\"], [0.6666666666666666, \"#ed7953\"], [0.7777777777777778, \"#fb9f3a\"], [0.8888888888888888, \"#fdca26\"], [1.0, \"#f0f921\"]], \"type\": \"histogram2dcontour\"}], \"mesh3d\": [{\"colorbar\": {\"outlinewidth\": 0, \"ticks\": \"\"}, \"type\": \"mesh3d\"}], \"parcoords\": [{\"line\": {\"colorbar\": {\"outlinewidth\": 0, \"ticks\": \"\"}}, \"type\": \"parcoords\"}], \"pie\": [{\"automargin\": true, \"type\": \"pie\"}], \"scatter\": [{\"marker\": {\"colorbar\": {\"outlinewidth\": 0, \"ticks\": \"\"}}, \"type\": \"scatter\"}], \"scatter3d\": [{\"line\": {\"colorbar\": {\"outlinewidth\": 0, \"ticks\": \"\"}}, \"marker\": {\"colorbar\": {\"outlinewidth\": 0, \"ticks\": \"\"}}, \"type\": \"scatter3d\"}], \"scattercarpet\": [{\"marker\": {\"colorbar\": {\"outlinewidth\": 0, \"ticks\": \"\"}}, \"type\": \"scattercarpet\"}], \"scattergeo\": [{\"marker\": {\"colorbar\": {\"outlinewidth\": 0, \"ticks\": \"\"}}, \"type\": \"scattergeo\"}], \"scattergl\": [{\"marker\": {\"colorbar\": {\"outlinewidth\": 0, \"ticks\": \"\"}}, \"type\": \"scattergl\"}], \"scattermapbox\": [{\"marker\": {\"colorbar\": {\"outlinewidth\": 0, \"ticks\": \"\"}}, \"type\": \"scattermapbox\"}], \"scatterpolar\": [{\"marker\": {\"colorbar\": {\"outlinewidth\": 0, \"ticks\": \"\"}}, \"type\": \"scatterpolar\"}], \"scatterpolargl\": [{\"marker\": {\"colorbar\": {\"outlinewidth\": 0, \"ticks\": \"\"}}, \"type\": \"scatterpolargl\"}], \"scatterternary\": [{\"marker\": {\"colorbar\": {\"outlinewidth\": 0, \"ticks\": \"\"}}, \"type\": \"scatterternary\"}], \"surface\": [{\"colorbar\": {\"outlinewidth\": 0, \"ticks\": \"\"}, \"colorscale\": [[0.0, \"#0d0887\"], [0.1111111111111111, \"#46039f\"], [0.2222222222222222, \"#7201a8\"], [0.3333333333333333, \"#9c179e\"], [0.4444444444444444, \"#bd3786\"], [0.5555555555555556, \"#d8576b\"], [0.6666666666666666, \"#ed7953\"], [0.7777777777777778, \"#fb9f3a\"], [0.8888888888888888, \"#fdca26\"], [1.0, \"#f0f921\"]], \"type\": \"surface\"}], \"table\": [{\"cells\": {\"fill\": {\"color\": \"#EBF0F8\"}, \"line\": {\"color\": \"white\"}}, \"header\": {\"fill\": {\"color\": \"#C8D4E3\"}, \"line\": {\"color\": \"white\"}}, \"type\": \"table\"}]}, \"layout\": {\"annotationdefaults\": {\"arrowcolor\": \"#2a3f5f\", \"arrowhead\": 0, \"arrowwidth\": 1}, \"autotypenumbers\": \"strict\", \"coloraxis\": {\"colorbar\": {\"outlinewidth\": 0, \"ticks\": \"\"}}, \"colorscale\": {\"diverging\": [[0, \"#8e0152\"], [0.1, \"#c51b7d\"], [0.2, \"#de77ae\"], [0.3, \"#f1b6da\"], [0.4, \"#fde0ef\"], [0.5, \"#f7f7f7\"], [0.6, \"#e6f5d0\"], [0.7, \"#b8e186\"], [0.8, \"#7fbc41\"], [0.9, \"#4d9221\"], [1, \"#276419\"]], \"sequential\": [[0.0, \"#0d0887\"], [0.1111111111111111, \"#46039f\"], [0.2222222222222222, \"#7201a8\"], [0.3333333333333333, \"#9c179e\"], [0.4444444444444444, \"#bd3786\"], [0.5555555555555556, \"#d8576b\"], [0.6666666666666666, \"#ed7953\"], [0.7777777777777778, \"#fb9f3a\"], [0.8888888888888888, \"#fdca26\"], [1.0, \"#f0f921\"]], \"sequentialminus\": [[0.0, \"#0d0887\"], [0.1111111111111111, \"#46039f\"], [0.2222222222222222, \"#7201a8\"], [0.3333333333333333, \"#9c179e\"], [0.4444444444444444, \"#bd3786\"], [0.5555555555555556, \"#d8576b\"], [0.6666666666666666, \"#ed7953\"], [0.7777777777777778, \"#fb9f3a\"], [0.8888888888888888, \"#fdca26\"], [1.0, \"#f0f921\"]]}, \"colorway\": [\"#636efa\", \"#EF553B\", \"#00cc96\", \"#ab63fa\", \"#FFA15A\", \"#19d3f3\", \"#FF6692\", \"#B6E880\", \"#FF97FF\", \"#FECB52\"], \"font\": {\"color\": \"#2a3f5f\"}, \"geo\": {\"bgcolor\": \"white\", \"lakecolor\": \"white\", \"landcolor\": \"#E5ECF6\", \"showlakes\": true, \"showland\": true, \"subunitcolor\": \"white\"}, \"hoverlabel\": {\"align\": \"left\"}, \"hovermode\": \"closest\", \"mapbox\": {\"style\": \"light\"}, \"paper_bgcolor\": \"white\", \"plot_bgcolor\": \"#E5ECF6\", \"polar\": {\"angularaxis\": {\"gridcolor\": \"white\", \"linecolor\": \"white\", \"ticks\": \"\"}, \"bgcolor\": \"#E5ECF6\", \"radialaxis\": {\"gridcolor\": \"white\", \"linecolor\": \"white\", \"ticks\": \"\"}}, \"scene\": {\"xaxis\": {\"backgroundcolor\": \"#E5ECF6\", \"gridcolor\": \"white\", \"gridwidth\": 2, \"linecolor\": \"white\", \"showbackground\": true, \"ticks\": \"\", \"zerolinecolor\": \"white\"}, \"yaxis\": {\"backgroundcolor\": \"#E5ECF6\", \"gridcolor\": \"white\", \"gridwidth\": 2, \"linecolor\": \"white\", \"showbackground\": true, \"ticks\": \"\", \"zerolinecolor\": \"white\"}, \"zaxis\": {\"backgroundcolor\": \"#E5ECF6\", \"gridcolor\": \"white\", \"gridwidth\": 2, \"linecolor\": \"white\", \"showbackground\": true, \"ticks\": \"\", \"zerolinecolor\": \"white\"}}, \"shapedefaults\": {\"line\": {\"color\": \"#2a3f5f\"}}, \"ternary\": {\"aaxis\": {\"gridcolor\": \"white\", \"linecolor\": \"white\", \"ticks\": \"\"}, \"baxis\": {\"gridcolor\": \"white\", \"linecolor\": \"white\", \"ticks\": \"\"}, \"bgcolor\": \"#E5ECF6\", \"caxis\": {\"gridcolor\": \"white\", \"linecolor\": \"white\", \"ticks\": \"\"}}, \"title\": {\"x\": 0.05}, \"xaxis\": {\"automargin\": true, \"gridcolor\": \"white\", \"linecolor\": \"white\", \"ticks\": \"\", \"title\": {\"standoff\": 15}, \"zerolinecolor\": \"white\", \"zerolinewidth\": 2}, \"yaxis\": {\"automargin\": true, \"gridcolor\": \"white\", \"linecolor\": \"white\", \"ticks\": \"\", \"title\": {\"standoff\": 15}, \"zerolinecolor\": \"white\", \"zerolinewidth\": 2}}}},                        {\"responsive\": true}                    ).then(function(){\n",
       "                            \n",
       "var gd = document.getElementById('b28bbf74-12bc-48a1-a5c1-b3bac124ade1');\n",
       "var x = new MutationObserver(function (mutations, observer) {{\n",
       "        var display = window.getComputedStyle(gd).display;\n",
       "        if (!display || display === 'none') {{\n",
       "            console.log([gd, 'removed!']);\n",
       "            Plotly.purge(gd);\n",
       "            observer.disconnect();\n",
       "        }}\n",
       "}});\n",
       "\n",
       "// Listen for the removal of the full notebook cells\n",
       "var notebookContainer = gd.closest('#notebook-container');\n",
       "if (notebookContainer) {{\n",
       "    x.observe(notebookContainer, {childList: true});\n",
       "}}\n",
       "\n",
       "// Listen for the clearing of the current output cell\n",
       "var outputEl = gd.closest('.output');\n",
       "if (outputEl) {{\n",
       "    x.observe(outputEl, {childList: true});\n",
       "}}\n",
       "\n",
       "                        })                };                });            </script>        </div>"
      ]
     },
     "metadata": {},
     "output_type": "display_data"
    },
    {
     "name": "stdout",
     "output_type": "stream",
     "text": [
      "1647\n"
     ]
    }
   ],
   "source": [
    "reload(cp)\n",
    "x = cp.simulate2()\n",
    "fig = go.Figure(data=[go.Histogram(x=x)])\n",
    "fig.show()\n",
    "print(len(x))"
   ]
  },
  {
   "cell_type": "code",
   "execution_count": null,
   "id": "weekly-lincoln",
   "metadata": {},
   "outputs": [],
   "source": [
    "x = np.linspace(0, 24, 50)\n",
    "plot(x, lambda x: cp.awareness(x, .5))"
   ]
  },
  {
   "cell_type": "code",
   "execution_count": null,
   "id": "coordinate-gabriel",
   "metadata": {},
   "outputs": [],
   "source": [
    "#segments\n",
    "for segment in cp.segments:\n",
    "    l, u = cp.segments[segment][\"age\"][0][0], cp.segments[segment][\"age\"][-1][1]\n",
    "    print(l, u)\n",
    "    print(segment)\n",
    "    plot(np.linspace(l, u, 100), lambda x: cp.age(segment, x))"
   ]
  },
  {
   "cell_type": "code",
   "execution_count": null,
   "id": "incomplete-cheese",
   "metadata": {},
   "outputs": [],
   "source": [
    "# price\n",
    "for segment in cp.segments:\n",
    "    l, u = cp.segments[segment][\"price\"]\n",
    "    print(l, u)\n",
    "    print(segment)\n",
    "    plot(np.linspace(l, u, 100), lambda x: cp.price(segment, x))"
   ]
  },
  {
   "cell_type": "code",
   "execution_count": null,
   "id": "forward-borough",
   "metadata": {},
   "outputs": [],
   "source": [
    "# mtbf\n",
    "for segment in cp.segments:\n",
    "    l, u = cp.segments[segment][\"mtbf\"]\n",
    "    print(l, u)\n",
    "    print(segment)\n",
    "    plot(np.linspace(l-5000, u, 100), lambda x: cp.mtbf(segment, x))"
   ]
  },
  {
   "cell_type": "code",
   "execution_count": null,
   "id": "employed-circuit",
   "metadata": {},
   "outputs": [],
   "source": [
    "# position\n",
    "for segment in cp.segments:\n",
    "    cx, cy, ix, iy = cp.segments[segment][\"pos\"]\n",
    "    x = np.outer(np.linspace(cx-3.54, cx+3.54, 30), np.ones(30))\n",
    "    y = np.outer(np.linspace(cy-3.54, cy+3.54, 30), np.ones(30)).T\n",
    "    zipped = zip(np.reshape(x, -1), np.reshape(y, -1))\n",
    "\n",
    "    def mapper(p):\n",
    "        x, y = p\n",
    "        ret = cp.position(segment, x, y)\n",
    "#         ret = x+y\n",
    "        return ret\n",
    "    z = np.reshape(np.fromiter(map(mapper, zipped), float), (30, 30))\n",
    "\n",
    "    go.Figure(data=go.Surface(x=x, y=y, z=z)).show()\n",
    "\n"
   ]
  },
  {
   "cell_type": "code",
   "execution_count": null,
   "id": "executed-attitude",
   "metadata": {},
   "outputs": [],
   "source": [
    "xx = []\n",
    "yy = []\n",
    "zz = []\n",
    "x, y = np.linspace(0, 10, 9), np.linspace(0, 10, 9)\n",
    "\n",
    "for i in x:\n",
    "    for j in y:\n",
    "        k = i+j\n",
    "        xx.append(i)\n",
    "        yy.append(j)\n",
    "        zz.append(k)\n",
    "\n",
    "print(yy)\n",
    "go.Figure(data=go.Surface(x=xx, y=yy, z=zz)).show()\n",
    "        \n"
   ]
  },
  {
   "cell_type": "code",
   "execution_count": null,
   "id": "floating-reset",
   "metadata": {},
   "outputs": [],
   "source": [
    "import plotly.graph_objects as go \n",
    "import numpy as np \n",
    "  \n",
    "x = np.outer(np.linspace(-2, 2, 30), np.ones(30)) \n",
    "y = x.copy().T \n",
    "z = np.cos(x ** 2 + y ** 2) \n",
    "print(y)\n",
    "fig = go.Figure(data=[go.Surface(x=x, y=y, z=z)]) \n",
    "  \n",
    "fig.show() \n"
   ]
  },
  {
   "cell_type": "code",
   "execution_count": null,
   "id": "satisfactory-attitude",
   "metadata": {},
   "outputs": [],
   "source": [
    "x = np.linspace(.2, 8, 100)\n",
    "aut4 = [[.2, .187], [.4, .246], [.6, .332], [1,.55 ], [2, 1.161], [4, 2.03], [8, 2.569]]\n",
    "aut5 = [[.2, .248], [.4, .307], [.6, .393], [1, .611], [2, 1.222], [4, 2.091], [8, 2.630]]\n",
    "aut3 = [[.2, .150], [.4, .209], [.6, .295], [1, .513], [2, 1.124], [4, 1.993], [8, 2.532]]\n",
    "fig = go.Figure()\n",
    "fig.add_trace(go.Scatter(x=x, y=list(map(lambda x: cp.yy(aut3, x)*12, x)),\n",
    "                    mode='lines+markers',\n",
    "                    name='aut3'))\n",
    "fig.add_trace(go.Scatter(x=x, y=list(map(lambda x: cp.yy(aut4, x)*12, x)),\n",
    "                    mode='lines+markers',\n",
    "                    name='aut4'))\n",
    "fig.add_trace(go.Scatter(x=x, y=list(map(lambda x: cp.yy(aut5, x)*12, x)),\n",
    "                    mode='lines+markers',\n",
    "                    name='aut5'))\n",
    "fig.show()"
   ]
  },
  {
   "cell_type": "code",
   "execution_count": null,
   "id": "laughing-hundred",
   "metadata": {},
   "outputs": [],
   "source": [
    "x = np.linspace(0, .46, 100)\n",
    "y = list(map(lambda x: cp.y(cp.awarenessSegments, x), x))\n",
    "fig = go.Figure()\n",
    "fig.add_trace(go.Scatter(x=y, y=x,\n",
    "                    mode='lines+markers',\n",
    "                    name='accesibility'))\n"
   ]
  },
  {
   "cell_type": "code",
   "execution_count": null,
   "id": "vanilla-starter",
   "metadata": {},
   "outputs": [],
   "source": [
    "x = np.linspace(.001, .399, 50)\n",
    "ll = []\n",
    "for a in x:\n",
    "    cp.pc = a\n",
    "    ll.append(cp.testScore())\n",
    "base, final = zip(*ll)\n",
    "fig = go.Figure()\n",
    "fig.add_trace(go.Scatter(x=x, y=base,\n",
    "                    mode='lines+markers',\n",
    "                    name='base'))\n",
    "fig.add_trace(go.Scatter(x=x, y=final,\n",
    "                    mode='lines+markers',\n",
    "                    name='final'))\n"
   ]
  },
  {
   "cell_type": "code",
   "execution_count": null,
   "id": "cleared-ensemble",
   "metadata": {},
   "outputs": [],
   "source": []
  }
 ],
 "metadata": {
  "kernelspec": {
   "display_name": "Python 3",
   "language": "python",
   "name": "python3"
  },
  "language_info": {
   "codemirror_mode": {
    "name": "ipython",
    "version": 3
   },
   "file_extension": ".py",
   "mimetype": "text/x-python",
   "name": "python",
   "nbconvert_exporter": "python",
   "pygments_lexer": "ipython3",
   "version": "3.8.5"
  }
 },
 "nbformat": 4,
 "nbformat_minor": 5
}
