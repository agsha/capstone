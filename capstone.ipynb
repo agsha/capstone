{
 "cells": [
  {
   "cell_type": "code",
   "execution_count": 106,
   "id": "complex-buffer",
   "metadata": {},
   "outputs": [
    {
     "data": {
      "text/plain": [
       "<module 'capstone' from '/home/sharath/code/capstone/capstone.py'>"
      ]
     },
     "execution_count": 106,
     "metadata": {},
     "output_type": "execute_result"
    }
   ],
   "source": [
    "from importlib import reload\n",
    "import capstone as cp\n",
    "import numpy as np\n",
    "import pandas as pd\n",
    "import plotly.graph_objects as go\n",
    "def plot(x, fn):\n",
    "    y = map(fn, x)\n",
    "    go.Figure(data=go.Scatter(x=list(x), y=list(y))).show()\n",
    "reload(cp)"
   ]
  },
  {
   "cell_type": "code",
   "execution_count": 117,
   "id": "incident-detector",
   "metadata": {},
   "outputs": [
    {
     "name": "stdout",
     "output_type": "stream",
     "text": [
      "dist:0.0 perf:3 sz:17 mtbf:12000 price:15.0 rndTimeMonths:0.96 totalScore:478.1784111230021\n",
      "dist:0.0 perf:3 sz:17 mtbf:12000 price:15.526315789473685 rndTimeMonths:0.96 totalScore:466.5665827019494\n",
      "dist:0.0 perf:3 sz:17 mtbf:12000 price:16.05263157894737 rndTimeMonths:0.96 totalScore:454.95475428089674\n",
      "dist:0.0 perf:3 sz:17 mtbf:13000 price:15.0 rndTimeMonths:0.48 totalScore:484.945259670202\n",
      "dist:0.0 perf:3 sz:17 mtbf:13000 price:15.526315789473685 rndTimeMonths:0.48 totalScore:473.3334312491493\n",
      "dist:0.0 perf:3 sz:17 mtbf:13000 price:16.05263157894737 rndTimeMonths:0.48 totalScore:461.7216028280967\n",
      "dist:0.0 perf:3 sz:17 mtbf:13000 price:16.57894736842105 rndTimeMonths:0.48 totalScore:450.1097744070443\n",
      "dist:0.0 perf:3 sz:17 mtbf:14000 price:15.0 rndTimeMonths:0.0 totalScore:491.71210821740203\n",
      "dist:0.0 perf:3 sz:17 mtbf:14000 price:15.526315789473685 rndTimeMonths:0.0 totalScore:480.10027979634935\n",
      "dist:0.0 perf:3 sz:17 mtbf:14000 price:16.05263157894737 rndTimeMonths:0.0 totalScore:468.48845137529673\n",
      "dist:0.0 perf:3 sz:17 mtbf:14000 price:16.57894736842105 rndTimeMonths:0.0 totalScore:456.8766229542442\n",
      "dist:0.0 perf:3 sz:17 mtbf:15000 price:15.0 rndTimeMonths:0.48 totalScore:495.30503007020206\n",
      "dist:0.0 perf:3 sz:17 mtbf:15000 price:15.526315789473685 rndTimeMonths:0.48 totalScore:483.69320164914933\n",
      "dist:0.0 perf:3 sz:17 mtbf:15000 price:16.05263157894737 rndTimeMonths:0.48 totalScore:472.0813732280967\n",
      "dist:0.0 perf:3 sz:17 mtbf:15000 price:16.57894736842105 rndTimeMonths:0.48 totalScore:460.46954480704414\n",
      "dist:0.0 perf:3 sz:17 mtbf:16000 price:15.0 rndTimeMonths:0.96 totalScore:498.8979519230021\n",
      "dist:0.0 perf:3 sz:17 mtbf:16000 price:15.526315789473685 rndTimeMonths:0.96 totalScore:487.2861235019495\n",
      "dist:0.0 perf:3 sz:17 mtbf:16000 price:16.05263157894737 rndTimeMonths:0.96 totalScore:475.67429508089685\n",
      "dist:0.0 perf:3 sz:17 mtbf:16000 price:16.57894736842105 rndTimeMonths:0.96 totalScore:464.06246665984423\n",
      "dist:0.0 perf:3 sz:17 mtbf:16000 price:17.105263157894736 rndTimeMonths:0.96 totalScore:452.4506382387915\n",
      "dist:0.0 perf:3 sz:17 mtbf:17000 price:15.0 rndTimeMonths:1.44 totalScore:501.0377091190779\n",
      "dist:0.0 perf:3 sz:17 mtbf:17000 price:15.526315789473685 rndTimeMonths:1.44 totalScore:489.57613727697264\n",
      "dist:0.0 perf:3 sz:17 mtbf:17000 price:16.05263157894737 rndTimeMonths:1.44 totalScore:478.11456543486725\n",
      "dist:0.0 perf:3 sz:17 mtbf:17000 price:16.57894736842105 rndTimeMonths:1.44 totalScore:466.6529935927622\n",
      "dist:0.0 perf:3 sz:17 mtbf:17000 price:17.105263157894736 rndTimeMonths:1.44 totalScore:455.1914217506568\n",
      "[(3, 17, 0.96), (3, 17, 0.96), (3, 17, 0.96), (3, 17, 0.48), (3, 17, 0.48), (3, 17, 0.48), (3, 17, 0.48), (3, 17, 0.0), (3, 17, 0.0), (3, 17, 0.0), (3, 17, 0.0), (3, 17, 0.48), (3, 17, 0.48), (3, 17, 0.48), (3, 17, 0.48), (3, 17, 0.96), (3, 17, 0.96), (3, 17, 0.96), (3, 17, 0.96), (3, 17, 0.96), (3, 17, 1.44), (3, 17, 1.44), (3, 17, 1.44), (3, 17, 1.44), (3, 17, 1.44)]\n"
     ]
    },
    {
     "data": {
      "application/vnd.plotly.v1+json": {
       "config": {
        "plotlyServerURL": "https://plot.ly"
       },
       "data": [
        {
         "mode": "markers",
         "type": "scatter",
         "x": [
          3,
          3,
          3,
          3,
          3,
          3,
          3,
          3,
          3,
          3,
          3,
          3,
          3,
          3,
          3,
          3,
          3,
          3,
          3,
          3,
          3,
          3,
          3,
          3,
          3
         ],
         "y": [
          17,
          17,
          17,
          17,
          17,
          17,
          17,
          17,
          17,
          17,
          17,
          17,
          17,
          17,
          17,
          17,
          17,
          17,
          17,
          17,
          17,
          17,
          17,
          17,
          17
         ]
        },
        {
         "mode": "text",
         "text": "traditional",
         "type": "scatter",
         "x": [
          5
         ],
         "y": [
          15
         ]
        },
        {
         "mode": "text",
         "text": "X",
         "type": "scatter",
         "x": [
          3
         ],
         "y": [
          17
         ]
        },
        {
         "mode": "lines",
         "type": "scatter",
         "x": [
          5,
          5.058333333333334,
          5.116666666666667,
          5.175000000000001,
          5.233333333333334,
          5.291666666666668,
          5.350000000000001,
          5.408333333333335,
          5.466666666666669,
          5.525000000000002,
          5.583333333333336,
          5.641666666666669,
          5.700000000000003,
          5.758333333333336,
          5.81666666666667,
          5.8750000000000036,
          5.933333333333337,
          5.991666666666671,
          6.050000000000004,
          6.108333333333338,
          6.166666666666671,
          6.225000000000005,
          6.2833333333333385,
          6.341666666666672
         ],
         "y": [
          15,
          14.941666666666666,
          14.883333333333333,
          14.825,
          14.766666666666666,
          14.708333333333332,
          14.649999999999999,
          14.591666666666665,
          14.533333333333331,
          14.474999999999998,
          14.416666666666664,
          14.35833333333333,
          14.299999999999997,
          14.241666666666664,
          14.18333333333333,
          14.124999999999996,
          14.066666666666663,
          14.00833333333333,
          13.949999999999996,
          13.891666666666662,
          13.833333333333329,
          13.774999999999995,
          13.716666666666661,
          13.658333333333328
         ]
        },
        {
         "mode": "text",
         "text": "low",
         "type": "scatter",
         "x": [
          2.5
         ],
         "y": [
          17.5
         ]
        },
        {
         "mode": "text",
         "text": "X",
         "type": "scatter",
         "x": [
          3
         ],
         "y": [
          17
         ]
        },
        {
         "mode": "lines",
         "type": "scatter",
         "x": [
          1.7,
          1.7416666666666667,
          1.7833333333333334,
          1.8250000000000002,
          1.866666666666667,
          1.9083333333333337,
          1.9500000000000004,
          1.9916666666666671,
          2.033333333333334,
          2.0750000000000006,
          2.116666666666667,
          2.158333333333334,
          2.200000000000001,
          2.2416666666666676,
          2.283333333333334,
          2.325000000000001,
          2.366666666666668,
          2.4083333333333345,
          2.450000000000001,
          2.491666666666668,
          2.533333333333335,
          2.5750000000000015,
          2.616666666666668,
          2.658333333333335
         ],
         "y": [
          18.3,
          18.258333333333333,
          18.216666666666665,
          18.174999999999997,
          18.13333333333333,
          18.09166666666666,
          18.049999999999994,
          18.008333333333326,
          17.966666666666658,
          17.92499999999999,
          17.883333333333322,
          17.841666666666654,
          17.799999999999986,
          17.75833333333332,
          17.71666666666665,
          17.674999999999983,
          17.633333333333315,
          17.591666666666647,
          17.54999999999998,
          17.50833333333331,
          17.466666666666644,
          17.424999999999976,
          17.383333333333308,
          17.34166666666664
         ]
        },
        {
         "mode": "text",
         "text": "high",
         "type": "scatter",
         "x": [
          7.5
         ],
         "y": [
          12.5
         ]
        },
        {
         "mode": "text",
         "text": "X",
         "type": "scatter",
         "x": [
          3
         ],
         "y": [
          17
         ]
        },
        {
         "mode": "lines",
         "type": "scatter",
         "x": [
          8.9,
          8.975,
          9.049999999999999,
          9.124999999999998,
          9.199999999999998,
          9.274999999999997,
          9.349999999999996,
          9.424999999999995,
          9.499999999999995,
          9.574999999999994,
          9.649999999999993,
          9.724999999999993,
          9.799999999999992,
          9.874999999999991,
          9.94999999999999,
          10.02499999999999,
          10.099999999999989,
          10.174999999999988,
          10.249999999999988,
          10.324999999999987,
          10.399999999999986,
          10.474999999999985,
          10.549999999999985,
          10.624999999999984
         ],
         "y": [
          11.1,
          11.025,
          10.950000000000001,
          10.875000000000002,
          10.800000000000002,
          10.725000000000003,
          10.650000000000004,
          10.575000000000005,
          10.500000000000005,
          10.425000000000006,
          10.350000000000007,
          10.275000000000007,
          10.200000000000008,
          10.125000000000009,
          10.05000000000001,
          9.97500000000001,
          9.900000000000011,
          9.825000000000012,
          9.750000000000012,
          9.675000000000013,
          9.600000000000014,
          9.525000000000015,
          9.450000000000015,
          9.375000000000016
         ]
        },
        {
         "mode": "text",
         "text": "performance",
         "type": "scatter",
         "x": [
          8
         ],
         "y": [
          17
         ]
        },
        {
         "mode": "text",
         "text": "X",
         "type": "scatter",
         "x": [
          3
         ],
         "y": [
          17
         ]
        },
        {
         "mode": "lines",
         "type": "scatter",
         "x": [
          9.4,
          9.483333333333334,
          9.566666666666668,
          9.650000000000002,
          9.733333333333336,
          9.81666666666667,
          9.900000000000004,
          9.983333333333338,
          10.066666666666672,
          10.150000000000006,
          10.23333333333334,
          10.316666666666674,
          10.400000000000007,
          10.483333333333341,
          10.566666666666675,
          10.65000000000001,
          10.733333333333343,
          10.816666666666677,
          10.900000000000011,
          10.983333333333345,
          11.066666666666679,
          11.150000000000013,
          11.233333333333347,
          11.31666666666668
         ],
         "y": [
          16,
          15.941666666666666,
          15.883333333333333,
          15.825,
          15.766666666666666,
          15.708333333333332,
          15.649999999999999,
          15.591666666666665,
          15.533333333333331,
          15.474999999999998,
          15.416666666666664,
          15.35833333333333,
          15.299999999999997,
          15.241666666666664,
          15.18333333333333,
          15.124999999999996,
          15.066666666666663,
          15.00833333333333,
          14.949999999999996,
          14.891666666666662,
          14.833333333333329,
          14.774999999999995,
          14.716666666666661,
          14.658333333333328
         ]
        },
        {
         "mode": "text",
         "text": "size",
         "type": "scatter",
         "x": [
          3
         ],
         "y": [
          12
         ]
        },
        {
         "mode": "text",
         "text": "X",
         "type": "scatter",
         "x": [
          3
         ],
         "y": [
          17
         ]
        },
        {
         "mode": "lines",
         "type": "scatter",
         "x": [
          4,
          4.058333333333334,
          4.116666666666667,
          4.175000000000001,
          4.233333333333334,
          4.291666666666668,
          4.350000000000001,
          4.408333333333335,
          4.466666666666669,
          4.525000000000002,
          4.583333333333336,
          4.641666666666669,
          4.700000000000003,
          4.758333333333336,
          4.81666666666667,
          4.8750000000000036,
          4.933333333333337,
          4.991666666666671,
          5.050000000000004,
          5.108333333333338,
          5.166666666666671,
          5.225000000000005,
          5.2833333333333385,
          5.341666666666672
         ],
         "y": [
          10.6,
          10.516666666666666,
          10.433333333333332,
          10.349999999999998,
          10.266666666666664,
          10.18333333333333,
          10.099999999999996,
          10.016666666666662,
          9.933333333333328,
          9.849999999999994,
          9.76666666666666,
          9.683333333333326,
          9.599999999999993,
          9.516666666666659,
          9.433333333333325,
          9.34999999999999,
          9.266666666666657,
          9.183333333333323,
          9.099999999999989,
          9.016666666666655,
          8.933333333333321,
          8.849999999999987,
          8.766666666666653,
          8.68333333333332
         ]
        }
       ],
       "layout": {
        "height": 600,
        "shapes": [
         {
          "line": {
           "color": "LightSeaGreen"
          },
          "type": "circle",
          "x0": 2.5,
          "x1": 7.5,
          "xref": "x",
          "y0": 12.5,
          "y1": 17.5,
          "yref": "y"
         },
         {
          "line": {
           "color": "LightSeaGreen"
          },
          "type": "circle",
          "x0": 0,
          "x1": 5,
          "xref": "x",
          "y0": 15,
          "y1": 20,
          "yref": "y"
         },
         {
          "line": {
           "color": "LightSeaGreen"
          },
          "type": "circle",
          "x0": 5,
          "x1": 10,
          "xref": "x",
          "y0": 10,
          "y1": 15,
          "yref": "y"
         },
         {
          "line": {
           "color": "LightSeaGreen"
          },
          "type": "circle",
          "x0": 5.5,
          "x1": 10.5,
          "xref": "x",
          "y0": 14.5,
          "y1": 19.5,
          "yref": "y"
         },
         {
          "line": {
           "color": "LightSeaGreen"
          },
          "type": "circle",
          "x0": 0.5,
          "x1": 5.5,
          "xref": "x",
          "y0": 9.5,
          "y1": 14.5,
          "yref": "y"
         }
        ],
        "template": {
         "data": {
          "bar": [
           {
            "error_x": {
             "color": "#2a3f5f"
            },
            "error_y": {
             "color": "#2a3f5f"
            },
            "marker": {
             "line": {
              "color": "#E5ECF6",
              "width": 0.5
             }
            },
            "type": "bar"
           }
          ],
          "barpolar": [
           {
            "marker": {
             "line": {
              "color": "#E5ECF6",
              "width": 0.5
             }
            },
            "type": "barpolar"
           }
          ],
          "carpet": [
           {
            "aaxis": {
             "endlinecolor": "#2a3f5f",
             "gridcolor": "white",
             "linecolor": "white",
             "minorgridcolor": "white",
             "startlinecolor": "#2a3f5f"
            },
            "baxis": {
             "endlinecolor": "#2a3f5f",
             "gridcolor": "white",
             "linecolor": "white",
             "minorgridcolor": "white",
             "startlinecolor": "#2a3f5f"
            },
            "type": "carpet"
           }
          ],
          "choropleth": [
           {
            "colorbar": {
             "outlinewidth": 0,
             "ticks": ""
            },
            "type": "choropleth"
           }
          ],
          "contour": [
           {
            "colorbar": {
             "outlinewidth": 0,
             "ticks": ""
            },
            "colorscale": [
             [
              0,
              "#0d0887"
             ],
             [
              0.1111111111111111,
              "#46039f"
             ],
             [
              0.2222222222222222,
              "#7201a8"
             ],
             [
              0.3333333333333333,
              "#9c179e"
             ],
             [
              0.4444444444444444,
              "#bd3786"
             ],
             [
              0.5555555555555556,
              "#d8576b"
             ],
             [
              0.6666666666666666,
              "#ed7953"
             ],
             [
              0.7777777777777778,
              "#fb9f3a"
             ],
             [
              0.8888888888888888,
              "#fdca26"
             ],
             [
              1,
              "#f0f921"
             ]
            ],
            "type": "contour"
           }
          ],
          "contourcarpet": [
           {
            "colorbar": {
             "outlinewidth": 0,
             "ticks": ""
            },
            "type": "contourcarpet"
           }
          ],
          "heatmap": [
           {
            "colorbar": {
             "outlinewidth": 0,
             "ticks": ""
            },
            "colorscale": [
             [
              0,
              "#0d0887"
             ],
             [
              0.1111111111111111,
              "#46039f"
             ],
             [
              0.2222222222222222,
              "#7201a8"
             ],
             [
              0.3333333333333333,
              "#9c179e"
             ],
             [
              0.4444444444444444,
              "#bd3786"
             ],
             [
              0.5555555555555556,
              "#d8576b"
             ],
             [
              0.6666666666666666,
              "#ed7953"
             ],
             [
              0.7777777777777778,
              "#fb9f3a"
             ],
             [
              0.8888888888888888,
              "#fdca26"
             ],
             [
              1,
              "#f0f921"
             ]
            ],
            "type": "heatmap"
           }
          ],
          "heatmapgl": [
           {
            "colorbar": {
             "outlinewidth": 0,
             "ticks": ""
            },
            "colorscale": [
             [
              0,
              "#0d0887"
             ],
             [
              0.1111111111111111,
              "#46039f"
             ],
             [
              0.2222222222222222,
              "#7201a8"
             ],
             [
              0.3333333333333333,
              "#9c179e"
             ],
             [
              0.4444444444444444,
              "#bd3786"
             ],
             [
              0.5555555555555556,
              "#d8576b"
             ],
             [
              0.6666666666666666,
              "#ed7953"
             ],
             [
              0.7777777777777778,
              "#fb9f3a"
             ],
             [
              0.8888888888888888,
              "#fdca26"
             ],
             [
              1,
              "#f0f921"
             ]
            ],
            "type": "heatmapgl"
           }
          ],
          "histogram": [
           {
            "marker": {
             "colorbar": {
              "outlinewidth": 0,
              "ticks": ""
             }
            },
            "type": "histogram"
           }
          ],
          "histogram2d": [
           {
            "colorbar": {
             "outlinewidth": 0,
             "ticks": ""
            },
            "colorscale": [
             [
              0,
              "#0d0887"
             ],
             [
              0.1111111111111111,
              "#46039f"
             ],
             [
              0.2222222222222222,
              "#7201a8"
             ],
             [
              0.3333333333333333,
              "#9c179e"
             ],
             [
              0.4444444444444444,
              "#bd3786"
             ],
             [
              0.5555555555555556,
              "#d8576b"
             ],
             [
              0.6666666666666666,
              "#ed7953"
             ],
             [
              0.7777777777777778,
              "#fb9f3a"
             ],
             [
              0.8888888888888888,
              "#fdca26"
             ],
             [
              1,
              "#f0f921"
             ]
            ],
            "type": "histogram2d"
           }
          ],
          "histogram2dcontour": [
           {
            "colorbar": {
             "outlinewidth": 0,
             "ticks": ""
            },
            "colorscale": [
             [
              0,
              "#0d0887"
             ],
             [
              0.1111111111111111,
              "#46039f"
             ],
             [
              0.2222222222222222,
              "#7201a8"
             ],
             [
              0.3333333333333333,
              "#9c179e"
             ],
             [
              0.4444444444444444,
              "#bd3786"
             ],
             [
              0.5555555555555556,
              "#d8576b"
             ],
             [
              0.6666666666666666,
              "#ed7953"
             ],
             [
              0.7777777777777778,
              "#fb9f3a"
             ],
             [
              0.8888888888888888,
              "#fdca26"
             ],
             [
              1,
              "#f0f921"
             ]
            ],
            "type": "histogram2dcontour"
           }
          ],
          "mesh3d": [
           {
            "colorbar": {
             "outlinewidth": 0,
             "ticks": ""
            },
            "type": "mesh3d"
           }
          ],
          "parcoords": [
           {
            "line": {
             "colorbar": {
              "outlinewidth": 0,
              "ticks": ""
             }
            },
            "type": "parcoords"
           }
          ],
          "pie": [
           {
            "automargin": true,
            "type": "pie"
           }
          ],
          "scatter": [
           {
            "marker": {
             "colorbar": {
              "outlinewidth": 0,
              "ticks": ""
             }
            },
            "type": "scatter"
           }
          ],
          "scatter3d": [
           {
            "line": {
             "colorbar": {
              "outlinewidth": 0,
              "ticks": ""
             }
            },
            "marker": {
             "colorbar": {
              "outlinewidth": 0,
              "ticks": ""
             }
            },
            "type": "scatter3d"
           }
          ],
          "scattercarpet": [
           {
            "marker": {
             "colorbar": {
              "outlinewidth": 0,
              "ticks": ""
             }
            },
            "type": "scattercarpet"
           }
          ],
          "scattergeo": [
           {
            "marker": {
             "colorbar": {
              "outlinewidth": 0,
              "ticks": ""
             }
            },
            "type": "scattergeo"
           }
          ],
          "scattergl": [
           {
            "marker": {
             "colorbar": {
              "outlinewidth": 0,
              "ticks": ""
             }
            },
            "type": "scattergl"
           }
          ],
          "scattermapbox": [
           {
            "marker": {
             "colorbar": {
              "outlinewidth": 0,
              "ticks": ""
             }
            },
            "type": "scattermapbox"
           }
          ],
          "scatterpolar": [
           {
            "marker": {
             "colorbar": {
              "outlinewidth": 0,
              "ticks": ""
             }
            },
            "type": "scatterpolar"
           }
          ],
          "scatterpolargl": [
           {
            "marker": {
             "colorbar": {
              "outlinewidth": 0,
              "ticks": ""
             }
            },
            "type": "scatterpolargl"
           }
          ],
          "scatterternary": [
           {
            "marker": {
             "colorbar": {
              "outlinewidth": 0,
              "ticks": ""
             }
            },
            "type": "scatterternary"
           }
          ],
          "surface": [
           {
            "colorbar": {
             "outlinewidth": 0,
             "ticks": ""
            },
            "colorscale": [
             [
              0,
              "#0d0887"
             ],
             [
              0.1111111111111111,
              "#46039f"
             ],
             [
              0.2222222222222222,
              "#7201a8"
             ],
             [
              0.3333333333333333,
              "#9c179e"
             ],
             [
              0.4444444444444444,
              "#bd3786"
             ],
             [
              0.5555555555555556,
              "#d8576b"
             ],
             [
              0.6666666666666666,
              "#ed7953"
             ],
             [
              0.7777777777777778,
              "#fb9f3a"
             ],
             [
              0.8888888888888888,
              "#fdca26"
             ],
             [
              1,
              "#f0f921"
             ]
            ],
            "type": "surface"
           }
          ],
          "table": [
           {
            "cells": {
             "fill": {
              "color": "#EBF0F8"
             },
             "line": {
              "color": "white"
             }
            },
            "header": {
             "fill": {
              "color": "#C8D4E3"
             },
             "line": {
              "color": "white"
             }
            },
            "type": "table"
           }
          ]
         },
         "layout": {
          "annotationdefaults": {
           "arrowcolor": "#2a3f5f",
           "arrowhead": 0,
           "arrowwidth": 1
          },
          "autotypenumbers": "strict",
          "coloraxis": {
           "colorbar": {
            "outlinewidth": 0,
            "ticks": ""
           }
          },
          "colorscale": {
           "diverging": [
            [
             0,
             "#8e0152"
            ],
            [
             0.1,
             "#c51b7d"
            ],
            [
             0.2,
             "#de77ae"
            ],
            [
             0.3,
             "#f1b6da"
            ],
            [
             0.4,
             "#fde0ef"
            ],
            [
             0.5,
             "#f7f7f7"
            ],
            [
             0.6,
             "#e6f5d0"
            ],
            [
             0.7,
             "#b8e186"
            ],
            [
             0.8,
             "#7fbc41"
            ],
            [
             0.9,
             "#4d9221"
            ],
            [
             1,
             "#276419"
            ]
           ],
           "sequential": [
            [
             0,
             "#0d0887"
            ],
            [
             0.1111111111111111,
             "#46039f"
            ],
            [
             0.2222222222222222,
             "#7201a8"
            ],
            [
             0.3333333333333333,
             "#9c179e"
            ],
            [
             0.4444444444444444,
             "#bd3786"
            ],
            [
             0.5555555555555556,
             "#d8576b"
            ],
            [
             0.6666666666666666,
             "#ed7953"
            ],
            [
             0.7777777777777778,
             "#fb9f3a"
            ],
            [
             0.8888888888888888,
             "#fdca26"
            ],
            [
             1,
             "#f0f921"
            ]
           ],
           "sequentialminus": [
            [
             0,
             "#0d0887"
            ],
            [
             0.1111111111111111,
             "#46039f"
            ],
            [
             0.2222222222222222,
             "#7201a8"
            ],
            [
             0.3333333333333333,
             "#9c179e"
            ],
            [
             0.4444444444444444,
             "#bd3786"
            ],
            [
             0.5555555555555556,
             "#d8576b"
            ],
            [
             0.6666666666666666,
             "#ed7953"
            ],
            [
             0.7777777777777778,
             "#fb9f3a"
            ],
            [
             0.8888888888888888,
             "#fdca26"
            ],
            [
             1,
             "#f0f921"
            ]
           ]
          },
          "colorway": [
           "#636efa",
           "#EF553B",
           "#00cc96",
           "#ab63fa",
           "#FFA15A",
           "#19d3f3",
           "#FF6692",
           "#B6E880",
           "#FF97FF",
           "#FECB52"
          ],
          "font": {
           "color": "#2a3f5f"
          },
          "geo": {
           "bgcolor": "white",
           "lakecolor": "white",
           "landcolor": "#E5ECF6",
           "showlakes": true,
           "showland": true,
           "subunitcolor": "white"
          },
          "hoverlabel": {
           "align": "left"
          },
          "hovermode": "closest",
          "mapbox": {
           "style": "light"
          },
          "paper_bgcolor": "white",
          "plot_bgcolor": "#E5ECF6",
          "polar": {
           "angularaxis": {
            "gridcolor": "white",
            "linecolor": "white",
            "ticks": ""
           },
           "bgcolor": "#E5ECF6",
           "radialaxis": {
            "gridcolor": "white",
            "linecolor": "white",
            "ticks": ""
           }
          },
          "scene": {
           "xaxis": {
            "backgroundcolor": "#E5ECF6",
            "gridcolor": "white",
            "gridwidth": 2,
            "linecolor": "white",
            "showbackground": true,
            "ticks": "",
            "zerolinecolor": "white"
           },
           "yaxis": {
            "backgroundcolor": "#E5ECF6",
            "gridcolor": "white",
            "gridwidth": 2,
            "linecolor": "white",
            "showbackground": true,
            "ticks": "",
            "zerolinecolor": "white"
           },
           "zaxis": {
            "backgroundcolor": "#E5ECF6",
            "gridcolor": "white",
            "gridwidth": 2,
            "linecolor": "white",
            "showbackground": true,
            "ticks": "",
            "zerolinecolor": "white"
           }
          },
          "shapedefaults": {
           "line": {
            "color": "#2a3f5f"
           }
          },
          "ternary": {
           "aaxis": {
            "gridcolor": "white",
            "linecolor": "white",
            "ticks": ""
           },
           "baxis": {
            "gridcolor": "white",
            "linecolor": "white",
            "ticks": ""
           },
           "bgcolor": "#E5ECF6",
           "caxis": {
            "gridcolor": "white",
            "linecolor": "white",
            "ticks": ""
           }
          },
          "title": {
           "x": 0.05
          },
          "xaxis": {
           "automargin": true,
           "gridcolor": "white",
           "linecolor": "white",
           "ticks": "",
           "title": {
            "standoff": 15
           },
           "zerolinecolor": "white",
           "zerolinewidth": 2
          },
          "yaxis": {
           "automargin": true,
           "gridcolor": "white",
           "linecolor": "white",
           "ticks": "",
           "title": {
            "standoff": 15
           },
           "zerolinecolor": "white",
           "zerolinewidth": 2
          }
         }
        },
        "width": 600,
        "xaxis": {
         "range": [
          -5,
          20
         ],
         "type": "linear"
        },
        "yaxis": {
         "range": [
          0,
          25
         ],
         "type": "linear"
        }
       }
      },
      "image/png": "[encoded data removed]",
      "text/html": [
       "<div>                            <div id=\"16b4f28a-0a2b-46af-99d3-b2cff88b6767\" class=\"plotly-graph-div\" style=\"height:600px; width:600px;\"></div>            <script type=\"text/javascript\">                require([\"plotly\"], function(Plotly) {                    window.PLOTLYENV=window.PLOTLYENV || {};                                    if (document.getElementById(\"16b4f28a-0a2b-46af-99d3-b2cff88b6767\")) {                    Plotly.newPlot(                        \"16b4f28a-0a2b-46af-99d3-b2cff88b6767\",                        [{\"mode\": \"markers\", \"type\": \"scatter\", \"x\": [3, 3, 3, 3, 3, 3, 3, 3, 3, 3, 3, 3, 3, 3, 3, 3, 3, 3, 3, 3, 3, 3, 3, 3, 3], \"y\": [17, 17, 17, 17, 17, 17, 17, 17, 17, 17, 17, 17, 17, 17, 17, 17, 17, 17, 17, 17, 17, 17, 17, 17, 17]}, {\"mode\": \"text\", \"text\": \"traditional\", \"type\": \"scatter\", \"x\": [5], \"y\": [15]}, {\"mode\": \"text\", \"text\": \"X\", \"type\": \"scatter\", \"x\": [3], \"y\": [17]}, {\"mode\": \"lines\", \"type\": \"scatter\", \"x\": [5, 5.058333333333334, 5.116666666666667, 5.175000000000001, 5.233333333333334, 5.291666666666668, 5.350000000000001, 5.408333333333335, 5.466666666666669, 5.525000000000002, 5.583333333333336, 5.641666666666669, 5.700000000000003, 5.758333333333336, 5.81666666666667, 5.8750000000000036, 5.933333333333337, 5.991666666666671, 6.050000000000004, 6.108333333333338, 6.166666666666671, 6.225000000000005, 6.2833333333333385, 6.341666666666672], \"y\": [15, 14.941666666666666, 14.883333333333333, 14.825, 14.766666666666666, 14.708333333333332, 14.649999999999999, 14.591666666666665, 14.533333333333331, 14.474999999999998, 14.416666666666664, 14.35833333333333, 14.299999999999997, 14.241666666666664, 14.18333333333333, 14.124999999999996, 14.066666666666663, 14.00833333333333, 13.949999999999996, 13.891666666666662, 13.833333333333329, 13.774999999999995, 13.716666666666661, 13.658333333333328]}, {\"mode\": \"text\", \"text\": \"low\", \"type\": \"scatter\", \"x\": [2.5], \"y\": [17.5]}, {\"mode\": \"text\", \"text\": \"X\", \"type\": \"scatter\", \"x\": [3], \"y\": [17]}, {\"mode\": \"lines\", \"type\": \"scatter\", \"x\": [1.7, 1.7416666666666667, 1.7833333333333334, 1.8250000000000002, 1.866666666666667, 1.9083333333333337, 1.9500000000000004, 1.9916666666666671, 2.033333333333334, 2.0750000000000006, 2.116666666666667, 2.158333333333334, 2.200000000000001, 2.2416666666666676, 2.283333333333334, 2.325000000000001, 2.366666666666668, 2.4083333333333345, 2.450000000000001, 2.491666666666668, 2.533333333333335, 2.5750000000000015, 2.616666666666668, 2.658333333333335], \"y\": [18.3, 18.258333333333333, 18.216666666666665, 18.174999999999997, 18.13333333333333, 18.09166666666666, 18.049999999999994, 18.008333333333326, 17.966666666666658, 17.92499999999999, 17.883333333333322, 17.841666666666654, 17.799999999999986, 17.75833333333332, 17.71666666666665, 17.674999999999983, 17.633333333333315, 17.591666666666647, 17.54999999999998, 17.50833333333331, 17.466666666666644, 17.424999999999976, 17.383333333333308, 17.34166666666664]}, {\"mode\": \"text\", \"text\": \"high\", \"type\": \"scatter\", \"x\": [7.5], \"y\": [12.5]}, {\"mode\": \"text\", \"text\": \"X\", \"type\": \"scatter\", \"x\": [3], \"y\": [17]}, {\"mode\": \"lines\", \"type\": \"scatter\", \"x\": [8.9, 8.975, 9.049999999999999, 9.124999999999998, 9.199999999999998, 9.274999999999997, 9.349999999999996, 9.424999999999995, 9.499999999999995, 9.574999999999994, 9.649999999999993, 9.724999999999993, 9.799999999999992, 9.874999999999991, 9.94999999999999, 10.02499999999999, 10.099999999999989, 10.174999999999988, 10.249999999999988, 10.324999999999987, 10.399999999999986, 10.474999999999985, 10.549999999999985, 10.624999999999984], \"y\": [11.1, 11.025, 10.950000000000001, 10.875000000000002, 10.800000000000002, 10.725000000000003, 10.650000000000004, 10.575000000000005, 10.500000000000005, 10.425000000000006, 10.350000000000007, 10.275000000000007, 10.200000000000008, 10.125000000000009, 10.05000000000001, 9.97500000000001, 9.900000000000011, 9.825000000000012, 9.750000000000012, 9.675000000000013, 9.600000000000014, 9.525000000000015, 9.450000000000015, 9.375000000000016]}, {\"mode\": \"text\", \"text\": \"performance\", \"type\": \"scatter\", \"x\": [8.0], \"y\": [17.0]}, {\"mode\": \"text\", \"text\": \"X\", \"type\": \"scatter\", \"x\": [3], \"y\": [17]}, {\"mode\": \"lines\", \"type\": \"scatter\", \"x\": [9.4, 9.483333333333334, 9.566666666666668, 9.650000000000002, 9.733333333333336, 9.81666666666667, 9.900000000000004, 9.983333333333338, 10.066666666666672, 10.150000000000006, 10.23333333333334, 10.316666666666674, 10.400000000000007, 10.483333333333341, 10.566666666666675, 10.65000000000001, 10.733333333333343, 10.816666666666677, 10.900000000000011, 10.983333333333345, 11.066666666666679, 11.150000000000013, 11.233333333333347, 11.31666666666668], \"y\": [16.0, 15.941666666666666, 15.883333333333333, 15.825, 15.766666666666666, 15.708333333333332, 15.649999999999999, 15.591666666666665, 15.533333333333331, 15.474999999999998, 15.416666666666664, 15.35833333333333, 15.299999999999997, 15.241666666666664, 15.18333333333333, 15.124999999999996, 15.066666666666663, 15.00833333333333, 14.949999999999996, 14.891666666666662, 14.833333333333329, 14.774999999999995, 14.716666666666661, 14.658333333333328]}, {\"mode\": \"text\", \"text\": \"size\", \"type\": \"scatter\", \"x\": [3.0], \"y\": [12.0]}, {\"mode\": \"text\", \"text\": \"X\", \"type\": \"scatter\", \"x\": [3], \"y\": [17]}, {\"mode\": \"lines\", \"type\": \"scatter\", \"x\": [4.0, 4.058333333333334, 4.116666666666667, 4.175000000000001, 4.233333333333334, 4.291666666666668, 4.350000000000001, 4.408333333333335, 4.466666666666669, 4.525000000000002, 4.583333333333336, 4.641666666666669, 4.700000000000003, 4.758333333333336, 4.81666666666667, 4.8750000000000036, 4.933333333333337, 4.991666666666671, 5.050000000000004, 5.108333333333338, 5.166666666666671, 5.225000000000005, 5.2833333333333385, 5.341666666666672], \"y\": [10.6, 10.516666666666666, 10.433333333333332, 10.349999999999998, 10.266666666666664, 10.18333333333333, 10.099999999999996, 10.016666666666662, 9.933333333333328, 9.849999999999994, 9.76666666666666, 9.683333333333326, 9.599999999999993, 9.516666666666659, 9.433333333333325, 9.34999999999999, 9.266666666666657, 9.183333333333323, 9.099999999999989, 9.016666666666655, 8.933333333333321, 8.849999999999987, 8.766666666666653, 8.68333333333332]}],                        {\"height\": 600, \"shapes\": [{\"line\": {\"color\": \"LightSeaGreen\"}, \"type\": \"circle\", \"x0\": 2.5, \"x1\": 7.5, \"xref\": \"x\", \"y0\": 12.5, \"y1\": 17.5, \"yref\": \"y\"}, {\"line\": {\"color\": \"LightSeaGreen\"}, \"type\": \"circle\", \"x0\": 0.0, \"x1\": 5.0, \"xref\": \"x\", \"y0\": 15.0, \"y1\": 20.0, \"yref\": \"y\"}, {\"line\": {\"color\": \"LightSeaGreen\"}, \"type\": \"circle\", \"x0\": 5.0, \"x1\": 10.0, \"xref\": \"x\", \"y0\": 10.0, \"y1\": 15.0, \"yref\": \"y\"}, {\"line\": {\"color\": \"LightSeaGreen\"}, \"type\": \"circle\", \"x0\": 5.5, \"x1\": 10.5, \"xref\": \"x\", \"y0\": 14.5, \"y1\": 19.5, \"yref\": \"y\"}, {\"line\": {\"color\": \"LightSeaGreen\"}, \"type\": \"circle\", \"x0\": 0.5, \"x1\": 5.5, \"xref\": \"x\", \"y0\": 9.5, \"y1\": 14.5, \"yref\": \"y\"}], \"template\": {\"data\": {\"bar\": [{\"error_x\": {\"color\": \"#2a3f5f\"}, \"error_y\": {\"color\": \"#2a3f5f\"}, \"marker\": {\"line\": {\"color\": \"#E5ECF6\", \"width\": 0.5}}, \"type\": \"bar\"}], \"barpolar\": [{\"marker\": {\"line\": {\"color\": \"#E5ECF6\", \"width\": 0.5}}, \"type\": \"barpolar\"}], \"carpet\": [{\"aaxis\": {\"endlinecolor\": \"#2a3f5f\", \"gridcolor\": \"white\", \"linecolor\": \"white\", \"minorgridcolor\": \"white\", \"startlinecolor\": \"#2a3f5f\"}, \"baxis\": {\"endlinecolor\": \"#2a3f5f\", \"gridcolor\": \"white\", \"linecolor\": \"white\", \"minorgridcolor\": \"white\", \"startlinecolor\": \"#2a3f5f\"}, \"type\": \"carpet\"}], \"choropleth\": [{\"colorbar\": {\"outlinewidth\": 0, \"ticks\": \"\"}, \"type\": \"choropleth\"}], \"contour\": [{\"colorbar\": {\"outlinewidth\": 0, \"ticks\": \"\"}, \"colorscale\": [[0.0, \"#0d0887\"], [0.1111111111111111, \"#46039f\"], [0.2222222222222222, \"#7201a8\"], [0.3333333333333333, \"#9c179e\"], [0.4444444444444444, \"#bd3786\"], [0.5555555555555556, \"#d8576b\"], [0.6666666666666666, \"#ed7953\"], [0.7777777777777778, \"#fb9f3a\"], [0.8888888888888888, \"#fdca26\"], [1.0, \"#f0f921\"]], \"type\": \"contour\"}], \"contourcarpet\": [{\"colorbar\": {\"outlinewidth\": 0, \"ticks\": \"\"}, \"type\": \"contourcarpet\"}], \"heatmap\": [{\"colorbar\": {\"outlinewidth\": 0, \"ticks\": \"\"}, \"colorscale\": [[0.0, \"#0d0887\"], [0.1111111111111111, \"#46039f\"], [0.2222222222222222, \"#7201a8\"], [0.3333333333333333, \"#9c179e\"], [0.4444444444444444, \"#bd3786\"], [0.5555555555555556, \"#d8576b\"], [0.6666666666666666, \"#ed7953\"], [0.7777777777777778, \"#fb9f3a\"], [0.8888888888888888, \"#fdca26\"], [1.0, \"#f0f921\"]], \"type\": \"heatmap\"}], \"heatmapgl\": [{\"colorbar\": {\"outlinewidth\": 0, \"ticks\": \"\"}, \"colorscale\": [[0.0, \"#0d0887\"], [0.1111111111111111, \"#46039f\"], [0.2222222222222222, \"#7201a8\"], [0.3333333333333333, \"#9c179e\"], [0.4444444444444444, \"#bd3786\"], [0.5555555555555556, \"#d8576b\"], [0.6666666666666666, \"#ed7953\"], [0.7777777777777778, \"#fb9f3a\"], [0.8888888888888888, \"#fdca26\"], [1.0, \"#f0f921\"]], \"type\": \"heatmapgl\"}], \"histogram\": [{\"marker\": {\"colorbar\": {\"outlinewidth\": 0, \"ticks\": \"\"}}, \"type\": \"histogram\"}], \"histogram2d\": [{\"colorbar\": {\"outlinewidth\": 0, \"ticks\": \"\"}, \"colorscale\": [[0.0, \"#0d0887\"], [0.1111111111111111, \"#46039f\"], [0.2222222222222222, \"#7201a8\"], [0.3333333333333333, \"#9c179e\"], [0.4444444444444444, \"#bd3786\"], [0.5555555555555556, \"#d8576b\"], [0.6666666666666666, \"#ed7953\"], [0.7777777777777778, \"#fb9f3a\"], [0.8888888888888888, \"#fdca26\"], [1.0, \"#f0f921\"]], \"type\": \"histogram2d\"}], \"histogram2dcontour\": [{\"colorbar\": {\"outlinewidth\": 0, \"ticks\": \"\"}, \"colorscale\": [[0.0, \"#0d0887\"], [0.1111111111111111, \"#46039f\"], [0.2222222222222222, \"#7201a8\"], [0.3333333333333333, \"#9c179e\"], [0.4444444444444444, \"#bd3786\"], [0.5555555555555556, \"#d8576b\"], [0.6666666666666666, \"#ed7953\"], [0.7777777777777778, \"#fb9f3a\"], [0.8888888888888888, \"#fdca26\"], [1.0, \"#f0f921\"]], \"type\": \"histogram2dcontour\"}], \"mesh3d\": [{\"colorbar\": {\"outlinewidth\": 0, \"ticks\": \"\"}, \"type\": \"mesh3d\"}], \"parcoords\": [{\"line\": {\"colorbar\": {\"outlinewidth\": 0, \"ticks\": \"\"}}, \"type\": \"parcoords\"}], \"pie\": [{\"automargin\": true, \"type\": \"pie\"}], \"scatter\": [{\"marker\": {\"colorbar\": {\"outlinewidth\": 0, \"ticks\": \"\"}}, \"type\": \"scatter\"}], \"scatter3d\": [{\"line\": {\"colorbar\": {\"outlinewidth\": 0, \"ticks\": \"\"}}, \"marker\": {\"colorbar\": {\"outlinewidth\": 0, \"ticks\": \"\"}}, \"type\": \"scatter3d\"}], \"scattercarpet\": [{\"marker\": {\"colorbar\": {\"outlinewidth\": 0, \"ticks\": \"\"}}, \"type\": \"scattercarpet\"}], \"scattergeo\": [{\"marker\": {\"colorbar\": {\"outlinewidth\": 0, \"ticks\": \"\"}}, \"type\": \"scattergeo\"}], \"scattergl\": [{\"marker\": {\"colorbar\": {\"outlinewidth\": 0, \"ticks\": \"\"}}, \"type\": \"scattergl\"}], \"scattermapbox\": [{\"marker\": {\"colorbar\": {\"outlinewidth\": 0, \"ticks\": \"\"}}, \"type\": \"scattermapbox\"}], \"scatterpolar\": [{\"marker\": {\"colorbar\": {\"outlinewidth\": 0, \"ticks\": \"\"}}, \"type\": \"scatterpolar\"}], \"scatterpolargl\": [{\"marker\": {\"colorbar\": {\"outlinewidth\": 0, \"ticks\": \"\"}}, \"type\": \"scatterpolargl\"}], \"scatterternary\": [{\"marker\": {\"colorbar\": {\"outlinewidth\": 0, \"ticks\": \"\"}}, \"type\": \"scatterternary\"}], \"surface\": [{\"colorbar\": {\"outlinewidth\": 0, \"ticks\": \"\"}, \"colorscale\": [[0.0, \"#0d0887\"], [0.1111111111111111, \"#46039f\"], [0.2222222222222222, \"#7201a8\"], [0.3333333333333333, \"#9c179e\"], [0.4444444444444444, \"#bd3786\"], [0.5555555555555556, \"#d8576b\"], [0.6666666666666666, \"#ed7953\"], [0.7777777777777778, \"#fb9f3a\"], [0.8888888888888888, \"#fdca26\"], [1.0, \"#f0f921\"]], \"type\": \"surface\"}], \"table\": [{\"cells\": {\"fill\": {\"color\": \"#EBF0F8\"}, \"line\": {\"color\": \"white\"}}, \"header\": {\"fill\": {\"color\": \"#C8D4E3\"}, \"line\": {\"color\": \"white\"}}, \"type\": \"table\"}]}, \"layout\": {\"annotationdefaults\": {\"arrowcolor\": \"#2a3f5f\", \"arrowhead\": 0, \"arrowwidth\": 1}, \"autotypenumbers\": \"strict\", \"coloraxis\": {\"colorbar\": {\"outlinewidth\": 0, \"ticks\": \"\"}}, \"colorscale\": {\"diverging\": [[0, \"#8e0152\"], [0.1, \"#c51b7d\"], [0.2, \"#de77ae\"], [0.3, \"#f1b6da\"], [0.4, \"#fde0ef\"], [0.5, \"#f7f7f7\"], [0.6, \"#e6f5d0\"], [0.7, \"#b8e186\"], [0.8, \"#7fbc41\"], [0.9, \"#4d9221\"], [1, \"#276419\"]], \"sequential\": [[0.0, \"#0d0887\"], [0.1111111111111111, \"#46039f\"], [0.2222222222222222, \"#7201a8\"], [0.3333333333333333, \"#9c179e\"], [0.4444444444444444, \"#bd3786\"], [0.5555555555555556, \"#d8576b\"], [0.6666666666666666, \"#ed7953\"], [0.7777777777777778, \"#fb9f3a\"], [0.8888888888888888, \"#fdca26\"], [1.0, \"#f0f921\"]], \"sequentialminus\": [[0.0, \"#0d0887\"], [0.1111111111111111, \"#46039f\"], [0.2222222222222222, \"#7201a8\"], [0.3333333333333333, \"#9c179e\"], [0.4444444444444444, \"#bd3786\"], [0.5555555555555556, \"#d8576b\"], [0.6666666666666666, \"#ed7953\"], [0.7777777777777778, \"#fb9f3a\"], [0.8888888888888888, \"#fdca26\"], [1.0, \"#f0f921\"]]}, \"colorway\": [\"#636efa\", \"#EF553B\", \"#00cc96\", \"#ab63fa\", \"#FFA15A\", \"#19d3f3\", \"#FF6692\", \"#B6E880\", \"#FF97FF\", \"#FECB52\"], \"font\": {\"color\": \"#2a3f5f\"}, \"geo\": {\"bgcolor\": \"white\", \"lakecolor\": \"white\", \"landcolor\": \"#E5ECF6\", \"showlakes\": true, \"showland\": true, \"subunitcolor\": \"white\"}, \"hoverlabel\": {\"align\": \"left\"}, \"hovermode\": \"closest\", \"mapbox\": {\"style\": \"light\"}, \"paper_bgcolor\": \"white\", \"plot_bgcolor\": \"#E5ECF6\", \"polar\": {\"angularaxis\": {\"gridcolor\": \"white\", \"linecolor\": \"white\", \"ticks\": \"\"}, \"bgcolor\": \"#E5ECF6\", \"radialaxis\": {\"gridcolor\": \"white\", \"linecolor\": \"white\", \"ticks\": \"\"}}, \"scene\": {\"xaxis\": {\"backgroundcolor\": \"#E5ECF6\", \"gridcolor\": \"white\", \"gridwidth\": 2, \"linecolor\": \"white\", \"showbackground\": true, \"ticks\": \"\", \"zerolinecolor\": \"white\"}, \"yaxis\": {\"backgroundcolor\": \"#E5ECF6\", \"gridcolor\": \"white\", \"gridwidth\": 2, \"linecolor\": \"white\", \"showbackground\": true, \"ticks\": \"\", \"zerolinecolor\": \"white\"}, \"zaxis\": {\"backgroundcolor\": \"#E5ECF6\", \"gridcolor\": \"white\", \"gridwidth\": 2, \"linecolor\": \"white\", \"showbackground\": true, \"ticks\": \"\", \"zerolinecolor\": \"white\"}}, \"shapedefaults\": {\"line\": {\"color\": \"#2a3f5f\"}}, \"ternary\": {\"aaxis\": {\"gridcolor\": \"white\", \"linecolor\": \"white\", \"ticks\": \"\"}, \"baxis\": {\"gridcolor\": \"white\", \"linecolor\": \"white\", \"ticks\": \"\"}, \"bgcolor\": \"#E5ECF6\", \"caxis\": {\"gridcolor\": \"white\", \"linecolor\": \"white\", \"ticks\": \"\"}}, \"title\": {\"x\": 0.05}, \"xaxis\": {\"automargin\": true, \"gridcolor\": \"white\", \"linecolor\": \"white\", \"ticks\": \"\", \"title\": {\"standoff\": 15}, \"zerolinecolor\": \"white\", \"zerolinewidth\": 2}, \"yaxis\": {\"automargin\": true, \"gridcolor\": \"white\", \"linecolor\": \"white\", \"ticks\": \"\", \"title\": {\"standoff\": 15}, \"zerolinecolor\": \"white\", \"zerolinewidth\": 2}}}, \"width\": 600, \"xaxis\": {\"range\": [-5, 20]}, \"yaxis\": {\"range\": [0, 25]}},                        {\"responsive\": true}                    ).then(function(){\n",
       "                            \n",
       "var gd = document.getElementById('16b4f28a-0a2b-46af-99d3-b2cff88b6767');\n",
       "var x = new MutationObserver(function (mutations, observer) {{\n",
       "        var display = window.getComputedStyle(gd).display;\n",
       "        if (!display || display === 'none') {{\n",
       "            console.log([gd, 'removed!']);\n",
       "            Plotly.purge(gd);\n",
       "            observer.disconnect();\n",
       "        }}\n",
       "}});\n",
       "\n",
       "// Listen for the removal of the full notebook cells\n",
       "var notebookContainer = gd.closest('#notebook-container');\n",
       "if (notebookContainer) {{\n",
       "    x.observe(notebookContainer, {childList: true});\n",
       "}}\n",
       "\n",
       "// Listen for the clearing of the current output cell\n",
       "var outputEl = gd.closest('.output');\n",
       "if (outputEl) {{\n",
       "    x.observe(outputEl, {childList: true});\n",
       "}}\n",
       "\n",
       "                        })                };                });            </script>        </div>"
      ]
     },
     "metadata": {},
     "output_type": "display_data"
    }
   ],
   "source": [
    "reload(cp)\n",
    "x = cp.simulate2()\n",
    "print(x)\n",
    "perfX, szY, rndYears = zip(*x)\n",
    "fig = go.Figure()\n",
    "fig.update_xaxes(range=[-5, 20])\n",
    "fig.update_yaxes(range=[0, 25])\n",
    "fig.update_layout(width=600, height=600)\n",
    "month = np.arange(0, 24, 1)\n",
    "fig.add_trace(go.Scatter(\n",
    "x=list(perfX),\n",
    "y=list(szY),\n",
    "mode=\"markers\",\n",
    "))\n",
    "\n",
    "for segment in cp.segments:\n",
    "    cx, cy, ix, iy = cp.segments[segment][\"pos\"]\n",
    "    dx, dy = cp.segments[segment][\"driftPerYear\"]\n",
    "    x0=cx-2.5\n",
    "    y0=cy-2.5\n",
    "    x1 = cx+2.5\n",
    "    y1=cy+2.5\n",
    "    fig.add_shape(type=\"circle\",\n",
    "        xref=\"x\", yref=\"y\",\n",
    "        x0=cx-2.5, y0=cy-2.5, x1 = cx+2.5, y1=cy+2.5,\n",
    "        line_color=\"LightSeaGreen\",\n",
    "    )\n",
    "    fig.add_trace(go.Scatter(\n",
    "        x=[cx],\n",
    "        y=[cy],\n",
    "        text=segment,\n",
    "        mode=\"text\",\n",
    "    ))\n",
    "    fig.add_trace(go.Scatter(\n",
    "        x=[3],\n",
    "        y=[17],\n",
    "        text=\"X\",\n",
    "        mode=\"text\",\n",
    "    ))\n",
    "    segmentX = [[0, ix], [1, ix+dx/12]]\n",
    "    segmentY = [[0, iy], [1, iy+dy/12]]\n",
    "    x = list(map(lambda x: cp.yy(segmentX, x, \"extrapolate\", \"extrapolate\"), month))\n",
    "    y = list(map(lambda x: cp.yy(segmentY, x, \"extrapolate\", \"extrapolate\"), month))\n",
    "    fig.add_trace(go.Scatter(\n",
    "    x=x,\n",
    "    y=y,\n",
    "    mode=\"lines\",\n",
    "    ))\n",
    "\n",
    "\n",
    "fig.show()\n"
   ]
  },
  {
   "cell_type": "code",
   "execution_count": 111,
   "id": "naughty-creation",
   "metadata": {},
   "outputs": [
    {
     "name": "stdout",
     "output_type": "stream",
     "text": [
      "dummy 6\n"
     ]
    },
    {
     "data": {
      "application/vnd.plotly.v1+json": {
       "config": {
        "plotlyServerURL": "https://plot.ly"
       },
       "data": [
        {
         "type": "histogram",
         "x": [
          478.1784111230021,
          466.5665827019494,
          454.95475428089674,
          443.3429258598443,
          431.7310974387914,
          420.1192690177389,
          408.50744059668625,
          396.8956121756336,
          385.283783754581,
          373.67195533352833,
          362.06012691247565,
          350.448298491423,
          338.83647007037047,
          327.2246416493178,
          315.6128132282651,
          304.00098480721243,
          292.3891563861599,
          280.77732796510725,
          269.1654995440546,
          0,
          484.945259670202,
          473.3334312491493,
          461.7216028280967,
          450.1097744070443,
          438.49794598599146,
          426.8861175649388,
          415.27428914388616,
          403.66246072283366,
          392.050632301781,
          380.4388038807283,
          368.82697545967574,
          357.21514703862294,
          345.6033186175704,
          333.99149019651776,
          322.37966177546514,
          310.76783335441246,
          299.1560049333599,
          287.5441765123073,
          275.93234809125465,
          0,
          491.71210821740203,
          480.10027979634935,
          468.48845137529673,
          456.8766229542442,
          445.2647945331915,
          433.65296611213864,
          422.04113769108625,
          410.4293092700336,
          398.817480848981,
          387.2056524279283,
          375.5938240068757,
          363.981995585823,
          352.37016716477035,
          340.75833874371773,
          329.1465103226651,
          317.5346819016125,
          305.92285348055987,
          294.31102505950724,
          282.69919663845457,
          0,
          495.30503007020206,
          483.69320164914933,
          472.0813732280967,
          460.46954480704414,
          448.8577163859916,
          437.24588796493885,
          425.6340595438862,
          414.0222311228336,
          402.4104027017809,
          390.79857428072836,
          379.1867458596757,
          367.574917438623,
          355.96308901757044,
          344.3512605965177,
          332.73943217546514,
          321.1276037544126,
          309.5157753333599,
          297.9039469123073,
          286.29211849125466,
          0,
          498.8979519230021,
          487.2861235019495,
          475.67429508089685,
          464.06246665984423,
          452.4506382387915,
          440.8388098177389,
          429.22698139668626,
          417.6151529756336,
          406.0033245545809,
          394.3914961335284,
          382.77966771247566,
          371.1678392914231,
          359.55601087037036,
          347.9441824493178,
          336.3323540282652,
          324.7205256072125,
          313.10869718615993,
          301.49686876510725,
          289.88504034405463,
          0,
          501.0377091190779,
          489.57613727697264,
          478.11456543486725,
          466.6529935927622,
          455.1914217506568,
          443.7298499085516,
          432.26827806644627,
          420.80670622434116,
          409.3451343822358,
          397.8835625401306,
          386.4219906980252,
          374.96041885592,
          363.49884701381467,
          352.03727517170944,
          340.57570332960415,
          329.1141314874989,
          317.65255964539364,
          306.19098780328835,
          294.72941596118307,
          0
         ]
        }
       ],
       "layout": {
        "autosize": true,
        "template": {
         "data": {
          "bar": [
           {
            "error_x": {
             "color": "#2a3f5f"
            },
            "error_y": {
             "color": "#2a3f5f"
            },
            "marker": {
             "line": {
              "color": "#E5ECF6",
              "width": 0.5
             }
            },
            "type": "bar"
           }
          ],
          "barpolar": [
           {
            "marker": {
             "line": {
              "color": "#E5ECF6",
              "width": 0.5
             }
            },
            "type": "barpolar"
           }
          ],
          "carpet": [
           {
            "aaxis": {
             "endlinecolor": "#2a3f5f",
             "gridcolor": "white",
             "linecolor": "white",
             "minorgridcolor": "white",
             "startlinecolor": "#2a3f5f"
            },
            "baxis": {
             "endlinecolor": "#2a3f5f",
             "gridcolor": "white",
             "linecolor": "white",
             "minorgridcolor": "white",
             "startlinecolor": "#2a3f5f"
            },
            "type": "carpet"
           }
          ],
          "choropleth": [
           {
            "colorbar": {
             "outlinewidth": 0,
             "ticks": ""
            },
            "type": "choropleth"
           }
          ],
          "contour": [
           {
            "colorbar": {
             "outlinewidth": 0,
             "ticks": ""
            },
            "colorscale": [
             [
              0,
              "#0d0887"
             ],
             [
              0.1111111111111111,
              "#46039f"
             ],
             [
              0.2222222222222222,
              "#7201a8"
             ],
             [
              0.3333333333333333,
              "#9c179e"
             ],
             [
              0.4444444444444444,
              "#bd3786"
             ],
             [
              0.5555555555555556,
              "#d8576b"
             ],
             [
              0.6666666666666666,
              "#ed7953"
             ],
             [
              0.7777777777777778,
              "#fb9f3a"
             ],
             [
              0.8888888888888888,
              "#fdca26"
             ],
             [
              1,
              "#f0f921"
             ]
            ],
            "type": "contour"
           }
          ],
          "contourcarpet": [
           {
            "colorbar": {
             "outlinewidth": 0,
             "ticks": ""
            },
            "type": "contourcarpet"
           }
          ],
          "heatmap": [
           {
            "colorbar": {
             "outlinewidth": 0,
             "ticks": ""
            },
            "colorscale": [
             [
              0,
              "#0d0887"
             ],
             [
              0.1111111111111111,
              "#46039f"
             ],
             [
              0.2222222222222222,
              "#7201a8"
             ],
             [
              0.3333333333333333,
              "#9c179e"
             ],
             [
              0.4444444444444444,
              "#bd3786"
             ],
             [
              0.5555555555555556,
              "#d8576b"
             ],
             [
              0.6666666666666666,
              "#ed7953"
             ],
             [
              0.7777777777777778,
              "#fb9f3a"
             ],
             [
              0.8888888888888888,
              "#fdca26"
             ],
             [
              1,
              "#f0f921"
             ]
            ],
            "type": "heatmap"
           }
          ],
          "heatmapgl": [
           {
            "colorbar": {
             "outlinewidth": 0,
             "ticks": ""
            },
            "colorscale": [
             [
              0,
              "#0d0887"
             ],
             [
              0.1111111111111111,
              "#46039f"
             ],
             [
              0.2222222222222222,
              "#7201a8"
             ],
             [
              0.3333333333333333,
              "#9c179e"
             ],
             [
              0.4444444444444444,
              "#bd3786"
             ],
             [
              0.5555555555555556,
              "#d8576b"
             ],
             [
              0.6666666666666666,
              "#ed7953"
             ],
             [
              0.7777777777777778,
              "#fb9f3a"
             ],
             [
              0.8888888888888888,
              "#fdca26"
             ],
             [
              1,
              "#f0f921"
             ]
            ],
            "type": "heatmapgl"
           }
          ],
          "histogram": [
           {
            "marker": {
             "colorbar": {
              "outlinewidth": 0,
              "ticks": ""
             }
            },
            "type": "histogram"
           }
          ],
          "histogram2d": [
           {
            "colorbar": {
             "outlinewidth": 0,
             "ticks": ""
            },
            "colorscale": [
             [
              0,
              "#0d0887"
             ],
             [
              0.1111111111111111,
              "#46039f"
             ],
             [
              0.2222222222222222,
              "#7201a8"
             ],
             [
              0.3333333333333333,
              "#9c179e"
             ],
             [
              0.4444444444444444,
              "#bd3786"
             ],
             [
              0.5555555555555556,
              "#d8576b"
             ],
             [
              0.6666666666666666,
              "#ed7953"
             ],
             [
              0.7777777777777778,
              "#fb9f3a"
             ],
             [
              0.8888888888888888,
              "#fdca26"
             ],
             [
              1,
              "#f0f921"
             ]
            ],
            "type": "histogram2d"
           }
          ],
          "histogram2dcontour": [
           {
            "colorbar": {
             "outlinewidth": 0,
             "ticks": ""
            },
            "colorscale": [
             [
              0,
              "#0d0887"
             ],
             [
              0.1111111111111111,
              "#46039f"
             ],
             [
              0.2222222222222222,
              "#7201a8"
             ],
             [
              0.3333333333333333,
              "#9c179e"
             ],
             [
              0.4444444444444444,
              "#bd3786"
             ],
             [
              0.5555555555555556,
              "#d8576b"
             ],
             [
              0.6666666666666666,
              "#ed7953"
             ],
             [
              0.7777777777777778,
              "#fb9f3a"
             ],
             [
              0.8888888888888888,
              "#fdca26"
             ],
             [
              1,
              "#f0f921"
             ]
            ],
            "type": "histogram2dcontour"
           }
          ],
          "mesh3d": [
           {
            "colorbar": {
             "outlinewidth": 0,
             "ticks": ""
            },
            "type": "mesh3d"
           }
          ],
          "parcoords": [
           {
            "line": {
             "colorbar": {
              "outlinewidth": 0,
              "ticks": ""
             }
            },
            "type": "parcoords"
           }
          ],
          "pie": [
           {
            "automargin": true,
            "type": "pie"
           }
          ],
          "scatter": [
           {
            "marker": {
             "colorbar": {
              "outlinewidth": 0,
              "ticks": ""
             }
            },
            "type": "scatter"
           }
          ],
          "scatter3d": [
           {
            "line": {
             "colorbar": {
              "outlinewidth": 0,
              "ticks": ""
             }
            },
            "marker": {
             "colorbar": {
              "outlinewidth": 0,
              "ticks": ""
             }
            },
            "type": "scatter3d"
           }
          ],
          "scattercarpet": [
           {
            "marker": {
             "colorbar": {
              "outlinewidth": 0,
              "ticks": ""
             }
            },
            "type": "scattercarpet"
           }
          ],
          "scattergeo": [
           {
            "marker": {
             "colorbar": {
              "outlinewidth": 0,
              "ticks": ""
             }
            },
            "type": "scattergeo"
           }
          ],
          "scattergl": [
           {
            "marker": {
             "colorbar": {
              "outlinewidth": 0,
              "ticks": ""
             }
            },
            "type": "scattergl"
           }
          ],
          "scattermapbox": [
           {
            "marker": {
             "colorbar": {
              "outlinewidth": 0,
              "ticks": ""
             }
            },
            "type": "scattermapbox"
           }
          ],
          "scatterpolar": [
           {
            "marker": {
             "colorbar": {
              "outlinewidth": 0,
              "ticks": ""
             }
            },
            "type": "scatterpolar"
           }
          ],
          "scatterpolargl": [
           {
            "marker": {
             "colorbar": {
              "outlinewidth": 0,
              "ticks": ""
             }
            },
            "type": "scatterpolargl"
           }
          ],
          "scatterternary": [
           {
            "marker": {
             "colorbar": {
              "outlinewidth": 0,
              "ticks": ""
             }
            },
            "type": "scatterternary"
           }
          ],
          "surface": [
           {
            "colorbar": {
             "outlinewidth": 0,
             "ticks": ""
            },
            "colorscale": [
             [
              0,
              "#0d0887"
             ],
             [
              0.1111111111111111,
              "#46039f"
             ],
             [
              0.2222222222222222,
              "#7201a8"
             ],
             [
              0.3333333333333333,
              "#9c179e"
             ],
             [
              0.4444444444444444,
              "#bd3786"
             ],
             [
              0.5555555555555556,
              "#d8576b"
             ],
             [
              0.6666666666666666,
              "#ed7953"
             ],
             [
              0.7777777777777778,
              "#fb9f3a"
             ],
             [
              0.8888888888888888,
              "#fdca26"
             ],
             [
              1,
              "#f0f921"
             ]
            ],
            "type": "surface"
           }
          ],
          "table": [
           {
            "cells": {
             "fill": {
              "color": "#EBF0F8"
             },
             "line": {
              "color": "white"
             }
            },
            "header": {
             "fill": {
              "color": "#C8D4E3"
             },
             "line": {
              "color": "white"
             }
            },
            "type": "table"
           }
          ]
         },
         "layout": {
          "annotationdefaults": {
           "arrowcolor": "#2a3f5f",
           "arrowhead": 0,
           "arrowwidth": 1
          },
          "autotypenumbers": "strict",
          "coloraxis": {
           "colorbar": {
            "outlinewidth": 0,
            "ticks": ""
           }
          },
          "colorscale": {
           "diverging": [
            [
             0,
             "#8e0152"
            ],
            [
             0.1,
             "#c51b7d"
            ],
            [
             0.2,
             "#de77ae"
            ],
            [
             0.3,
             "#f1b6da"
            ],
            [
             0.4,
             "#fde0ef"
            ],
            [
             0.5,
             "#f7f7f7"
            ],
            [
             0.6,
             "#e6f5d0"
            ],
            [
             0.7,
             "#b8e186"
            ],
            [
             0.8,
             "#7fbc41"
            ],
            [
             0.9,
             "#4d9221"
            ],
            [
             1,
             "#276419"
            ]
           ],
           "sequential": [
            [
             0,
             "#0d0887"
            ],
            [
             0.1111111111111111,
             "#46039f"
            ],
            [
             0.2222222222222222,
             "#7201a8"
            ],
            [
             0.3333333333333333,
             "#9c179e"
            ],
            [
             0.4444444444444444,
             "#bd3786"
            ],
            [
             0.5555555555555556,
             "#d8576b"
            ],
            [
             0.6666666666666666,
             "#ed7953"
            ],
            [
             0.7777777777777778,
             "#fb9f3a"
            ],
            [
             0.8888888888888888,
             "#fdca26"
            ],
            [
             1,
             "#f0f921"
            ]
           ],
           "sequentialminus": [
            [
             0,
             "#0d0887"
            ],
            [
             0.1111111111111111,
             "#46039f"
            ],
            [
             0.2222222222222222,
             "#7201a8"
            ],
            [
             0.3333333333333333,
             "#9c179e"
            ],
            [
             0.4444444444444444,
             "#bd3786"
            ],
            [
             0.5555555555555556,
             "#d8576b"
            ],
            [
             0.6666666666666666,
             "#ed7953"
            ],
            [
             0.7777777777777778,
             "#fb9f3a"
            ],
            [
             0.8888888888888888,
             "#fdca26"
            ],
            [
             1,
             "#f0f921"
            ]
           ]
          },
          "colorway": [
           "#636efa",
           "#EF553B",
           "#00cc96",
           "#ab63fa",
           "#FFA15A",
           "#19d3f3",
           "#FF6692",
           "#B6E880",
           "#FF97FF",
           "#FECB52"
          ],
          "font": {
           "color": "#2a3f5f"
          },
          "geo": {
           "bgcolor": "white",
           "lakecolor": "white",
           "landcolor": "#E5ECF6",
           "showlakes": true,
           "showland": true,
           "subunitcolor": "white"
          },
          "hoverlabel": {
           "align": "left"
          },
          "hovermode": "closest",
          "mapbox": {
           "style": "light"
          },
          "paper_bgcolor": "white",
          "plot_bgcolor": "#E5ECF6",
          "polar": {
           "angularaxis": {
            "gridcolor": "white",
            "linecolor": "white",
            "ticks": ""
           },
           "bgcolor": "#E5ECF6",
           "radialaxis": {
            "gridcolor": "white",
            "linecolor": "white",
            "ticks": ""
           }
          },
          "scene": {
           "xaxis": {
            "backgroundcolor": "#E5ECF6",
            "gridcolor": "white",
            "gridwidth": 2,
            "linecolor": "white",
            "showbackground": true,
            "ticks": "",
            "zerolinecolor": "white"
           },
           "yaxis": {
            "backgroundcolor": "#E5ECF6",
            "gridcolor": "white",
            "gridwidth": 2,
            "linecolor": "white",
            "showbackground": true,
            "ticks": "",
            "zerolinecolor": "white"
           },
           "zaxis": {
            "backgroundcolor": "#E5ECF6",
            "gridcolor": "white",
            "gridwidth": 2,
            "linecolor": "white",
            "showbackground": true,
            "ticks": "",
            "zerolinecolor": "white"
           }
          },
          "shapedefaults": {
           "line": {
            "color": "#2a3f5f"
           }
          },
          "ternary": {
           "aaxis": {
            "gridcolor": "white",
            "linecolor": "white",
            "ticks": ""
           },
           "baxis": {
            "gridcolor": "white",
            "linecolor": "white",
            "ticks": ""
           },
           "bgcolor": "#E5ECF6",
           "caxis": {
            "gridcolor": "white",
            "linecolor": "white",
            "ticks": ""
           }
          },
          "title": {
           "x": 0.05
          },
          "xaxis": {
           "automargin": true,
           "gridcolor": "white",
           "linecolor": "white",
           "ticks": "",
           "title": {
            "standoff": 15
           },
           "zerolinecolor": "white",
           "zerolinewidth": 2
          },
          "yaxis": {
           "automargin": true,
           "gridcolor": "white",
           "linecolor": "white",
           "ticks": "",
           "title": {
            "standoff": 15
           },
           "zerolinecolor": "white",
           "zerolinewidth": 2
          }
         }
        },
        "xaxis": {
         "autorange": true,
         "range": [
          -25,
          525
         ],
         "type": "linear"
        },
        "yaxis": {
         "autorange": true,
         "range": [
          0,
          27.36842105263158
         ]
        }
       }
      },
      "image/png": "[encoded data removed]",
      "text/html": [
       "<div>                            <div id=\"56573b7b-c07e-4073-a047-257cef10db27\" class=\"plotly-graph-div\" style=\"height:525px; width:100%;\"></div>            <script type=\"text/javascript\">                require([\"plotly\"], function(Plotly) {                    window.PLOTLYENV=window.PLOTLYENV || {};                                    if (document.getElementById(\"56573b7b-c07e-4073-a047-257cef10db27\")) {                    Plotly.newPlot(                        \"56573b7b-c07e-4073-a047-257cef10db27\",                        [{\"type\": \"histogram\", \"x\": [478.1784111230021, 466.5665827019494, 454.95475428089674, 443.3429258598443, 431.7310974387914, 420.1192690177389, 408.50744059668625, 396.8956121756336, 385.283783754581, 373.67195533352833, 362.06012691247565, 350.448298491423, 338.83647007037047, 327.2246416493178, 315.6128132282651, 304.00098480721243, 292.3891563861599, 280.77732796510725, 269.1654995440546, 0, 484.945259670202, 473.3334312491493, 461.7216028280967, 450.1097744070443, 438.49794598599146, 426.8861175649388, 415.27428914388616, 403.66246072283366, 392.050632301781, 380.4388038807283, 368.82697545967574, 357.21514703862294, 345.6033186175704, 333.99149019651776, 322.37966177546514, 310.76783335441246, 299.1560049333599, 287.5441765123073, 275.93234809125465, 0, 491.71210821740203, 480.10027979634935, 468.48845137529673, 456.8766229542442, 445.2647945331915, 433.65296611213864, 422.04113769108625, 410.4293092700336, 398.817480848981, 387.2056524279283, 375.5938240068757, 363.981995585823, 352.37016716477035, 340.75833874371773, 329.1465103226651, 317.5346819016125, 305.92285348055987, 294.31102505950724, 282.69919663845457, 0, 495.30503007020206, 483.69320164914933, 472.0813732280967, 460.46954480704414, 448.8577163859916, 437.24588796493885, 425.6340595438862, 414.0222311228336, 402.4104027017809, 390.79857428072836, 379.1867458596757, 367.574917438623, 355.96308901757044, 344.3512605965177, 332.73943217546514, 321.1276037544126, 309.5157753333599, 297.9039469123073, 286.29211849125466, 0, 498.8979519230021, 487.2861235019495, 475.67429508089685, 464.06246665984423, 452.4506382387915, 440.8388098177389, 429.22698139668626, 417.6151529756336, 406.0033245545809, 394.3914961335284, 382.77966771247566, 371.1678392914231, 359.55601087037036, 347.9441824493178, 336.3323540282652, 324.7205256072125, 313.10869718615993, 301.49686876510725, 289.88504034405463, 0, 501.0377091190779, 489.57613727697264, 478.11456543486725, 466.6529935927622, 455.1914217506568, 443.7298499085516, 432.26827806644627, 420.80670622434116, 409.3451343822358, 397.8835625401306, 386.4219906980252, 374.96041885592, 363.49884701381467, 352.03727517170944, 340.57570332960415, 329.1141314874989, 317.65255964539364, 306.19098780328835, 294.72941596118307, 0]}],                        {\"template\": {\"data\": {\"bar\": [{\"error_x\": {\"color\": \"#2a3f5f\"}, \"error_y\": {\"color\": \"#2a3f5f\"}, \"marker\": {\"line\": {\"color\": \"#E5ECF6\", \"width\": 0.5}}, \"type\": \"bar\"}], \"barpolar\": [{\"marker\": {\"line\": {\"color\": \"#E5ECF6\", \"width\": 0.5}}, \"type\": \"barpolar\"}], \"carpet\": [{\"aaxis\": {\"endlinecolor\": \"#2a3f5f\", \"gridcolor\": \"white\", \"linecolor\": \"white\", \"minorgridcolor\": \"white\", \"startlinecolor\": \"#2a3f5f\"}, \"baxis\": {\"endlinecolor\": \"#2a3f5f\", \"gridcolor\": \"white\", \"linecolor\": \"white\", \"minorgridcolor\": \"white\", \"startlinecolor\": \"#2a3f5f\"}, \"type\": \"carpet\"}], \"choropleth\": [{\"colorbar\": {\"outlinewidth\": 0, \"ticks\": \"\"}, \"type\": \"choropleth\"}], \"contour\": [{\"colorbar\": {\"outlinewidth\": 0, \"ticks\": \"\"}, \"colorscale\": [[0.0, \"#0d0887\"], [0.1111111111111111, \"#46039f\"], [0.2222222222222222, \"#7201a8\"], [0.3333333333333333, \"#9c179e\"], [0.4444444444444444, \"#bd3786\"], [0.5555555555555556, \"#d8576b\"], [0.6666666666666666, \"#ed7953\"], [0.7777777777777778, \"#fb9f3a\"], [0.8888888888888888, \"#fdca26\"], [1.0, \"#f0f921\"]], \"type\": \"contour\"}], \"contourcarpet\": [{\"colorbar\": {\"outlinewidth\": 0, \"ticks\": \"\"}, \"type\": \"contourcarpet\"}], \"heatmap\": [{\"colorbar\": {\"outlinewidth\": 0, \"ticks\": \"\"}, \"colorscale\": [[0.0, \"#0d0887\"], [0.1111111111111111, \"#46039f\"], [0.2222222222222222, \"#7201a8\"], [0.3333333333333333, \"#9c179e\"], [0.4444444444444444, \"#bd3786\"], [0.5555555555555556, \"#d8576b\"], [0.6666666666666666, \"#ed7953\"], [0.7777777777777778, \"#fb9f3a\"], [0.8888888888888888, \"#fdca26\"], [1.0, \"#f0f921\"]], \"type\": \"heatmap\"}], \"heatmapgl\": [{\"colorbar\": {\"outlinewidth\": 0, \"ticks\": \"\"}, \"colorscale\": [[0.0, \"#0d0887\"], [0.1111111111111111, \"#46039f\"], [0.2222222222222222, \"#7201a8\"], [0.3333333333333333, \"#9c179e\"], [0.4444444444444444, \"#bd3786\"], [0.5555555555555556, \"#d8576b\"], [0.6666666666666666, \"#ed7953\"], [0.7777777777777778, \"#fb9f3a\"], [0.8888888888888888, \"#fdca26\"], [1.0, \"#f0f921\"]], \"type\": \"heatmapgl\"}], \"histogram\": [{\"marker\": {\"colorbar\": {\"outlinewidth\": 0, \"ticks\": \"\"}}, \"type\": \"histogram\"}], \"histogram2d\": [{\"colorbar\": {\"outlinewidth\": 0, \"ticks\": \"\"}, \"colorscale\": [[0.0, \"#0d0887\"], [0.1111111111111111, \"#46039f\"], [0.2222222222222222, \"#7201a8\"], [0.3333333333333333, \"#9c179e\"], [0.4444444444444444, \"#bd3786\"], [0.5555555555555556, \"#d8576b\"], [0.6666666666666666, \"#ed7953\"], [0.7777777777777778, \"#fb9f3a\"], [0.8888888888888888, \"#fdca26\"], [1.0, \"#f0f921\"]], \"type\": \"histogram2d\"}], \"histogram2dcontour\": [{\"colorbar\": {\"outlinewidth\": 0, \"ticks\": \"\"}, \"colorscale\": [[0.0, \"#0d0887\"], [0.1111111111111111, \"#46039f\"], [0.2222222222222222, \"#7201a8\"], [0.3333333333333333, \"#9c179e\"], [0.4444444444444444, \"#bd3786\"], [0.5555555555555556, \"#d8576b\"], [0.6666666666666666, \"#ed7953\"], [0.7777777777777778, \"#fb9f3a\"], [0.8888888888888888, \"#fdca26\"], [1.0, \"#f0f921\"]], \"type\": \"histogram2dcontour\"}], \"mesh3d\": [{\"colorbar\": {\"outlinewidth\": 0, \"ticks\": \"\"}, \"type\": \"mesh3d\"}], \"parcoords\": [{\"line\": {\"colorbar\": {\"outlinewidth\": 0, \"ticks\": \"\"}}, \"type\": \"parcoords\"}], \"pie\": [{\"automargin\": true, \"type\": \"pie\"}], \"scatter\": [{\"marker\": {\"colorbar\": {\"outlinewidth\": 0, \"ticks\": \"\"}}, \"type\": \"scatter\"}], \"scatter3d\": [{\"line\": {\"colorbar\": {\"outlinewidth\": 0, \"ticks\": \"\"}}, \"marker\": {\"colorbar\": {\"outlinewidth\": 0, \"ticks\": \"\"}}, \"type\": \"scatter3d\"}], \"scattercarpet\": [{\"marker\": {\"colorbar\": {\"outlinewidth\": 0, \"ticks\": \"\"}}, \"type\": \"scattercarpet\"}], \"scattergeo\": [{\"marker\": {\"colorbar\": {\"outlinewidth\": 0, \"ticks\": \"\"}}, \"type\": \"scattergeo\"}], \"scattergl\": [{\"marker\": {\"colorbar\": {\"outlinewidth\": 0, \"ticks\": \"\"}}, \"type\": \"scattergl\"}], \"scattermapbox\": [{\"marker\": {\"colorbar\": {\"outlinewidth\": 0, \"ticks\": \"\"}}, \"type\": \"scattermapbox\"}], \"scatterpolar\": [{\"marker\": {\"colorbar\": {\"outlinewidth\": 0, \"ticks\": \"\"}}, \"type\": \"scatterpolar\"}], \"scatterpolargl\": [{\"marker\": {\"colorbar\": {\"outlinewidth\": 0, \"ticks\": \"\"}}, \"type\": \"scatterpolargl\"}], \"scatterternary\": [{\"marker\": {\"colorbar\": {\"outlinewidth\": 0, \"ticks\": \"\"}}, \"type\": \"scatterternary\"}], \"surface\": [{\"colorbar\": {\"outlinewidth\": 0, \"ticks\": \"\"}, \"colorscale\": [[0.0, \"#0d0887\"], [0.1111111111111111, \"#46039f\"], [0.2222222222222222, \"#7201a8\"], [0.3333333333333333, \"#9c179e\"], [0.4444444444444444, \"#bd3786\"], [0.5555555555555556, \"#d8576b\"], [0.6666666666666666, \"#ed7953\"], [0.7777777777777778, \"#fb9f3a\"], [0.8888888888888888, \"#fdca26\"], [1.0, \"#f0f921\"]], \"type\": \"surface\"}], \"table\": [{\"cells\": {\"fill\": {\"color\": \"#EBF0F8\"}, \"line\": {\"color\": \"white\"}}, \"header\": {\"fill\": {\"color\": \"#C8D4E3\"}, \"line\": {\"color\": \"white\"}}, \"type\": \"table\"}]}, \"layout\": {\"annotationdefaults\": {\"arrowcolor\": \"#2a3f5f\", \"arrowhead\": 0, \"arrowwidth\": 1}, \"autotypenumbers\": \"strict\", \"coloraxis\": {\"colorbar\": {\"outlinewidth\": 0, \"ticks\": \"\"}}, \"colorscale\": {\"diverging\": [[0, \"#8e0152\"], [0.1, \"#c51b7d\"], [0.2, \"#de77ae\"], [0.3, \"#f1b6da\"], [0.4, \"#fde0ef\"], [0.5, \"#f7f7f7\"], [0.6, \"#e6f5d0\"], [0.7, \"#b8e186\"], [0.8, \"#7fbc41\"], [0.9, \"#4d9221\"], [1, \"#276419\"]], \"sequential\": [[0.0, \"#0d0887\"], [0.1111111111111111, \"#46039f\"], [0.2222222222222222, \"#7201a8\"], [0.3333333333333333, \"#9c179e\"], [0.4444444444444444, \"#bd3786\"], [0.5555555555555556, \"#d8576b\"], [0.6666666666666666, \"#ed7953\"], [0.7777777777777778, \"#fb9f3a\"], [0.8888888888888888, \"#fdca26\"], [1.0, \"#f0f921\"]], \"sequentialminus\": [[0.0, \"#0d0887\"], [0.1111111111111111, \"#46039f\"], [0.2222222222222222, \"#7201a8\"], [0.3333333333333333, \"#9c179e\"], [0.4444444444444444, \"#bd3786\"], [0.5555555555555556, \"#d8576b\"], [0.6666666666666666, \"#ed7953\"], [0.7777777777777778, \"#fb9f3a\"], [0.8888888888888888, \"#fdca26\"], [1.0, \"#f0f921\"]]}, \"colorway\": [\"#636efa\", \"#EF553B\", \"#00cc96\", \"#ab63fa\", \"#FFA15A\", \"#19d3f3\", \"#FF6692\", \"#B6E880\", \"#FF97FF\", \"#FECB52\"], \"font\": {\"color\": \"#2a3f5f\"}, \"geo\": {\"bgcolor\": \"white\", \"lakecolor\": \"white\", \"landcolor\": \"#E5ECF6\", \"showlakes\": true, \"showland\": true, \"subunitcolor\": \"white\"}, \"hoverlabel\": {\"align\": \"left\"}, \"hovermode\": \"closest\", \"mapbox\": {\"style\": \"light\"}, \"paper_bgcolor\": \"white\", \"plot_bgcolor\": \"#E5ECF6\", \"polar\": {\"angularaxis\": {\"gridcolor\": \"white\", \"linecolor\": \"white\", \"ticks\": \"\"}, \"bgcolor\": \"#E5ECF6\", \"radialaxis\": {\"gridcolor\": \"white\", \"linecolor\": \"white\", \"ticks\": \"\"}}, \"scene\": {\"xaxis\": {\"backgroundcolor\": \"#E5ECF6\", \"gridcolor\": \"white\", \"gridwidth\": 2, \"linecolor\": \"white\", \"showbackground\": true, \"ticks\": \"\", \"zerolinecolor\": \"white\"}, \"yaxis\": {\"backgroundcolor\": \"#E5ECF6\", \"gridcolor\": \"white\", \"gridwidth\": 2, \"linecolor\": \"white\", \"showbackground\": true, \"ticks\": \"\", \"zerolinecolor\": \"white\"}, \"zaxis\": {\"backgroundcolor\": \"#E5ECF6\", \"gridcolor\": \"white\", \"gridwidth\": 2, \"linecolor\": \"white\", \"showbackground\": true, \"ticks\": \"\", \"zerolinecolor\": \"white\"}}, \"shapedefaults\": {\"line\": {\"color\": \"#2a3f5f\"}}, \"ternary\": {\"aaxis\": {\"gridcolor\": \"white\", \"linecolor\": \"white\", \"ticks\": \"\"}, \"baxis\": {\"gridcolor\": \"white\", \"linecolor\": \"white\", \"ticks\": \"\"}, \"bgcolor\": \"#E5ECF6\", \"caxis\": {\"gridcolor\": \"white\", \"linecolor\": \"white\", \"ticks\": \"\"}}, \"title\": {\"x\": 0.05}, \"xaxis\": {\"automargin\": true, \"gridcolor\": \"white\", \"linecolor\": \"white\", \"ticks\": \"\", \"title\": {\"standoff\": 15}, \"zerolinecolor\": \"white\", \"zerolinewidth\": 2}, \"yaxis\": {\"automargin\": true, \"gridcolor\": \"white\", \"linecolor\": \"white\", \"ticks\": \"\", \"title\": {\"standoff\": 15}, \"zerolinecolor\": \"white\", \"zerolinewidth\": 2}}}},                        {\"responsive\": true}                    ).then(function(){\n",
       "                            \n",
       "var gd = document.getElementById('56573b7b-c07e-4073-a047-257cef10db27');\n",
       "var x = new MutationObserver(function (mutations, observer) {{\n",
       "        var display = window.getComputedStyle(gd).display;\n",
       "        if (!display || display === 'none') {{\n",
       "            console.log([gd, 'removed!']);\n",
       "            Plotly.purge(gd);\n",
       "            observer.disconnect();\n",
       "        }}\n",
       "}});\n",
       "\n",
       "// Listen for the removal of the full notebook cells\n",
       "var notebookContainer = gd.closest('#notebook-container');\n",
       "if (notebookContainer) {{\n",
       "    x.observe(notebookContainer, {childList: true});\n",
       "}}\n",
       "\n",
       "// Listen for the clearing of the current output cell\n",
       "var outputEl = gd.closest('.output');\n",
       "if (outputEl) {{\n",
       "    x.observe(outputEl, {childList: true});\n",
       "}}\n",
       "\n",
       "                        })                };                });            </script>        </div>"
      ]
     },
     "metadata": {},
     "output_type": "display_data"
    },
    {
     "name": "stdout",
     "output_type": "stream",
     "text": [
      "120\n"
     ]
    }
   ],
   "source": [
    "reload(cp)\n",
    "x = cp.simulate2()\n",
    "fig = go.Figure(data=[go.Histogram(x=x)])\n",
    "fig.show()\n",
    "print(len(x))"
   ]
  },
  {
   "cell_type": "code",
   "execution_count": null,
   "id": "nominated-aspect",
   "metadata": {},
   "outputs": [],
   "source": [
    "x = np.linspace(0, 24, 50)\n",
    "plot(x, lambda x: cp.awareness(x, .5))"
   ]
  },
  {
   "cell_type": "code",
   "execution_count": null,
   "id": "explicit-treasure",
   "metadata": {},
   "outputs": [],
   "source": [
    "#segments\n",
    "for segment in cp.segments:\n",
    "    l, u = cp.segments[segment][\"age\"][0][0], cp.segments[segment][\"age\"][-1][1]\n",
    "    print(l, u)\n",
    "    print(segment)\n",
    "    plot(np.linspace(l, u, 100), lambda x: cp.age(segment, x))"
   ]
  },
  {
   "cell_type": "code",
   "execution_count": null,
   "id": "minus-visitor",
   "metadata": {},
   "outputs": [],
   "source": [
    "# price\n",
    "for segment in cp.segments:\n",
    "    l, u = cp.segments[segment][\"price\"]\n",
    "    print(l, u)\n",
    "    print(segment)\n",
    "    plot(np.linspace(l, u, 100), lambda x: cp.price(segment, x))"
   ]
  },
  {
   "cell_type": "code",
   "execution_count": null,
   "id": "earned-crest",
   "metadata": {},
   "outputs": [],
   "source": [
    "# mtbf\n",
    "for segment in cp.segments:\n",
    "    l, u = cp.segments[segment][\"mtbf\"]\n",
    "    print(l, u)\n",
    "    print(segment)\n",
    "    plot(np.linspace(l-5000, u, 100), lambda x: cp.mtbf(segment, x))"
   ]
  },
  {
   "cell_type": "code",
   "execution_count": null,
   "id": "australian-fighter",
   "metadata": {},
   "outputs": [],
   "source": [
    "# position\n",
    "for segment in cp.segments:\n",
    "    cx, cy, ix, iy = cp.segments[segment][\"pos\"]\n",
    "    x = np.outer(np.linspace(cx-3.54, cx+3.54, 30), np.ones(30))\n",
    "    y = np.outer(np.linspace(cy-3.54, cy+3.54, 30), np.ones(30)).T\n",
    "    zipped = zip(np.reshape(x, -1), np.reshape(y, -1))\n",
    "\n",
    "    def mapper(p):\n",
    "        x, y = p\n",
    "        ret = cp.position(segment, x, y)\n",
    "#         ret = x+y\n",
    "        return ret\n",
    "    z = np.reshape(np.fromiter(map(mapper, zipped), float), (30, 30))\n",
    "\n",
    "    go.Figure(data=go.Surface(x=x, y=y, z=z)).show()\n",
    "\n"
   ]
  },
  {
   "cell_type": "code",
   "execution_count": null,
   "id": "advance-closure",
   "metadata": {},
   "outputs": [],
   "source": [
    "xx = []\n",
    "yy = []\n",
    "zz = []\n",
    "x, y = np.linspace(0, 10, 9), np.linspace(0, 10, 9)\n",
    "\n",
    "for i in x:\n",
    "    for j in y:\n",
    "        k = i+j\n",
    "        xx.append(i)\n",
    "        yy.append(j)\n",
    "        zz.append(k)\n",
    "\n",
    "print(yy)\n",
    "go.Figure(data=go.Surface(x=xx, y=yy, z=zz)).show()\n",
    "        \n"
   ]
  },
  {
   "cell_type": "code",
   "execution_count": null,
   "id": "adjusted-guinea",
   "metadata": {},
   "outputs": [],
   "source": [
    "import plotly.graph_objects as go \n",
    "import numpy as np \n",
    "  \n",
    "x = np.outer(np.linspace(-2, 2, 30), np.ones(30)) \n",
    "y = x.copy().T \n",
    "z = np.cos(x ** 2 + y ** 2) \n",
    "print(y)\n",
    "fig = go.Figure(data=[go.Surface(x=x, y=y, z=z)]) \n",
    "  \n",
    "fig.show() \n"
   ]
  },
  {
   "cell_type": "code",
   "execution_count": null,
   "id": "advanced-conjunction",
   "metadata": {},
   "outputs": [],
   "source": [
    "x = np.linspace(.2, 8, 100)\n",
    "aut4 = [[.2, .187], [.4, .246], [.6, .332], [1,.55 ], [2, 1.161], [4, 2.03], [8, 2.569]]\n",
    "aut5 = [[.2, .248], [.4, .307], [.6, .393], [1, .611], [2, 1.222], [4, 2.091], [8, 2.630]]\n",
    "aut3 = [[.2, .150], [.4, .209], [.6, .295], [1, .513], [2, 1.124], [4, 1.993], [8, 2.532]]\n",
    "fig = go.Figure()\n",
    "fig.add_trace(go.Scatter(x=x, y=list(map(lambda x: cp.yy(aut3, x)*12, x)),\n",
    "                    mode='lines+markers',\n",
    "                    name='aut3'))\n",
    "fig.add_trace(go.Scatter(x=x, y=list(map(lambda x: cp.yy(aut4, x)*12, x)),\n",
    "                    mode='lines+markers',\n",
    "                    name='aut4'))\n",
    "fig.add_trace(go.Scatter(x=x, y=list(map(lambda x: cp.yy(aut5, x)*12, x)),\n",
    "                    mode='lines+markers',\n",
    "                    name='aut5'))\n",
    "fig.show()"
   ]
  },
  {
   "cell_type": "code",
   "execution_count": null,
   "id": "impossible-reach",
   "metadata": {},
   "outputs": [],
   "source": [
    "x = np.linspace(0, .46, 100)\n",
    "y = list(map(lambda x: cp.y(cp.awarenessSegments, x), x))\n",
    "fig = go.Figure()\n",
    "fig.add_trace(go.Scatter(x=y, y=x,\n",
    "                    mode='lines+markers',\n",
    "                    name='accesibility'))\n"
   ]
  },
  {
   "cell_type": "code",
   "execution_count": null,
   "id": "collect-nepal",
   "metadata": {},
   "outputs": [],
   "source": [
    "x = np.linspace(.001, .399, 50)\n",
    "ll = []\n",
    "for a in x:\n",
    "    cp.pc = a\n",
    "    ll.append(cp.testScore())\n",
    "base, final = zip(*ll)\n",
    "fig = go.Figure()\n",
    "fig.add_trace(go.Scatter(x=x, y=base,\n",
    "                    mode='lines+markers',\n",
    "                    name='base'))\n",
    "fig.add_trace(go.Scatter(x=x, y=final,\n",
    "                    mode='lines+markers',\n",
    "                    name='final'))\n"
   ]
  },
  {
   "cell_type": "code",
   "execution_count": null,
   "id": "sudden-speaking",
   "metadata": {},
   "outputs": [],
   "source": []
  }
 ],
 "metadata": {
  "kernelspec": {
   "display_name": "Python 3",
   "language": "python",
   "name": "python3"
  },
  "language_info": {
   "codemirror_mode": {
    "name": "ipython",
    "version": 3
   },
   "file_extension": ".py",
   "mimetype": "text/x-python",
   "name": "python",
   "nbconvert_exporter": "python",
   "pygments_lexer": "ipython3",
   "version": "3.8.5"
  }
 },
 "nbformat": 4,
 "nbformat_minor": 5
}
